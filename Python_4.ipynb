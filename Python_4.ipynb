{
  "nbformat": 4,
  "nbformat_minor": 0,
  "metadata": {
    "colab": {
      "provenance": [],
      "include_colab_link": true
    },
    "kernelspec": {
      "name": "python3",
      "display_name": "Python 3"
    },
    "language_info": {
      "name": "python"
    }
  },
  "cells": [
    {
      "cell_type": "markdown",
      "metadata": {
        "id": "view-in-github",
        "colab_type": "text"
      },
      "source": [
        "<a href=\"https://colab.research.google.com/github/michalhal92/kurs-analityka-danych/blob/main/Python_4.ipynb\" target=\"_parent\"><img src=\"https://colab.research.google.com/assets/colab-badge.svg\" alt=\"Open In Colab\"/></a>"
      ]
    },
    {
      "cell_type": "code",
      "source": [],
      "metadata": {
        "id": "FsD5KqsuwmM-"
      },
      "execution_count": null,
      "outputs": []
    },
    {
      "cell_type": "code",
      "source": [
        "print(dlugosc)"
      ],
      "metadata": {
        "colab": {
          "base_uri": "https://localhost:8080/"
        },
        "id": "SS4D4Xmdwq_u",
        "outputId": "89a28c04-9d25-4d2c-876c-b81fd8d2e143"
      },
      "execution_count": null,
      "outputs": [
        {
          "output_type": "stream",
          "name": "stdout",
          "text": [
            "6\n"
          ]
        }
      ]
    },
    {
      "cell_type": "markdown",
      "source": [
        "Funkcje"
      ],
      "metadata": {
        "id": "9GE1SO8B6K1T"
      }
    },
    {
      "cell_type": "code",
      "execution_count": null,
      "metadata": {
        "id": "3MqpDTCd564A",
        "colab": {
          "base_uri": "https://localhost:8080/"
        },
        "outputId": "e38f3fa5-4196-4cd0-d047-9156d564d558"
      },
      "outputs": [
        {
          "output_type": "stream",
          "name": "stdout",
          "text": [
            "6\n"
          ]
        }
      ],
      "source": [
        "tekst = \"Witaj!\"\n",
        "dlugosc = len(tekst)\n",
        "print(dlugosc)"
      ]
    },
    {
      "cell_type": "code",
      "source": [
        "str(32)"
      ],
      "metadata": {
        "id": "QHjNSX6O6Wyk",
        "colab": {
          "base_uri": "https://localhost:8080/",
          "height": 35
        },
        "outputId": "19251853-2139-4cb3-a56c-36dcd46fa2ba"
      },
      "execution_count": null,
      "outputs": [
        {
          "output_type": "execute_result",
          "data": {
            "text/plain": [
              "'32'"
            ],
            "application/vnd.google.colaboratory.intrinsic+json": {
              "type": "string"
            }
          },
          "metadata": {},
          "execution_count": 8
        }
      ]
    },
    {
      "cell_type": "code",
      "source": [
        "int(4.01)"
      ],
      "metadata": {
        "colab": {
          "base_uri": "https://localhost:8080/"
        },
        "id": "Xo_dFU1_w_Vz",
        "outputId": "f1bf7089-5360-457f-af13-fb840bb4fb98"
      },
      "execution_count": null,
      "outputs": [
        {
          "output_type": "execute_result",
          "data": {
            "text/plain": [
              "4"
            ]
          },
          "metadata": {},
          "execution_count": 9
        }
      ]
    },
    {
      "cell_type": "code",
      "source": [
        "float(4)"
      ],
      "metadata": {
        "colab": {
          "base_uri": "https://localhost:8080/"
        },
        "id": "ecOW1-jvxC3p",
        "outputId": "2627fc8a-c908-49a1-f113-da754f04db41"
      },
      "execution_count": null,
      "outputs": [
        {
          "output_type": "execute_result",
          "data": {
            "text/plain": [
              "4.0"
            ]
          },
          "metadata": {},
          "execution_count": 10
        }
      ]
    },
    {
      "cell_type": "code",
      "source": [
        "type(dlugosc)"
      ],
      "metadata": {
        "id": "4F3P8-r1M0nd",
        "colab": {
          "base_uri": "https://localhost:8080/"
        },
        "outputId": "4ba840e9-5c87-46bb-8a5d-7690538fdbd4"
      },
      "execution_count": null,
      "outputs": [
        {
          "output_type": "execute_result",
          "data": {
            "text/plain": [
              "int"
            ]
          },
          "metadata": {},
          "execution_count": 11
        }
      ]
    },
    {
      "cell_type": "code",
      "source": [
        "type(tekst)"
      ],
      "metadata": {
        "colab": {
          "base_uri": "https://localhost:8080/"
        },
        "id": "_ivfpiaPxIqt",
        "outputId": "64909007-b439-41e8-8575-d298dcd2f46c"
      },
      "execution_count": null,
      "outputs": [
        {
          "output_type": "execute_result",
          "data": {
            "text/plain": [
              "str"
            ]
          },
          "metadata": {},
          "execution_count": 12
        }
      ]
    },
    {
      "cell_type": "code",
      "source": [
        "list_of_numbers = [2, 4, 5, 3, 1]\n",
        "\n",
        "min_value = min(list_of_numbers)\n",
        "max_value = max(list_of_numbers)\n",
        "\n",
        "print(min_value)\n",
        "print(max_value)"
      ],
      "metadata": {
        "id": "jyx-5Td_6imj",
        "colab": {
          "base_uri": "https://localhost:8080/"
        },
        "outputId": "2b42357e-ebe1-4df9-c3f7-1cde14f7c6cb"
      },
      "execution_count": null,
      "outputs": [
        {
          "output_type": "stream",
          "name": "stdout",
          "text": [
            "1\n",
            "5\n"
          ]
        }
      ]
    },
    {
      "cell_type": "code",
      "source": [
        "sorted_numbers = sorted(list_of_numbers)\n",
        "print(sorted_numbers)"
      ],
      "metadata": {
        "id": "g5i20FiiN6it",
        "colab": {
          "base_uri": "https://localhost:8080/"
        },
        "outputId": "f2364f52-b011-4e9b-b036-5a68b756c0b6"
      },
      "execution_count": null,
      "outputs": [
        {
          "output_type": "stream",
          "name": "stdout",
          "text": [
            "[1, 2, 3, 4, 5]\n"
          ]
        }
      ]
    },
    {
      "cell_type": "code",
      "source": [
        "number = 3.14159\n",
        "print(round(number, 2))"
      ],
      "metadata": {
        "id": "To8V5WQLOTUd",
        "colab": {
          "base_uri": "https://localhost:8080/"
        },
        "outputId": "52fbdca9-8bad-4ea4-dcd8-864ccfad6b58"
      },
      "execution_count": null,
      "outputs": [
        {
          "output_type": "stream",
          "name": "stdout",
          "text": [
            "3.14\n"
          ]
        }
      ]
    },
    {
      "cell_type": "code",
      "source": [
        "# sprawdza czy dany obiekt jest konkretnym typem zmiennej\n",
        "isinstance(number, list)"
      ],
      "metadata": {
        "id": "TIC60NsitzCH",
        "colab": {
          "base_uri": "https://localhost:8080/"
        },
        "outputId": "ada1abe3-b7f1-4e3b-80ec-35be32496ca0"
      },
      "execution_count": null,
      "outputs": [
        {
          "output_type": "execute_result",
          "data": {
            "text/plain": [
              "False"
            ]
          },
          "metadata": {},
          "execution_count": 16
        }
      ]
    },
    {
      "cell_type": "code",
      "source": [
        "# sprawdza czy dany obiekt jest konkretnym typem zmiennej\n",
        "isinstance(list_of_numbers, list)"
      ],
      "metadata": {
        "colab": {
          "base_uri": "https://localhost:8080/"
        },
        "id": "O_9TnQt3xgz4",
        "outputId": "10e8321e-efbc-4c8f-bb91-4245688232ad"
      },
      "execution_count": null,
      "outputs": [
        {
          "output_type": "execute_result",
          "data": {
            "text/plain": [
              "True"
            ]
          },
          "metadata": {},
          "execution_count": 20
        }
      ]
    },
    {
      "cell_type": "markdown",
      "source": [
        "Funkcje a metody"
      ],
      "metadata": {
        "id": "wMQrSdW1OzwP"
      }
    },
    {
      "cell_type": "code",
      "source": [
        "# Funkcja\n",
        "\n",
        "numbers = [1, 2, 3]\n",
        "length = len(numbers)  # len() to funkcja wbudowana, która zwraca długość listy\n",
        "print(length)  # Wynik: 3"
      ],
      "metadata": {
        "id": "eSzEVtl0Pki0",
        "colab": {
          "base_uri": "https://localhost:8080/"
        },
        "outputId": "c600cdbd-e50a-4fbd-c205-36a2e8392fca"
      },
      "execution_count": null,
      "outputs": [
        {
          "output_type": "stream",
          "name": "stdout",
          "text": [
            "3\n"
          ]
        }
      ]
    },
    {
      "cell_type": "code",
      "source": [
        "# Metoda\n",
        "\n",
        "numbers.append(4)  # append() to metoda listy, dodaje element na końcu listy\n",
        "numbers  # Wynik: [1, 2, 3, 4]"
      ],
      "metadata": {
        "id": "z0ifSPCuPuOy",
        "colab": {
          "base_uri": "https://localhost:8080/"
        },
        "outputId": "16b800f5-9ada-48ca-ff63-b10337fe69a7"
      },
      "execution_count": null,
      "outputs": [
        {
          "output_type": "execute_result",
          "data": {
            "text/plain": [
              "[1, 2, 3, 4]"
            ]
          },
          "metadata": {},
          "execution_count": 22
        }
      ]
    },
    {
      "cell_type": "markdown",
      "source": [
        "Definiowanie funkcji"
      ],
      "metadata": {
        "id": "omB7qbHw_dX1"
      }
    },
    {
      "cell_type": "code",
      "source": [
        "# Funkcja bez parametrów:\n",
        "def powiedz_hello():\n",
        "    print(\"Hello, world!\")"
      ],
      "metadata": {
        "id": "yR2hvnQT_fhC"
      },
      "execution_count": null,
      "outputs": []
    },
    {
      "cell_type": "code",
      "source": [
        "#wywołanie funkcji\n",
        "powiedz_hello()"
      ],
      "metadata": {
        "id": "-B09yDWIOhBN",
        "colab": {
          "base_uri": "https://localhost:8080/"
        },
        "outputId": "a6d8e414-010b-455b-9814-68abd3214687"
      },
      "execution_count": null,
      "outputs": [
        {
          "output_type": "stream",
          "name": "stdout",
          "text": [
            "Hello, world!\n"
          ]
        }
      ]
    },
    {
      "cell_type": "code",
      "source": [
        "# Funkcja z parametrami:\n",
        "def dodaj(a, b):\n",
        "    return a + b"
      ],
      "metadata": {
        "id": "t0gc1eu2_vGa"
      },
      "execution_count": null,
      "outputs": []
    },
    {
      "cell_type": "code",
      "source": [
        "dodaj(10,15)"
      ],
      "metadata": {
        "colab": {
          "base_uri": "https://localhost:8080/"
        },
        "id": "YvMHvihhyiFS",
        "outputId": "16abb4b5-2031-45d4-b01a-129264995a56"
      },
      "execution_count": null,
      "outputs": [
        {
          "output_type": "execute_result",
          "data": {
            "text/plain": [
              "25"
            ]
          },
          "metadata": {},
          "execution_count": 27
        }
      ]
    },
    {
      "cell_type": "code",
      "source": [
        "a = dodaj(10, 15)"
      ],
      "metadata": {
        "id": "EVp_4JV3OzL7"
      },
      "execution_count": null,
      "outputs": []
    },
    {
      "cell_type": "code",
      "source": [
        "print(a+10)"
      ],
      "metadata": {
        "colab": {
          "base_uri": "https://localhost:8080/"
        },
        "id": "6V1BK9Fdy8x8",
        "outputId": "bdd00f10-e101-46d0-c660-9b7bffbb02aa"
      },
      "execution_count": null,
      "outputs": [
        {
          "output_type": "stream",
          "name": "stdout",
          "text": [
            "35\n"
          ]
        }
      ]
    },
    {
      "cell_type": "code",
      "source": [
        "# Funkcja z parametrami:\n",
        "def dodaj_print(a, b):\n",
        "    print(a + b)"
      ],
      "metadata": {
        "id": "ID2MIPyNO83R"
      },
      "execution_count": null,
      "outputs": []
    },
    {
      "cell_type": "code",
      "source": [
        "dodaj_print(10, 15)"
      ],
      "metadata": {
        "colab": {
          "base_uri": "https://localhost:8080/"
        },
        "id": "4r-M2tOTywXD",
        "outputId": "f391e2ea-7ad2-45df-a374-c28bbb219d3a"
      },
      "execution_count": null,
      "outputs": [
        {
          "output_type": "stream",
          "name": "stdout",
          "text": [
            "25\n"
          ]
        }
      ]
    },
    {
      "cell_type": "code",
      "source": [
        "b = dodaj_print(10, 15)"
      ],
      "metadata": {
        "id": "WseBMwuKPBYs",
        "colab": {
          "base_uri": "https://localhost:8080/"
        },
        "outputId": "bca91f29-9618-44d2-f43c-4eaf9f847256"
      },
      "execution_count": null,
      "outputs": [
        {
          "output_type": "stream",
          "name": "stdout",
          "text": [
            "25\n"
          ]
        }
      ]
    },
    {
      "cell_type": "code",
      "source": [
        "print(b+10)"
      ],
      "metadata": {
        "colab": {
          "base_uri": "https://localhost:8080/"
        },
        "id": "jDtzZFFDy0uG",
        "outputId": "02fbcb7f-2052-4c22-dd1e-bd1569013ea7"
      },
      "execution_count": null,
      "outputs": [
        {
          "output_type": "stream",
          "name": "stdout",
          "text": [
            "98\n"
          ]
        }
      ]
    },
    {
      "cell_type": "code",
      "source": [
        "# Argumenty domyślne\n",
        "\n",
        "def wypisz_informacje(imie, wiek=30):\n",
        "    print(f\"Imię: {imie}, Wiek: {wiek}\")"
      ],
      "metadata": {
        "id": "4BcRBba6CvNs"
      },
      "execution_count": null,
      "outputs": []
    },
    {
      "cell_type": "code",
      "source": [
        "wypisz_informacje(\"Ola\", 40)"
      ],
      "metadata": {
        "id": "rVhvEz25PybI",
        "colab": {
          "base_uri": "https://localhost:8080/"
        },
        "outputId": "9e24e070-1a52-489f-e279-3822d0fb16eb"
      },
      "execution_count": null,
      "outputs": [
        {
          "output_type": "stream",
          "name": "stdout",
          "text": [
            "Imię: Ola, Wiek: 40\n"
          ]
        }
      ]
    },
    {
      "cell_type": "code",
      "source": [
        "wypisz_informacje(\"Jan\")"
      ],
      "metadata": {
        "colab": {
          "base_uri": "https://localhost:8080/"
        },
        "id": "YHfUgfV3zNH-",
        "outputId": "751a87ef-7c87-4dfc-f6ca-c1cac800f363"
      },
      "execution_count": null,
      "outputs": [
        {
          "output_type": "stream",
          "name": "stdout",
          "text": [
            "Imię: Jan, Wiek: 30\n"
          ]
        }
      ]
    },
    {
      "cell_type": "code",
      "source": [
        "wypisz_informacje(imie = \"Jan\", wiek = 35)"
      ],
      "metadata": {
        "colab": {
          "base_uri": "https://localhost:8080/"
        },
        "id": "3zGNTkf0zPGI",
        "outputId": "ef38a69f-3e49-45b1-9df1-96fb4645e931"
      },
      "execution_count": null,
      "outputs": [
        {
          "output_type": "stream",
          "name": "stdout",
          "text": [
            "Imię: Jan, Wiek: 35\n"
          ]
        }
      ]
    },
    {
      "cell_type": "code",
      "source": [
        "# Zwracanie wyniku funkcji\n",
        "\n",
        "def oblicz_sile(masa, przyspieszenie):\n",
        "    return masa * przyspieszenie\n",
        "\n",
        "\n",
        "wynik = oblicz_sile(przyspieszenie=9.81, masa=50)\n",
        "print(wynik)"
      ],
      "metadata": {
        "id": "Wd4xpa4YC5RU"
      },
      "execution_count": null,
      "outputs": []
    },
    {
      "cell_type": "code",
      "source": [
        "# Funkcja\n",
        "\n",
        "def test(x):\n",
        "    return x**2\n",
        "\n",
        "print(test(3) + test(4))"
      ],
      "metadata": {
        "id": "R0y8ZeHEMYCM"
      },
      "execution_count": null,
      "outputs": []
    },
    {
      "cell_type": "code",
      "source": [
        "# print vs return\n",
        "\n",
        "def suma(a, b):\n",
        "    print(a + b)  # Wypisuje wynik na ekranie\n",
        "\n",
        "# Przykładowe wywołania\n",
        "suma_print = suma(5, 3)  # Wydrukuje \"8\" na ekranie, ale nie możemy użyć tego wyniku dalej\n",
        "suma_print + 1\n"
      ],
      "metadata": {
        "id": "zEXHJI3HDZCf"
      },
      "execution_count": null,
      "outputs": []
    },
    {
      "cell_type": "code",
      "source": [
        "# print vs return\n",
        "\n",
        "def suma_return(a, b):\n",
        "    return a + b  # Zwraca wynik, pozwalając go użyć dalej w kodzie\n",
        "\n",
        "wynik = suma_return(5, 3)  # Nie wydrukuje nic, ale teraz wynik (8) jest przechowywany w zmiennej 'wynik'\n",
        "print(wynik)  # Możemy wydrukować 'wynik' lub użyć go w dalszej części programu\n"
      ],
      "metadata": {
        "id": "OsmyIe-cmLQ8"
      },
      "execution_count": null,
      "outputs": []
    },
    {
      "cell_type": "markdown",
      "source": [
        "### Ćwiczenie 1:\n",
        "Napisz funkcję o nazwie multiply, która przyjmuje dwa argumenty i zwraca ich iloczyn.\n",
        "Wywołaj funkcję, przekazując jej różne pary liczb i wyświetl wyniki."
      ],
      "metadata": {
        "id": "4CyDUU83EVwj"
      }
    },
    {
      "cell_type": "code",
      "source": [
        "def multiply(a, b):\n",
        "  return a*b"
      ],
      "metadata": {
        "id": "t8S_LFeSEhYI"
      },
      "execution_count": null,
      "outputs": []
    },
    {
      "cell_type": "code",
      "source": [
        "multiply(3,4)"
      ],
      "metadata": {
        "colab": {
          "base_uri": "https://localhost:8080/"
        },
        "id": "iV0Dv9Ex0YsA",
        "outputId": "df4c4fc5-95c0-4b92-a1ed-6de20238f69c"
      },
      "execution_count": null,
      "outputs": [
        {
          "output_type": "execute_result",
          "data": {
            "text/plain": [
              "12"
            ]
          },
          "metadata": {},
          "execution_count": 41
        }
      ]
    },
    {
      "cell_type": "code",
      "source": [
        "iloczyn = multiply(3,4)\n",
        "print(iloczyn)"
      ],
      "metadata": {
        "colab": {
          "base_uri": "https://localhost:8080/"
        },
        "id": "TY6vx7El0Xh7",
        "outputId": "8b337e00-4542-4adb-c51f-11f1e1b985bb"
      },
      "execution_count": null,
      "outputs": [
        {
          "output_type": "stream",
          "name": "stdout",
          "text": [
            "12\n"
          ]
        }
      ]
    },
    {
      "cell_type": "markdown",
      "source": [
        "## Ćwiczenie 2:\n",
        "Napisz funkcję print_greeting, która przyjmuje opcjonalny parametr name. Jeśli imię jest podane, funkcja powinna wydrukować \"Hello, [name]!\", w przeciwnym razie po prostu \"Hello, World!\".\n",
        "Wywołaj funkcję z imieniem i bez, aby zobaczyć różne komunikaty.\n"
      ],
      "metadata": {
        "id": "DUJxZ-1WItB0"
      }
    },
    {
      "cell_type": "code",
      "source": [
        "\n"
      ],
      "metadata": {
        "id": "gqgCylb-JVSR"
      },
      "execution_count": null,
      "outputs": []
    },
    {
      "cell_type": "markdown",
      "source": [
        "### Ćwiczenie 3:\n",
        "Napisz funkcję calculate_statistics, która przyjmuje listę liczb i zwraca ich minimum, maksimum i średnią.\n",
        "Wywołaj funkcję z przykładowymi danymi i wydrukuj wyniki"
      ],
      "metadata": {
        "id": "tt5Xl44oI0xR"
      }
    },
    {
      "cell_type": "code",
      "source": [],
      "metadata": {
        "id": "Wg3p0HQzJbYp"
      },
      "execution_count": null,
      "outputs": []
    },
    {
      "cell_type": "code",
      "source": [],
      "metadata": {
        "id": "XBlU1_oeTDNa"
      },
      "execution_count": null,
      "outputs": []
    },
    {
      "cell_type": "markdown",
      "source": [
        "Moduły"
      ],
      "metadata": {
        "id": "ufxM7UpYNTXY"
      }
    },
    {
      "cell_type": "code",
      "source": [
        "# Importowanie modułu:\n",
        "\n",
        "import math\n",
        "print(math.sqrt(16))  # Wykorzystanie funkcji sqrt z modułu math\n"
      ],
      "metadata": {
        "id": "UwCDsxHTONDr",
        "colab": {
          "base_uri": "https://localhost:8080/"
        },
        "outputId": "76950db3-9a38-4fb4-89ea-6a550ed983e1"
      },
      "execution_count": null,
      "outputs": [
        {
          "output_type": "stream",
          "name": "stdout",
          "text": [
            "4.0\n"
          ]
        }
      ]
    },
    {
      "cell_type": "code",
      "source": [
        "math.pow(10,2)"
      ],
      "metadata": {
        "colab": {
          "base_uri": "https://localhost:8080/"
        },
        "id": "KYMFBu_k1T1l",
        "outputId": "1d8ff7be-f881-449d-b17c-68f1f699ac28"
      },
      "execution_count": null,
      "outputs": [
        {
          "output_type": "execute_result",
          "data": {
            "text/plain": [
              "100.0"
            ]
          },
          "metadata": {},
          "execution_count": 45
        }
      ]
    },
    {
      "cell_type": "code",
      "source": [
        "# Importowanie wybranych funkcji z modułu:\n",
        "\n",
        "from datetime import datetime\n",
        "print(datetime.now())  # Wydrukuje aktualną datę i czas"
      ],
      "metadata": {
        "id": "ym6Pf1FFVkV9"
      },
      "execution_count": null,
      "outputs": []
    },
    {
      "cell_type": "code",
      "source": [
        "lista  = [1,2,3,4,5,6,6,7,8,8,9,9,9]"
      ],
      "metadata": {
        "id": "qlDWn_kS1pCk"
      },
      "execution_count": null,
      "outputs": []
    },
    {
      "cell_type": "code",
      "source": [
        "from statistics import median\n",
        "\n",
        "median(lista)"
      ],
      "metadata": {
        "id": "rAi_iaevV4MF",
        "colab": {
          "base_uri": "https://localhost:8080/"
        },
        "outputId": "ee1875c8-e9fa-4add-aabb-b90a5db873dd"
      },
      "execution_count": null,
      "outputs": [
        {
          "output_type": "execute_result",
          "data": {
            "text/plain": [
              "6"
            ]
          },
          "metadata": {},
          "execution_count": 48
        }
      ]
    },
    {
      "cell_type": "markdown",
      "source": [
        "Ćwiczenie 1:\n",
        "Użyj modułu math do obliczenia pierwiastka kwadratowego i wydrukuj wyniki dla różnych liczb.\n",
        "Importuj tylko funkcję sqrt z modułu math i użyj jej do obliczenia pierwiastka."
      ],
      "metadata": {
        "id": "cdQckvFxPf03"
      }
    },
    {
      "cell_type": "code",
      "source": [
        "import math\n",
        "\n",
        "# Użycie sqrt z math\n",
        "print(math.sqrt(16))  # Wydrukuje 4.0\n",
        "\n",
        "# Import tylko funkcji sqrt\n",
        "from math import sqrt\n",
        "print(sqrt(25))  # Wydrukuje 5.0\n"
      ],
      "metadata": {
        "id": "p7XAScbaPjkP"
      },
      "execution_count": null,
      "outputs": []
    },
    {
      "cell_type": "markdown",
      "source": [
        "Ćwiczenie 2:\n",
        "\n",
        "Importuj moduł random.\n",
        "Użyj funkcji random.randint() do wygenerowania losowej liczby między 1 a 100.\n",
        "Wyświetl wygenerowaną liczbę.\n"
      ],
      "metadata": {
        "id": "qkVOESqkQTdK"
      }
    },
    {
      "cell_type": "code",
      "source": [
        "import random\n",
        "print(random.randint(1,100))"
      ],
      "metadata": {
        "id": "3ZgD_RqcQW96",
        "colab": {
          "base_uri": "https://localhost:8080/"
        },
        "outputId": "4074582c-5b47-4dca-d0ca-c071260aeab6"
      },
      "execution_count": null,
      "outputs": [
        {
          "output_type": "stream",
          "name": "stdout",
          "text": [
            "94\n"
          ]
        }
      ]
    },
    {
      "cell_type": "code",
      "source": [
        "from random import randint\n",
        "print(randint.randint(1,100))"
      ],
      "metadata": {
        "colab": {
          "base_uri": "https://localhost:8080/"
        },
        "id": "wvQvJP0Q2K8b",
        "outputId": "02cc6f74-acaa-477a-a797-9e078dd54d73"
      },
      "execution_count": null,
      "outputs": [
        {
          "output_type": "stream",
          "name": "stdout",
          "text": [
            "77\n"
          ]
        }
      ]
    },
    {
      "cell_type": "markdown",
      "source": [
        "# PRACA DOMOWA\n",
        "Zadanie 1: Napisz funkcję double_number, która przyjmuje liczbę jako argument i zwraca jej podwojoną wartość.\n",
        "Wywołaj funkcję dla kilku liczb i wydrukuj wyniki.\n",
        "G"
      ],
      "metadata": {
        "id": "Rx_qp0asKwaR"
      }
    },
    {
      "cell_type": "code",
      "source": [
        "# Napisz funkcję double_number, która przyjmuje liczbę jako argument i zwraca jej podwojoną wartość.\n",
        "def double_number(x):\n",
        " return x * 2\n",
        "\n",
        "# Wywołaj funkcję dla kilku liczb i wydrukuj wyniki.\n",
        "print(double_number(3))\n",
        "print(double_number(3.5))\n",
        "print(double_number(-3))\n",
        "print(double_number(-3.5))\n",
        "print(double_number(0))"
      ],
      "metadata": {
        "colab": {
          "base_uri": "https://localhost:8080/"
        },
        "id": "zudSAqZFTWEP",
        "outputId": "989fac31-010c-4d81-80da-1dce069049d0"
      },
      "execution_count": null,
      "outputs": [
        {
          "output_type": "stream",
          "name": "stdout",
          "text": [
            "6\n",
            "7.0\n",
            "-6\n",
            "-7.0\n",
            "0\n"
          ]
        }
      ]
    },
    {
      "cell_type": "code",
      "source": [
        "def double_number(x):\n",
        " return x * 2\n",
        "\n",
        "a = int(input(\"Podaj liczbę: \"))\n",
        "print(double_number(a))"
      ],
      "metadata": {
        "colab": {
          "base_uri": "https://localhost:8080/"
        },
        "id": "0F8XBdM1Uj2Z",
        "outputId": "dc35d4b9-9b72-4541-98f5-8ed3d8fcbe49"
      },
      "execution_count": null,
      "outputs": [
        {
          "output_type": "stream",
          "name": "stdout",
          "text": [
            "Podaj liczbę: 7\n",
            "14\n"
          ]
        }
      ]
    },
    {
      "cell_type": "code",
      "source": [
        "def double_number(x):\n",
        " return x * 2\n",
        "\n",
        "decyzja = \"TAK\"\n",
        "\n",
        "while decyzja == \"TAK\":\n",
        "  b = int(input(\"Podaj liczbę: \"))\n",
        "  print(double_number(b))\n",
        "  decyzja = input(\"Czy chcesz podać kolejną liczbę? Wpisz 'TAK' aby powtórzyć \").upper()\n",
        "  if decyzja != \"TAK\":\n",
        "    print(\"Koniec programu.\")\n",
        "    break\n",
        "\n"
      ],
      "metadata": {
        "colab": {
          "base_uri": "https://localhost:8080/"
        },
        "id": "C4ib0l4MVs6Y",
        "outputId": "9bd8e2c7-309c-44e8-c803-9d0c76f22836"
      },
      "execution_count": null,
      "outputs": [
        {
          "output_type": "stream",
          "name": "stdout",
          "text": [
            "Podaj liczbę: 10\n",
            "20\n",
            "Czy chcesz podać kolejną liczbę? Wpisz 'TAK' aby powtórzyć TAK\n",
            "Podaj liczbę: 10\n",
            "20\n",
            "Czy chcesz podać kolejną liczbę? Wpisz 'TAK' aby powtórzyć nie\n",
            "Koniec programu.\n"
          ]
        }
      ]
    },
    {
      "cell_type": "markdown",
      "source": [
        "Zadanie 2:\n",
        "Utwórz listę zawierającą kilka elementów.\n",
        "Napisz funkcję print_elements, która przechodzi przez listę i wyświetla każdy element oraz dodaje do niego 100."
      ],
      "metadata": {
        "id": "J55ng5DuGQWt"
      }
    },
    {
      "cell_type": "code",
      "source": [
        "lista = [1, 2, 3, 4, 7, 9, 12, 16, 21, 100]\n",
        "\n",
        "def print_elements(s):\n",
        "  for element in lista:\n",
        "    print(f\"Liczba:        {element}\")\n",
        "    print(f\"Liczba + 100: \", element + 100)\n",
        "    print()\n",
        "\n",
        "print_elements(lista)"
      ],
      "metadata": {
        "colab": {
          "base_uri": "https://localhost:8080/"
        },
        "id": "lKaBzXolbXmG",
        "outputId": "d9d533ca-a6f0-48c7-99b4-20d685cbb90b"
      },
      "execution_count": null,
      "outputs": [
        {
          "output_type": "stream",
          "name": "stdout",
          "text": [
            "Liczba:        1\n",
            "Liczba + 100:  101\n",
            "\n",
            "Liczba:        2\n",
            "Liczba + 100:  102\n",
            "\n",
            "Liczba:        3\n",
            "Liczba + 100:  103\n",
            "\n",
            "Liczba:        4\n",
            "Liczba + 100:  104\n",
            "\n",
            "Liczba:        7\n",
            "Liczba + 100:  107\n",
            "\n",
            "Liczba:        9\n",
            "Liczba + 100:  109\n",
            "\n",
            "Liczba:        12\n",
            "Liczba + 100:  112\n",
            "\n",
            "Liczba:        16\n",
            "Liczba + 100:  116\n",
            "\n",
            "Liczba:        21\n",
            "Liczba + 100:  121\n",
            "\n",
            "Liczba:        100\n",
            "Liczba + 100:  200\n",
            "\n"
          ]
        }
      ]
    },
    {
      "cell_type": "markdown",
      "source": [
        "Zadanie 3: Importuj moduł math.\n",
        "Użyj funkcji math.sqrt() do obliczenia pierwiastka kwadratowego z liczby.\n",
        "Użyj funkcji math.pi do wyświetlenia wartości liczby π z dokładnością do trzech miejsc po przecinku."
      ],
      "metadata": {
        "id": "X_HpgLuYGeUZ"
      }
    },
    {
      "cell_type": "code",
      "source": [
        "# Importuj moduł math.\n",
        "import math\n",
        "\n",
        "# Użyj funkcji math.sqrt() do obliczenia pierwiastka kwadratowego z liczby.\n",
        "print(math.sqrt(16))\n",
        "# Użyj funkcji math.pi do wyświetlenia wartości liczby π z dokładnością do trzech miejsc po przecinku.\n",
        "print(round(math.pi, 3))\n"
      ],
      "metadata": {
        "id": "jYIYiSXhGlrw",
        "colab": {
          "base_uri": "https://localhost:8080/"
        },
        "outputId": "59a49dd2-e14d-4a1c-f233-e228f3923cdb"
      },
      "execution_count": null,
      "outputs": [
        {
          "output_type": "stream",
          "name": "stdout",
          "text": [
            "4.0\n",
            "3.142\n"
          ]
        }
      ]
    },
    {
      "cell_type": "markdown",
      "source": [
        "\n",
        "Zadanie 4: Poproś użytkownika o wprowadzenie dzielnika dla liczby 100.\n",
        "Wykonaj dzielenie w bloku try i obsłuż wyjątek ZeroDivisionError, jeśli użytkownik wprowadzi zero.\n"
      ],
      "metadata": {
        "id": "0bt2reLIGdem"
      }
    },
    {
      "cell_type": "code",
      "source": [
        "dzielnik = int(input(\"Wprowadź dzielnik: \"))\n",
        "\n",
        "try:\n",
        "  wynik = 100 / dzielnik\n",
        "  print(f\"Wynik dzielenia liczby 100 przez {dzielnik} to: {wynik}\")\n",
        "except ZeroDivisionError:\n",
        "  print(\"Nie możesz dzielić przez zero!\")\n"
      ],
      "metadata": {
        "id": "-AhzB3WHGmqV",
        "colab": {
          "base_uri": "https://localhost:8080/"
        },
        "outputId": "d2220a33-abfa-42ea-9519-74cb69b9210f"
      },
      "execution_count": null,
      "outputs": [
        {
          "output_type": "stream",
          "name": "stdout",
          "text": [
            "Wprowadź dzielnik: 20\n",
            "Wynik dzielenia liczby 100 przez 20 to: 5.0\n"
          ]
        }
      ]
    },
    {
      "cell_type": "markdown",
      "source": [
        "Zadanie 1*: Tworzenie biblioteki 1.1. Utwórz słownik biblioteka z trzema wpisami, gdzie klucze to numery ISBN, a wartości to tytuły książek: ISBN: '978-83-01-19847-9', Tytuł: 'Python od podstaw' ISBN: '978-83-283-0235-6', Tytuł: 'Data Science od podstaw' ISBN: '978-83-246-1175-1', Tytuł: 'Zarządzanie projektem' 1.2. Dodaj nową książkę do biblioteka: ISBN: '978-83-283-5871-6', Tytuł: 'Sztuczna inteligencja' 1.3 Zmień tytuł książki 'Data Science od podstaw' na 'Podstawy Data Science'. 1.4 Usuń książkę o ISBN '978-83-01-19847-9' używając metody pop(). 1.5 Wyświetl wszystkie pozostałe książki w biblioteka, pokazując ich ISBN i tytuł."
      ],
      "metadata": {
        "id": "JUgOBjBb9Hg-"
      }
    },
    {
      "cell_type": "code",
      "source": [
        "#Tworzenie biblioteki\n",
        "\n",
        "#1.1. Utwórz słownik biblioteka z trzema wpisami, gdzie klucze to numery ISBN, a wartości to tytuły książek:\n",
        "# ISBN: '978-83-01-19847-9', Tytuł: 'Python od podstaw' ISBN: '978-83-283-0235-6', Tytuł: 'Data Science od podstaw' ISBN: '978-83-246-1175-1', Tytuł: 'Zarządzanie projektem'\n",
        "ksiazki = {\n",
        "    '978-83-01-19847-9' : 'Python od podstaw',\n",
        "    '978-83-283-0235-6' : 'Data Science od podstaw',\n",
        "    '978-83-246-1175-1' : 'Zarządzanie projektem'\n",
        "}\n",
        "print(ksiazki)\n",
        "#1.2. Dodaj nową książkę do biblioteka: ISBN: '978-83-283-5871-6', Tytuł: 'Sztuczna inteligencja'\n",
        "ksiazki['978-83-283-5871-6'] = 'Sztuczna inteligencja'\n",
        "print(ksiazki)\n",
        "#1.3 Zmień tytuł książki 'Data Science od podstaw' na 'Podstawy Data Science'.\n",
        "ksiazki['978-83-283-0235-6'] = 'Podstawy Data Science'\n",
        "print(ksiazki)\n",
        "#1.4 Usuń książkę o ISBN '978-83-01-19847-9' używając metody pop().\n",
        "ksiazki.pop('978-83-01-19847-9')\n",
        "print(ksiazki)\n",
        "#1.5 Wyświetl wszystkie pozostałe książki w biblioteka, pokazując ich ISBN i tytuł.\n",
        "print(f\"Pozostałe książki to {ksiazki}\")"
      ],
      "metadata": {
        "colab": {
          "base_uri": "https://localhost:8080/"
        },
        "id": "f5Mns3hQ5tGP",
        "outputId": "d545a2a8-c3d1-4935-e6e4-2d1ec08c5db1"
      },
      "execution_count": null,
      "outputs": [
        {
          "output_type": "stream",
          "name": "stdout",
          "text": [
            "{'978-83-01-19847-9': 'Python od podstaw', '978-83-283-0235-6': 'Data Science od podstaw', '978-83-246-1175-1': 'Zarządzanie projektem'}\n",
            "{'978-83-01-19847-9': 'Python od podstaw', '978-83-283-0235-6': 'Data Science od podstaw', '978-83-246-1175-1': 'Zarządzanie projektem', '978-83-283-5871-6': 'Sztuczna inteligencja'}\n",
            "{'978-83-01-19847-9': 'Python od podstaw', '978-83-283-0235-6': 'Podstawy Data Science', '978-83-246-1175-1': 'Zarządzanie projektem', '978-83-283-5871-6': 'Sztuczna inteligencja'}\n",
            "{'978-83-283-0235-6': 'Podstawy Data Science', '978-83-246-1175-1': 'Zarządzanie projektem', '978-83-283-5871-6': 'Sztuczna inteligencja'}\n",
            "Pozostałe książki to {'978-83-283-0235-6': 'Podstawy Data Science', '978-83-246-1175-1': 'Zarządzanie projektem', '978-83-283-5871-6': 'Sztuczna inteligencja'}\n"
          ]
        }
      ]
    },
    {
      "cell_type": "code",
      "source": [
        "# Wersja gdzie print jest tylko na końcu\n",
        "#1.1. Utwórz słownik biblioteka z trzema wpisami, gdzie klucze to numery ISBN, a wartości to tytuły książek:\n",
        "# ISBN: '978-83-01-19847-9', Tytuł: 'Python od podstaw' ISBN: '978-83-283-0235-6', Tytuł: 'Data Science od podstaw' ISBN: '978-83-246-1175-1', Tytuł: 'Zarządzanie projektem'\n",
        "ksiazki = {\n",
        "    '978-83-01-19847-9' : 'Python od podstaw',\n",
        "    '978-83-283-0235-6' : 'Data Science od podstaw',\n",
        "    '978-83-246-1175-1' : 'Zarządzanie projektem'\n",
        "}\n",
        "#1.2. Dodaj nową książkę do biblioteka: ISBN: '978-83-283-5871-6', Tytuł: 'Sztuczna inteligencja'\n",
        "ksiazki['978-83-283-5871-6'] = 'Sztuczna inteligencja'\n",
        "#1.3 Zmień tytuł książki 'Data Science od podstaw' na 'Podstawy Data Science'.\n",
        "ksiazki['978-83-283-0235-6'] = 'Podstawy Data Science'\n",
        "#1.4 Usuń książkę o ISBN '978-83-01-19847-9' używając metody pop().\n",
        "ksiazki.pop('978-83-01-19847-9')\n",
        "#1.5 Wyświetl wszystkie pozostałe książki w biblioteka, pokazując ich ISBN i tytuł.\n",
        "print(f\"Pozostałe książki to {ksiazki}\")"
      ],
      "metadata": {
        "colab": {
          "base_uri": "https://localhost:8080/"
        },
        "id": "3wfC5SFx82hM",
        "outputId": "2ecfbedb-e411-44b2-cb0f-c5dbb42c290c"
      },
      "execution_count": null,
      "outputs": [
        {
          "output_type": "stream",
          "name": "stdout",
          "text": [
            "Pozostałe książki to {'978-83-283-0235-6': 'Podstawy Data Science', '978-83-246-1175-1': 'Zarządzanie projektem', '978-83-283-5871-6': 'Sztuczna inteligencja'}\n"
          ]
        }
      ]
    },
    {
      "cell_type": "markdown",
      "source": [
        "Zad 2*: Napisz funkcję print_greeting, która przyjmuje opcjonalny parametr name. Jeśli imię jest podane, funkcja powinna wydrukować \"Hello, [name]!\", w przeciwnym razie po prostu \"Hello, World!\". Wywołaj funkcję z imieniem i bez, aby zobaczyć różne komunikaty."
      ],
      "metadata": {
        "id": "IjQldbpf9LfY"
      }
    },
    {
      "cell_type": "code",
      "source": [
        "#Zad 2*: Napisz funkcję print_greeting, która przyjmuje opcjonalny parametr name. Jeśli imię jest podane, funkcja powinna wydrukować \"Hello, [name]!\",\n",
        "# w przeciwnym razie po prostu \"Hello, World!\". Wywołaj funkcję z imieniem i bez, aby zobaczyć różne komunikaty.\n",
        "\n",
        "def print_greeting(name = \"World\"):\n",
        "  print(f\"Hello, {name}!\")\n",
        "\n",
        "print_greeting(\"User\")\n",
        "\n",
        "name = input(\"Podaj imię: \")\n",
        "\n",
        "print_greeting(name)\n",
        "print_greeting()\n"
      ],
      "metadata": {
        "colab": {
          "base_uri": "https://localhost:8080/"
        },
        "id": "Jl83QtGi59NN",
        "outputId": "b4328283-13de-47d1-a752-9c255cd04de8"
      },
      "execution_count": null,
      "outputs": [
        {
          "output_type": "stream",
          "name": "stdout",
          "text": [
            "Hello, User!\n",
            "Podaj imię: 55\n",
            "Hello, 55!\n",
            "Hello, World!\n"
          ]
        }
      ]
    },
    {
      "cell_type": "markdown",
      "source": [
        "Zad 3*: Napisz funkcję calculate_statistics, która przyjmuje listę liczb i zwraca ich minimum, maksimum i średnią. Wywołaj funkcję z przykładowymi danymi i wydrukuj wyniki"
      ],
      "metadata": {
        "id": "xqN6B7JYCuHP"
      }
    },
    {
      "cell_type": "code",
      "source": [
        "#Napisz funkcję calculate_statistics, która przyjmuje listę liczb i zwraca ich minimum, maksimum i średnią. Wywołaj funkcję z przykładowymi danymi i wydrukuj wyniki\n",
        "def calculate_statistics(x):\n",
        "  minimum = min(x)\n",
        "  maksimum = max(x)\n",
        "  średnia = sum(x) / len(x)\n",
        "  print(f\"Minimum: {minimum}\")\n",
        "  print(f\"Maksimum: {maksimum}\")\n",
        "  print(f\"Średnia: {średnia}\")\n",
        "\n",
        "numbers = [1, 2, 3, 5, 10, 33, 100]\n",
        "\n",
        "calculate_statistics(numbers)"
      ],
      "metadata": {
        "colab": {
          "base_uri": "https://localhost:8080/"
        },
        "id": "yq8TL6aOCvfk",
        "outputId": "4f414697-211d-40bc-dc16-7b7ce3b169ff"
      },
      "execution_count": null,
      "outputs": [
        {
          "output_type": "stream",
          "name": "stdout",
          "text": [
            "Minimum: 1\n",
            "Maksimum: 100\n",
            "Średnia: 22.0\n"
          ]
        }
      ]
    },
    {
      "cell_type": "markdown",
      "source": [
        "# Dla chętnych:\n",
        "\n",
        "Zad 4*: Napisz funkcję is_even, która przyjmuje liczbę jako argument i zwraca True, jeśli liczba jest parzysta, oraz False w przeciwnym przypadku. Wywołaj funkcję dla kilku przykładowych liczb i wydrukuj wyniki."
      ],
      "metadata": {
        "id": "KFM-CYW5FmTi"
      }
    },
    {
      "cell_type": "code",
      "source": [
        "# Napisz funkcję is_even, która przyjmuje liczbę jako argument i zwraca True, jeśli liczba jest parzysta, oraz False w przeciwnym przypadku.\n",
        "def is_even(number):\n",
        "  if number % 2 == 0:\n",
        "    return True\n",
        "    print(True)\n",
        "  else:\n",
        "    return False\n",
        "    print(False)\n",
        "\n",
        "# Wywołaj funkcję dla kilku przykładowych liczb i wydrukuj wyniki.\n",
        "print(is_even(1))\n",
        "print(is_even(5))\n",
        "print(is_even(8))\n",
        "print(is_even(11))"
      ],
      "metadata": {
        "colab": {
          "base_uri": "https://localhost:8080/"
        },
        "id": "gDefitEXFm_X",
        "outputId": "4f2968d7-e9a3-4957-e6e8-6f72d7d38b7f"
      },
      "execution_count": null,
      "outputs": [
        {
          "output_type": "stream",
          "name": "stdout",
          "text": [
            "False\n",
            "False\n",
            "True\n",
            "False\n"
          ]
        }
      ]
    }
  ]
}