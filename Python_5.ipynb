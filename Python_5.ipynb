{
  "nbformat": 4,
  "nbformat_minor": 0,
  "metadata": {
    "colab": {
      "provenance": [],
      "include_colab_link": true
    },
    "kernelspec": {
      "name": "python3",
      "display_name": "Python 3"
    },
    "language_info": {
      "name": "python"
    }
  },
  "cells": [
    {
      "cell_type": "markdown",
      "metadata": {
        "id": "view-in-github",
        "colab_type": "text"
      },
      "source": [
        "<a href=\"https://colab.research.google.com/github/michalhal92/kurs-analityka-danych/blob/main/Python_5.ipynb\" target=\"_parent\"><img src=\"https://colab.research.google.com/assets/colab-badge.svg\" alt=\"Open In Colab\"/></a>"
      ]
    },
    {
      "cell_type": "markdown",
      "source": [
        "Pandas"
      ],
      "metadata": {
        "id": "Cbu4QB5D6xTb"
      }
    },
    {
      "cell_type": "code",
      "execution_count": null,
      "metadata": {
        "id": "Bfs4-vIE1tLH"
      },
      "outputs": [],
      "source": [
        "# Importowanie biblioteki\n",
        "\n",
        "import pandas as pd"
      ]
    },
    {
      "cell_type": "code",
      "source": [
        "# Tworzenie Series z listy\n",
        "moja_lista = [1, 3, 5, 7, 9]"
      ],
      "metadata": {
        "id": "pFAWwDUg616e"
      },
      "execution_count": null,
      "outputs": []
    },
    {
      "cell_type": "code",
      "source": [
        "type(moja_lista)"
      ],
      "metadata": {
        "colab": {
          "base_uri": "https://localhost:8080/"
        },
        "id": "obLtD5pj-8SW",
        "outputId": "245a2cd2-2c99-4686-e994-1f9e7b9b0ad4"
      },
      "execution_count": null,
      "outputs": [
        {
          "output_type": "execute_result",
          "data": {
            "text/plain": [
              "list"
            ]
          },
          "metadata": {},
          "execution_count": 3
        }
      ]
    },
    {
      "cell_type": "code",
      "source": [
        "#type(moja_lista)\n",
        "data = pd.Series(moja_lista)\n",
        "print(data)"
      ],
      "metadata": {
        "colab": {
          "base_uri": "https://localhost:8080/"
        },
        "id": "hZe3jhI19hdf",
        "outputId": "574ac230-917e-4a94-adc5-1f6bba178ebb"
      },
      "execution_count": null,
      "outputs": [
        {
          "output_type": "stream",
          "name": "stdout",
          "text": [
            "0    1\n",
            "1    3\n",
            "2    5\n",
            "3    7\n",
            "4    9\n",
            "dtype: int64\n"
          ]
        }
      ]
    },
    {
      "cell_type": "code",
      "source": [
        "# Series z listy z określeniem indeksu\n",
        "indexed_data = pd.Series(moja_lista, index=['a', 'b', 'c', 'd', 'e'])\n",
        "print(indexed_data)"
      ],
      "metadata": {
        "id": "E3jIlRT8ZU4R",
        "colab": {
          "base_uri": "https://localhost:8080/"
        },
        "outputId": "837aa9f7-1ce7-4dbe-87a7-822284592596"
      },
      "execution_count": null,
      "outputs": [
        {
          "output_type": "stream",
          "name": "stdout",
          "text": [
            "a    1\n",
            "b    3\n",
            "c    5\n",
            "d    7\n",
            "e    9\n",
            "dtype: int64\n"
          ]
        }
      ]
    },
    {
      "cell_type": "code",
      "source": [
        "dict={\n",
        "    'Name': ['Alice', 'Bob', 'Charles'],\n",
        "    'Age': [25, 30, 35],\n",
        "    'City': ['New York', 'Los Angeles', 'Chicago']\n",
        "}\n",
        "\n",
        "dict\n",
        "dict['Name']"
      ],
      "metadata": {
        "colab": {
          "base_uri": "https://localhost:8080/"
        },
        "id": "OEx6O5-o_2K1",
        "outputId": "ed4b8416-5ca5-472d-8fd7-27596ebcd4f4"
      },
      "execution_count": null,
      "outputs": [
        {
          "output_type": "execute_result",
          "data": {
            "text/plain": [
              "['Alice', 'Bob', 'Charles']"
            ]
          },
          "metadata": {},
          "execution_count": 6
        }
      ]
    },
    {
      "cell_type": "code",
      "source": [
        "# DataFrame z słownika list\n",
        "df = pd.DataFrame({\n",
        "    'Name': ['Alice', 'Bob', 'Charles'],\n",
        "    'Age': [25, 30, 35],\n",
        "    'City': ['New York', 'Los Angeles', 'Chicago']\n",
        "})\n",
        "print(df)"
      ],
      "metadata": {
        "id": "2zqQCKvI67e-",
        "colab": {
          "base_uri": "https://localhost:8080/"
        },
        "outputId": "dc3724fd-a273-4973-a215-937fd0c24d32"
      },
      "execution_count": null,
      "outputs": [
        {
          "output_type": "stream",
          "name": "stdout",
          "text": [
            "      Name  Age         City\n",
            "0    Alice   25     New York\n",
            "1      Bob   30  Los Angeles\n",
            "2  Charles   35      Chicago\n"
          ]
        }
      ]
    },
    {
      "cell_type": "code",
      "source": [
        "df = pd.DataFrame(dict)\n",
        "print(df)"
      ],
      "metadata": {
        "colab": {
          "base_uri": "https://localhost:8080/"
        },
        "id": "tX58WGKLAFSt",
        "outputId": "a20bc319-3f7d-47c5-c4b3-d2db49238c8c"
      },
      "execution_count": null,
      "outputs": [
        {
          "output_type": "stream",
          "name": "stdout",
          "text": [
            "      Name  Age         City\n",
            "0    Alice   25     New York\n",
            "1      Bob   30  Los Angeles\n",
            "2  Charles   35      Chicago\n"
          ]
        }
      ]
    },
    {
      "cell_type": "code",
      "source": [
        "# DataFrame z listy słowników\n",
        "data = [\n",
        "    {'Name': 'Alice', 'Age': 25, 'City': 'New York'},\n",
        "    {'Name': 'Bob', 'Age': 30, 'City': 'Los Angeles'},\n",
        "    {'Name': 'Charles', 'Age': 35, 'City': 'Chicago'}\n",
        "]\n",
        "df2 = pd.DataFrame(data)\n",
        "print(df2)"
      ],
      "metadata": {
        "id": "2mUNy8GtaXCF",
        "colab": {
          "base_uri": "https://localhost:8080/"
        },
        "outputId": "08eaa3c2-f6ba-4afe-ecb7-12e115b3dc01"
      },
      "execution_count": null,
      "outputs": [
        {
          "output_type": "stream",
          "name": "stdout",
          "text": [
            "      Name  Age         City\n",
            "0    Alice   25     New York\n",
            "1      Bob   30  Los Angeles\n",
            "2  Charles   35      Chicago\n"
          ]
        }
      ]
    },
    {
      "cell_type": "markdown",
      "source": [
        "Wczytywanie danych"
      ],
      "metadata": {
        "id": "_ugOpMkwCqzT"
      }
    },
    {
      "cell_type": "code",
      "source": [
        "# Wczytanie DataFrame z pliku CSV\n",
        "df_csv = pd.read_csv('/content/sample_data/california_housing_train.csv')\n",
        "print(df_csv.head())"
      ],
      "metadata": {
        "id": "eg9xJSU8_mHw",
        "colab": {
          "base_uri": "https://localhost:8080/"
        },
        "outputId": "ec1818a4-0ee9-4abd-f305-1655ea639945"
      },
      "execution_count": null,
      "outputs": [
        {
          "output_type": "stream",
          "name": "stdout",
          "text": [
            "   longitude  latitude  housing_median_age  total_rooms  total_bedrooms  \\\n",
            "0    -114.31     34.19                15.0       5612.0          1283.0   \n",
            "1    -114.47     34.40                19.0       7650.0          1901.0   \n",
            "2    -114.56     33.69                17.0        720.0           174.0   \n",
            "3    -114.57     33.64                14.0       1501.0           337.0   \n",
            "4    -114.57     33.57                20.0       1454.0           326.0   \n",
            "\n",
            "   population  households  median_income  median_house_value  \n",
            "0      1015.0       472.0         1.4936             66900.0  \n",
            "1      1129.0       463.0         1.8200             80100.0  \n",
            "2       333.0       117.0         1.6509             85700.0  \n",
            "3       515.0       226.0         3.1917             73400.0  \n",
            "4       624.0       262.0         1.9250             65500.0  \n"
          ]
        }
      ]
    },
    {
      "cell_type": "code",
      "source": [
        "# Wczytanie danych z pliku Excel\n",
        "df_excel = pd.read_excel('/content/sample_data/Kopia netflix_titles.xlsx')\n",
        "print(df_excel.head())  # Wyświetla pierwsze 5 wierszy DataFrame"
      ],
      "metadata": {
        "id": "0xNNKWPpDMVU",
        "colab": {
          "base_uri": "https://localhost:8080/"
        },
        "outputId": "f295ba11-a329-473c-91cb-71cac739d1ca"
      },
      "execution_count": null,
      "outputs": [
        {
          "output_type": "stream",
          "name": "stdout",
          "text": [
            "   Unnamed: 0                                         Unnamed: 1 Unnamed: 2  \\\n",
            "0         NaN                                                NaN        NaN   \n",
            "1         NaN  This document was exported from Numbers. Each ...        NaN   \n",
            "2         NaN                                                NaN        NaN   \n",
            "3         NaN                                                NaN        NaN   \n",
            "4         NaN                                                NaN        NaN   \n",
            "\n",
            "  Unnamed: 3  \n",
            "0        NaN  \n",
            "1        NaN  \n",
            "2        NaN  \n",
            "3        NaN  \n",
            "4        NaN  \n"
          ]
        }
      ]
    },
    {
      "cell_type": "code",
      "source": [
        "from google.colab import drive\n",
        "drive.mount('/content/drive')"
      ],
      "metadata": {
        "colab": {
          "base_uri": "https://localhost:8080/"
        },
        "id": "PO01JpyZQZC_",
        "outputId": "82990fcc-d97a-4c4e-9692-3be12c22adb1"
      },
      "execution_count": null,
      "outputs": [
        {
          "output_type": "stream",
          "name": "stdout",
          "text": [
            "Mounted at /content/drive\n"
          ]
        }
      ]
    },
    {
      "cell_type": "code",
      "source": [
        "print(df_excel.tail())  # Wyświetla ostatnie 5 wierszy DataFrame"
      ],
      "metadata": {
        "id": "_pzTXZKPBaKq",
        "colab": {
          "base_uri": "https://localhost:8080/"
        },
        "outputId": "353a7d51-555b-4b91-87f1-4f55d4570bdf"
      },
      "execution_count": null,
      "outputs": [
        {
          "output_type": "stream",
          "name": "stdout",
          "text": [
            "    Unnamed: 0               Unnamed: 1 Unnamed: 2                Unnamed: 3\n",
            "12         NaN                      NaN    Table 1  netflix_titles_countries\n",
            "13         NaN      netflix_titles_cast        NaN                       NaN\n",
            "14         NaN                      NaN    Table 1       netflix_titles_cast\n",
            "15         NaN  netflix_titles_category        NaN                       NaN\n",
            "16         NaN                      NaN    Table 1   netflix_titles_category\n"
          ]
        }
      ]
    },
    {
      "cell_type": "code",
      "source": [
        "df_excel"
      ],
      "metadata": {
        "id": "es0xyeRcLh-i",
        "outputId": "334eb307-d499-438c-9dca-bde44f1fd0a0",
        "colab": {
          "base_uri": "https://localhost:8080/",
          "height": 582
        }
      },
      "execution_count": null,
      "outputs": [
        {
          "output_type": "execute_result",
          "data": {
            "text/plain": [
              "    Unnamed: 0                                         Unnamed: 1  \\\n",
              "0          NaN                                                NaN   \n",
              "1          NaN  This document was exported from Numbers. Each ...   \n",
              "2          NaN                                                NaN   \n",
              "3          NaN                                                NaN   \n",
              "4          NaN                                                NaN   \n",
              "5          NaN                                 Numbers Sheet Name   \n",
              "6          NaN                                                NaN   \n",
              "7          NaN                                     netflix_titles   \n",
              "8          NaN                                                NaN   \n",
              "9          NaN                           netflix_titles_directors   \n",
              "10         NaN                                                NaN   \n",
              "11         NaN                           netflix_titles_countries   \n",
              "12         NaN                                                NaN   \n",
              "13         NaN                                netflix_titles_cast   \n",
              "14         NaN                                                NaN   \n",
              "15         NaN                            netflix_titles_category   \n",
              "16         NaN                                                NaN   \n",
              "\n",
              "            Unnamed: 2                Unnamed: 3  \n",
              "0                  NaN                       NaN  \n",
              "1                  NaN                       NaN  \n",
              "2                  NaN                       NaN  \n",
              "3                  NaN                       NaN  \n",
              "4                  NaN                       NaN  \n",
              "5   Numbers Table Name      Excel Worksheet Name  \n",
              "6                  NaN                       NaN  \n",
              "7                  NaN                       NaN  \n",
              "8              Table 1            netflix_titles  \n",
              "9                  NaN                       NaN  \n",
              "10             Table 1  netflix_titles_directors  \n",
              "11                 NaN                       NaN  \n",
              "12             Table 1  netflix_titles_countries  \n",
              "13                 NaN                       NaN  \n",
              "14             Table 1       netflix_titles_cast  \n",
              "15                 NaN                       NaN  \n",
              "16             Table 1   netflix_titles_category  "
            ],
            "text/html": [
              "\n",
              "  <div id=\"df-dc3b1eef-8726-4e26-8f1b-8a57857f3b83\" class=\"colab-df-container\">\n",
              "    <div>\n",
              "<style scoped>\n",
              "    .dataframe tbody tr th:only-of-type {\n",
              "        vertical-align: middle;\n",
              "    }\n",
              "\n",
              "    .dataframe tbody tr th {\n",
              "        vertical-align: top;\n",
              "    }\n",
              "\n",
              "    .dataframe thead th {\n",
              "        text-align: right;\n",
              "    }\n",
              "</style>\n",
              "<table border=\"1\" class=\"dataframe\">\n",
              "  <thead>\n",
              "    <tr style=\"text-align: right;\">\n",
              "      <th></th>\n",
              "      <th>Unnamed: 0</th>\n",
              "      <th>Unnamed: 1</th>\n",
              "      <th>Unnamed: 2</th>\n",
              "      <th>Unnamed: 3</th>\n",
              "    </tr>\n",
              "  </thead>\n",
              "  <tbody>\n",
              "    <tr>\n",
              "      <th>0</th>\n",
              "      <td>NaN</td>\n",
              "      <td>NaN</td>\n",
              "      <td>NaN</td>\n",
              "      <td>NaN</td>\n",
              "    </tr>\n",
              "    <tr>\n",
              "      <th>1</th>\n",
              "      <td>NaN</td>\n",
              "      <td>This document was exported from Numbers. Each ...</td>\n",
              "      <td>NaN</td>\n",
              "      <td>NaN</td>\n",
              "    </tr>\n",
              "    <tr>\n",
              "      <th>2</th>\n",
              "      <td>NaN</td>\n",
              "      <td>NaN</td>\n",
              "      <td>NaN</td>\n",
              "      <td>NaN</td>\n",
              "    </tr>\n",
              "    <tr>\n",
              "      <th>3</th>\n",
              "      <td>NaN</td>\n",
              "      <td>NaN</td>\n",
              "      <td>NaN</td>\n",
              "      <td>NaN</td>\n",
              "    </tr>\n",
              "    <tr>\n",
              "      <th>4</th>\n",
              "      <td>NaN</td>\n",
              "      <td>NaN</td>\n",
              "      <td>NaN</td>\n",
              "      <td>NaN</td>\n",
              "    </tr>\n",
              "    <tr>\n",
              "      <th>5</th>\n",
              "      <td>NaN</td>\n",
              "      <td>Numbers Sheet Name</td>\n",
              "      <td>Numbers Table Name</td>\n",
              "      <td>Excel Worksheet Name</td>\n",
              "    </tr>\n",
              "    <tr>\n",
              "      <th>6</th>\n",
              "      <td>NaN</td>\n",
              "      <td>NaN</td>\n",
              "      <td>NaN</td>\n",
              "      <td>NaN</td>\n",
              "    </tr>\n",
              "    <tr>\n",
              "      <th>7</th>\n",
              "      <td>NaN</td>\n",
              "      <td>netflix_titles</td>\n",
              "      <td>NaN</td>\n",
              "      <td>NaN</td>\n",
              "    </tr>\n",
              "    <tr>\n",
              "      <th>8</th>\n",
              "      <td>NaN</td>\n",
              "      <td>NaN</td>\n",
              "      <td>Table 1</td>\n",
              "      <td>netflix_titles</td>\n",
              "    </tr>\n",
              "    <tr>\n",
              "      <th>9</th>\n",
              "      <td>NaN</td>\n",
              "      <td>netflix_titles_directors</td>\n",
              "      <td>NaN</td>\n",
              "      <td>NaN</td>\n",
              "    </tr>\n",
              "    <tr>\n",
              "      <th>10</th>\n",
              "      <td>NaN</td>\n",
              "      <td>NaN</td>\n",
              "      <td>Table 1</td>\n",
              "      <td>netflix_titles_directors</td>\n",
              "    </tr>\n",
              "    <tr>\n",
              "      <th>11</th>\n",
              "      <td>NaN</td>\n",
              "      <td>netflix_titles_countries</td>\n",
              "      <td>NaN</td>\n",
              "      <td>NaN</td>\n",
              "    </tr>\n",
              "    <tr>\n",
              "      <th>12</th>\n",
              "      <td>NaN</td>\n",
              "      <td>NaN</td>\n",
              "      <td>Table 1</td>\n",
              "      <td>netflix_titles_countries</td>\n",
              "    </tr>\n",
              "    <tr>\n",
              "      <th>13</th>\n",
              "      <td>NaN</td>\n",
              "      <td>netflix_titles_cast</td>\n",
              "      <td>NaN</td>\n",
              "      <td>NaN</td>\n",
              "    </tr>\n",
              "    <tr>\n",
              "      <th>14</th>\n",
              "      <td>NaN</td>\n",
              "      <td>NaN</td>\n",
              "      <td>Table 1</td>\n",
              "      <td>netflix_titles_cast</td>\n",
              "    </tr>\n",
              "    <tr>\n",
              "      <th>15</th>\n",
              "      <td>NaN</td>\n",
              "      <td>netflix_titles_category</td>\n",
              "      <td>NaN</td>\n",
              "      <td>NaN</td>\n",
              "    </tr>\n",
              "    <tr>\n",
              "      <th>16</th>\n",
              "      <td>NaN</td>\n",
              "      <td>NaN</td>\n",
              "      <td>Table 1</td>\n",
              "      <td>netflix_titles_category</td>\n",
              "    </tr>\n",
              "  </tbody>\n",
              "</table>\n",
              "</div>\n",
              "    <div class=\"colab-df-buttons\">\n",
              "\n",
              "  <div class=\"colab-df-container\">\n",
              "    <button class=\"colab-df-convert\" onclick=\"convertToInteractive('df-dc3b1eef-8726-4e26-8f1b-8a57857f3b83')\"\n",
              "            title=\"Convert this dataframe to an interactive table.\"\n",
              "            style=\"display:none;\">\n",
              "\n",
              "  <svg xmlns=\"http://www.w3.org/2000/svg\" height=\"24px\" viewBox=\"0 -960 960 960\">\n",
              "    <path d=\"M120-120v-720h720v720H120Zm60-500h600v-160H180v160Zm220 220h160v-160H400v160Zm0 220h160v-160H400v160ZM180-400h160v-160H180v160Zm440 0h160v-160H620v160ZM180-180h160v-160H180v160Zm440 0h160v-160H620v160Z\"/>\n",
              "  </svg>\n",
              "    </button>\n",
              "\n",
              "  <style>\n",
              "    .colab-df-container {\n",
              "      display:flex;\n",
              "      gap: 12px;\n",
              "    }\n",
              "\n",
              "    .colab-df-convert {\n",
              "      background-color: #E8F0FE;\n",
              "      border: none;\n",
              "      border-radius: 50%;\n",
              "      cursor: pointer;\n",
              "      display: none;\n",
              "      fill: #1967D2;\n",
              "      height: 32px;\n",
              "      padding: 0 0 0 0;\n",
              "      width: 32px;\n",
              "    }\n",
              "\n",
              "    .colab-df-convert:hover {\n",
              "      background-color: #E2EBFA;\n",
              "      box-shadow: 0px 1px 2px rgba(60, 64, 67, 0.3), 0px 1px 3px 1px rgba(60, 64, 67, 0.15);\n",
              "      fill: #174EA6;\n",
              "    }\n",
              "\n",
              "    .colab-df-buttons div {\n",
              "      margin-bottom: 4px;\n",
              "    }\n",
              "\n",
              "    [theme=dark] .colab-df-convert {\n",
              "      background-color: #3B4455;\n",
              "      fill: #D2E3FC;\n",
              "    }\n",
              "\n",
              "    [theme=dark] .colab-df-convert:hover {\n",
              "      background-color: #434B5C;\n",
              "      box-shadow: 0px 1px 3px 1px rgba(0, 0, 0, 0.15);\n",
              "      filter: drop-shadow(0px 1px 2px rgba(0, 0, 0, 0.3));\n",
              "      fill: #FFFFFF;\n",
              "    }\n",
              "  </style>\n",
              "\n",
              "    <script>\n",
              "      const buttonEl =\n",
              "        document.querySelector('#df-dc3b1eef-8726-4e26-8f1b-8a57857f3b83 button.colab-df-convert');\n",
              "      buttonEl.style.display =\n",
              "        google.colab.kernel.accessAllowed ? 'block' : 'none';\n",
              "\n",
              "      async function convertToInteractive(key) {\n",
              "        const element = document.querySelector('#df-dc3b1eef-8726-4e26-8f1b-8a57857f3b83');\n",
              "        const dataTable =\n",
              "          await google.colab.kernel.invokeFunction('convertToInteractive',\n",
              "                                                    [key], {});\n",
              "        if (!dataTable) return;\n",
              "\n",
              "        const docLinkHtml = 'Like what you see? Visit the ' +\n",
              "          '<a target=\"_blank\" href=https://colab.research.google.com/notebooks/data_table.ipynb>data table notebook</a>'\n",
              "          + ' to learn more about interactive tables.';\n",
              "        element.innerHTML = '';\n",
              "        dataTable['output_type'] = 'display_data';\n",
              "        await google.colab.output.renderOutput(dataTable, element);\n",
              "        const docLink = document.createElement('div');\n",
              "        docLink.innerHTML = docLinkHtml;\n",
              "        element.appendChild(docLink);\n",
              "      }\n",
              "    </script>\n",
              "  </div>\n",
              "\n",
              "\n",
              "    <div id=\"df-bb64a4dc-519c-47bb-b8d5-0f2e83ded9ec\">\n",
              "      <button class=\"colab-df-quickchart\" onclick=\"quickchart('df-bb64a4dc-519c-47bb-b8d5-0f2e83ded9ec')\"\n",
              "                title=\"Suggest charts\"\n",
              "                style=\"display:none;\">\n",
              "\n",
              "<svg xmlns=\"http://www.w3.org/2000/svg\" height=\"24px\"viewBox=\"0 0 24 24\"\n",
              "     width=\"24px\">\n",
              "    <g>\n",
              "        <path d=\"M19 3H5c-1.1 0-2 .9-2 2v14c0 1.1.9 2 2 2h14c1.1 0 2-.9 2-2V5c0-1.1-.9-2-2-2zM9 17H7v-7h2v7zm4 0h-2V7h2v10zm4 0h-2v-4h2v4z\"/>\n",
              "    </g>\n",
              "</svg>\n",
              "      </button>\n",
              "\n",
              "<style>\n",
              "  .colab-df-quickchart {\n",
              "      --bg-color: #E8F0FE;\n",
              "      --fill-color: #1967D2;\n",
              "      --hover-bg-color: #E2EBFA;\n",
              "      --hover-fill-color: #174EA6;\n",
              "      --disabled-fill-color: #AAA;\n",
              "      --disabled-bg-color: #DDD;\n",
              "  }\n",
              "\n",
              "  [theme=dark] .colab-df-quickchart {\n",
              "      --bg-color: #3B4455;\n",
              "      --fill-color: #D2E3FC;\n",
              "      --hover-bg-color: #434B5C;\n",
              "      --hover-fill-color: #FFFFFF;\n",
              "      --disabled-bg-color: #3B4455;\n",
              "      --disabled-fill-color: #666;\n",
              "  }\n",
              "\n",
              "  .colab-df-quickchart {\n",
              "    background-color: var(--bg-color);\n",
              "    border: none;\n",
              "    border-radius: 50%;\n",
              "    cursor: pointer;\n",
              "    display: none;\n",
              "    fill: var(--fill-color);\n",
              "    height: 32px;\n",
              "    padding: 0;\n",
              "    width: 32px;\n",
              "  }\n",
              "\n",
              "  .colab-df-quickchart:hover {\n",
              "    background-color: var(--hover-bg-color);\n",
              "    box-shadow: 0 1px 2px rgba(60, 64, 67, 0.3), 0 1px 3px 1px rgba(60, 64, 67, 0.15);\n",
              "    fill: var(--button-hover-fill-color);\n",
              "  }\n",
              "\n",
              "  .colab-df-quickchart-complete:disabled,\n",
              "  .colab-df-quickchart-complete:disabled:hover {\n",
              "    background-color: var(--disabled-bg-color);\n",
              "    fill: var(--disabled-fill-color);\n",
              "    box-shadow: none;\n",
              "  }\n",
              "\n",
              "  .colab-df-spinner {\n",
              "    border: 2px solid var(--fill-color);\n",
              "    border-color: transparent;\n",
              "    border-bottom-color: var(--fill-color);\n",
              "    animation:\n",
              "      spin 1s steps(1) infinite;\n",
              "  }\n",
              "\n",
              "  @keyframes spin {\n",
              "    0% {\n",
              "      border-color: transparent;\n",
              "      border-bottom-color: var(--fill-color);\n",
              "      border-left-color: var(--fill-color);\n",
              "    }\n",
              "    20% {\n",
              "      border-color: transparent;\n",
              "      border-left-color: var(--fill-color);\n",
              "      border-top-color: var(--fill-color);\n",
              "    }\n",
              "    30% {\n",
              "      border-color: transparent;\n",
              "      border-left-color: var(--fill-color);\n",
              "      border-top-color: var(--fill-color);\n",
              "      border-right-color: var(--fill-color);\n",
              "    }\n",
              "    40% {\n",
              "      border-color: transparent;\n",
              "      border-right-color: var(--fill-color);\n",
              "      border-top-color: var(--fill-color);\n",
              "    }\n",
              "    60% {\n",
              "      border-color: transparent;\n",
              "      border-right-color: var(--fill-color);\n",
              "    }\n",
              "    80% {\n",
              "      border-color: transparent;\n",
              "      border-right-color: var(--fill-color);\n",
              "      border-bottom-color: var(--fill-color);\n",
              "    }\n",
              "    90% {\n",
              "      border-color: transparent;\n",
              "      border-bottom-color: var(--fill-color);\n",
              "    }\n",
              "  }\n",
              "</style>\n",
              "\n",
              "      <script>\n",
              "        async function quickchart(key) {\n",
              "          const quickchartButtonEl =\n",
              "            document.querySelector('#' + key + ' button');\n",
              "          quickchartButtonEl.disabled = true;  // To prevent multiple clicks.\n",
              "          quickchartButtonEl.classList.add('colab-df-spinner');\n",
              "          try {\n",
              "            const charts = await google.colab.kernel.invokeFunction(\n",
              "                'suggestCharts', [key], {});\n",
              "          } catch (error) {\n",
              "            console.error('Error during call to suggestCharts:', error);\n",
              "          }\n",
              "          quickchartButtonEl.classList.remove('colab-df-spinner');\n",
              "          quickchartButtonEl.classList.add('colab-df-quickchart-complete');\n",
              "        }\n",
              "        (() => {\n",
              "          let quickchartButtonEl =\n",
              "            document.querySelector('#df-bb64a4dc-519c-47bb-b8d5-0f2e83ded9ec button');\n",
              "          quickchartButtonEl.style.display =\n",
              "            google.colab.kernel.accessAllowed ? 'block' : 'none';\n",
              "        })();\n",
              "      </script>\n",
              "    </div>\n",
              "\n",
              "  <div id=\"id_ca730322-f776-4a05-bb4f-c2553fc21f69\">\n",
              "    <style>\n",
              "      .colab-df-generate {\n",
              "        background-color: #E8F0FE;\n",
              "        border: none;\n",
              "        border-radius: 50%;\n",
              "        cursor: pointer;\n",
              "        display: none;\n",
              "        fill: #1967D2;\n",
              "        height: 32px;\n",
              "        padding: 0 0 0 0;\n",
              "        width: 32px;\n",
              "      }\n",
              "\n",
              "      .colab-df-generate:hover {\n",
              "        background-color: #E2EBFA;\n",
              "        box-shadow: 0px 1px 2px rgba(60, 64, 67, 0.3), 0px 1px 3px 1px rgba(60, 64, 67, 0.15);\n",
              "        fill: #174EA6;\n",
              "      }\n",
              "\n",
              "      [theme=dark] .colab-df-generate {\n",
              "        background-color: #3B4455;\n",
              "        fill: #D2E3FC;\n",
              "      }\n",
              "\n",
              "      [theme=dark] .colab-df-generate:hover {\n",
              "        background-color: #434B5C;\n",
              "        box-shadow: 0px 1px 3px 1px rgba(0, 0, 0, 0.15);\n",
              "        filter: drop-shadow(0px 1px 2px rgba(0, 0, 0, 0.3));\n",
              "        fill: #FFFFFF;\n",
              "      }\n",
              "    </style>\n",
              "    <button class=\"colab-df-generate\" onclick=\"generateWithVariable('df_excel')\"\n",
              "            title=\"Generate code using this dataframe.\"\n",
              "            style=\"display:none;\">\n",
              "\n",
              "  <svg xmlns=\"http://www.w3.org/2000/svg\" height=\"24px\"viewBox=\"0 0 24 24\"\n",
              "       width=\"24px\">\n",
              "    <path d=\"M7,19H8.4L18.45,9,17,7.55,7,17.6ZM5,21V16.75L18.45,3.32a2,2,0,0,1,2.83,0l1.4,1.43a1.91,1.91,0,0,1,.58,1.4,1.91,1.91,0,0,1-.58,1.4L9.25,21ZM18.45,9,17,7.55Zm-12,3A5.31,5.31,0,0,0,4.9,8.1,5.31,5.31,0,0,0,1,6.5,5.31,5.31,0,0,0,4.9,4.9,5.31,5.31,0,0,0,6.5,1,5.31,5.31,0,0,0,8.1,4.9,5.31,5.31,0,0,0,12,6.5,5.46,5.46,0,0,0,6.5,12Z\"/>\n",
              "  </svg>\n",
              "    </button>\n",
              "    <script>\n",
              "      (() => {\n",
              "      const buttonEl =\n",
              "        document.querySelector('#id_ca730322-f776-4a05-bb4f-c2553fc21f69 button.colab-df-generate');\n",
              "      buttonEl.style.display =\n",
              "        google.colab.kernel.accessAllowed ? 'block' : 'none';\n",
              "\n",
              "      buttonEl.onclick = () => {\n",
              "        google.colab.notebook.generateWithVariable('df_excel');\n",
              "      }\n",
              "      })();\n",
              "    </script>\n",
              "  </div>\n",
              "\n",
              "    </div>\n",
              "  </div>\n"
            ],
            "application/vnd.google.colaboratory.intrinsic+json": {
              "type": "dataframe",
              "variable_name": "df_excel",
              "summary": "{\n  \"name\": \"df_excel\",\n  \"rows\": 17,\n  \"fields\": [\n    {\n      \"column\": \"Unnamed: 0\",\n      \"properties\": {\n        \"dtype\": \"number\",\n        \"std\": null,\n        \"min\": null,\n        \"max\": null,\n        \"num_unique_values\": 0,\n        \"samples\": [],\n        \"semantic_type\": \"\",\n        \"description\": \"\"\n      }\n    },\n    {\n      \"column\": \"Unnamed: 1\",\n      \"properties\": {\n        \"dtype\": \"category\",\n        \"num_unique_values\": 7,\n        \"samples\": [],\n        \"semantic_type\": \"\",\n        \"description\": \"\"\n      }\n    },\n    {\n      \"column\": \"Unnamed: 2\",\n      \"properties\": {\n        \"dtype\": \"category\",\n        \"num_unique_values\": 2,\n        \"samples\": [],\n        \"semantic_type\": \"\",\n        \"description\": \"\"\n      }\n    },\n    {\n      \"column\": \"Unnamed: 3\",\n      \"properties\": {\n        \"dtype\": \"category\",\n        \"num_unique_values\": 6,\n        \"samples\": [],\n        \"semantic_type\": \"\",\n        \"description\": \"\"\n      }\n    }\n  ]\n}"
            }
          },
          "metadata": {},
          "execution_count": 18
        }
      ]
    },
    {
      "cell_type": "code",
      "source": [
        "# Zaawansowane opcje wczytywania z pliku Excel\n",
        "\n",
        "df_excel = pd.read_excel(\n",
        "    '/content/sample_data/Kopia netflix_titles.xlsx',\n",
        "    sheet_name='netflix_titles',  # Określenie arkusza\n",
        "    skiprows=0,           # Pominięcie pierwszego wiersza (nagłówka)\n",
        "    usecols='A:I'         # Wybór kolumn A do C\n",
        ")\n",
        "print(df_excel)"
      ],
      "metadata": {
        "id": "8kNfpr4gDWd3",
        "colab": {
          "base_uri": "https://localhost:8080/"
        },
        "outputId": "2da878f7-a551-43e9-af86-eec820b1d9f4"
      },
      "execution_count": null,
      "outputs": [
        {
          "output_type": "stream",
          "name": "stdout",
          "text": [
            "      duration_minutes  duration_seasons     type  \\\n",
            "0                 90.0               NaN    Movie   \n",
            "1                 94.0               NaN    Movie   \n",
            "2                  NaN               1.0  TV Show   \n",
            "3                  NaN               1.0  TV Show   \n",
            "4                 99.0               NaN    Movie   \n",
            "...                ...               ...      ...   \n",
            "6230               NaN              13.0  TV Show   \n",
            "6231               NaN               4.0  TV Show   \n",
            "6232              60.0               NaN    Movie   \n",
            "6233               NaN               2.0  TV Show   \n",
            "6234               NaN              10.0  TV Show   \n",
            "\n",
            "                                            title date_added  release_year  \\\n",
            "0         Norm of the North: King Sized Adventure 2019-09-09        2019.0   \n",
            "1                      Jandino: Whatever it Takes 2016-09-09        2016.0   \n",
            "2                              Transformers Prime 2018-09-08        2013.0   \n",
            "3                Transformers: Robots in Disguise 2018-09-08        2016.0   \n",
            "4                                    #realityhigh 2017-09-08        2017.0   \n",
            "...                                           ...        ...           ...   \n",
            "6230                                 Red vs. Blue        NaT        2015.0   \n",
            "6231                                        Maron        NaT        2016.0   \n",
            "6232       Little Baby Bum: Nursery Rhyme Friends        NaT        2016.0   \n",
            "6233  A Young Doctor's Notebook and Other Stories        NaT        2013.0   \n",
            "6234                                      Friends        NaT        2003.0   \n",
            "\n",
            "        rating                                        description     show_id  \n",
            "0        TV-PG  Before planning an awesome wedding for his gra...  81145628.0  \n",
            "1        TV-MA  Jandino Asporaat riffs on the challenges of ra...  80117401.0  \n",
            "2     TV-Y7-FV  With the help of three human allies, the Autob...  70234439.0  \n",
            "3        TV-Y7  When a prison ship crash unleashes hundreds of...  80058654.0  \n",
            "4        TV-14  When nerdy high schooler Dani finally attracts...  80125979.0  \n",
            "...        ...                                                ...         ...  \n",
            "6230        NR  This parody of first-person shooter games, mil...  80000063.0  \n",
            "6231     TV-MA  Marc Maron stars as Marc Maron, who interviews...  70286564.0  \n",
            "6232       NaN  Nursery rhymes and original music for children...  80116008.0  \n",
            "6233     TV-MA  Set during the Russian Revolution, this comic ...  70281022.0  \n",
            "6234     TV-14  This hit sitcom follows the merry misadventure...  70153404.0  \n",
            "\n",
            "[6235 rows x 9 columns]\n"
          ]
        }
      ]
    },
    {
      "cell_type": "markdown",
      "source": [
        "Właściwości i metody kluczowych struktur"
      ],
      "metadata": {
        "id": "vOnWftUS8NKR"
      }
    },
    {
      "cell_type": "code",
      "source": [
        "data = pd.DataFrame({\n",
        "    'Name': ['Alice', 'Bob', 'Charles'],\n",
        "    'Age': [25, 30, 35],\n",
        "    'City': ['New York', 'Los Angeles', 'Chicago']\n",
        "})\n",
        "\n",
        "print(data)"
      ],
      "metadata": {
        "id": "PnGEU8328RbF",
        "colab": {
          "base_uri": "https://localhost:8080/"
        },
        "outputId": "3132adb8-d8d7-44db-ca92-4af77719cfbc"
      },
      "execution_count": null,
      "outputs": [
        {
          "output_type": "stream",
          "name": "stdout",
          "text": [
            "      Name  Age         City\n",
            "0    Alice   25     New York\n",
            "1      Bob   30  Los Angeles\n",
            "2  Charles   35      Chicago\n"
          ]
        }
      ]
    },
    {
      "cell_type": "code",
      "source": [
        " data['Name']"
      ],
      "metadata": {
        "colab": {
          "base_uri": "https://localhost:8080/",
          "height": 178
        },
        "id": "gq56zAcXDjku",
        "outputId": "10078c7f-f7dd-44ce-c7d6-cb179305d9a3"
      },
      "execution_count": null,
      "outputs": [
        {
          "output_type": "execute_result",
          "data": {
            "text/plain": [
              "0      Alice\n",
              "1        Bob\n",
              "2    Charles\n",
              "Name: Name, dtype: object"
            ],
            "text/html": [
              "<div>\n",
              "<style scoped>\n",
              "    .dataframe tbody tr th:only-of-type {\n",
              "        vertical-align: middle;\n",
              "    }\n",
              "\n",
              "    .dataframe tbody tr th {\n",
              "        vertical-align: top;\n",
              "    }\n",
              "\n",
              "    .dataframe thead th {\n",
              "        text-align: right;\n",
              "    }\n",
              "</style>\n",
              "<table border=\"1\" class=\"dataframe\">\n",
              "  <thead>\n",
              "    <tr style=\"text-align: right;\">\n",
              "      <th></th>\n",
              "      <th>Name</th>\n",
              "    </tr>\n",
              "  </thead>\n",
              "  <tbody>\n",
              "    <tr>\n",
              "      <th>0</th>\n",
              "      <td>Alice</td>\n",
              "    </tr>\n",
              "    <tr>\n",
              "      <th>1</th>\n",
              "      <td>Bob</td>\n",
              "    </tr>\n",
              "    <tr>\n",
              "      <th>2</th>\n",
              "      <td>Charles</td>\n",
              "    </tr>\n",
              "  </tbody>\n",
              "</table>\n",
              "</div><br><label><b>dtype:</b> object</label>"
            ]
          },
          "metadata": {},
          "execution_count": 22
        }
      ]
    },
    {
      "cell_type": "code",
      "source": [
        "# Wybieranie kolumny 'Name'\n",
        "names = data['Name']\n",
        "print(names)"
      ],
      "metadata": {
        "colab": {
          "base_uri": "https://localhost:8080/"
        },
        "id": "fhqgNNEwDUmZ",
        "outputId": "d751beb1-1dde-4b84-faaa-c2dac9f6e7bc"
      },
      "execution_count": null,
      "outputs": [
        {
          "output_type": "stream",
          "name": "stdout",
          "text": [
            "0      Alice\n",
            "1        Bob\n",
            "2    Charles\n",
            "Name: Name, dtype: object\n"
          ]
        }
      ]
    },
    {
      "cell_type": "code",
      "source": [
        "# Wybieranie wierszy po indeksach\n",
        "first_row = data.iloc[1]\n",
        "print(first_row)"
      ],
      "metadata": {
        "id": "HziM77JMEcsp",
        "colab": {
          "base_uri": "https://localhost:8080/"
        },
        "outputId": "1279b554-61d7-4838-f44b-c341334d1ed6"
      },
      "execution_count": null,
      "outputs": [
        {
          "output_type": "stream",
          "name": "stdout",
          "text": [
            "Name            Bob\n",
            "Age              30\n",
            "City    Los Angeles\n",
            "Name: 1, dtype: object\n"
          ]
        }
      ]
    },
    {
      "cell_type": "code",
      "source": [
        "# Wybieranie wierszy na podstawie warunku\n",
        "over_30 = data[data['Age'] >= 30]\n",
        "print(over_30)"
      ],
      "metadata": {
        "id": "SQ0yIVoFk2Us",
        "colab": {
          "base_uri": "https://localhost:8080/"
        },
        "outputId": "03c8ff74-d2e7-4bfc-f8a9-cc7934e210ca"
      },
      "execution_count": null,
      "outputs": [
        {
          "output_type": "stream",
          "name": "stdout",
          "text": [
            "      Name  Age         City\n",
            "1      Bob   30  Los Angeles\n",
            "2  Charles   35      Chicago\n"
          ]
        }
      ]
    },
    {
      "cell_type": "code",
      "source": [
        "#Wybieranie wszystkich osób które mieszkają w Los Angeles\n",
        "chicago = data[data['City'] == 'Los Angeles']\n",
        "print(chicago)"
      ],
      "metadata": {
        "id": "uiVbq2RPenKT",
        "colab": {
          "base_uri": "https://localhost:8080/"
        },
        "outputId": "b43f4346-4aca-4e1f-ad75-090ea7344c05"
      },
      "execution_count": null,
      "outputs": [
        {
          "output_type": "stream",
          "name": "stdout",
          "text": [
            "  Name  Age         City\n",
            "1  Bob   30  Los Angeles\n"
          ]
        }
      ]
    },
    {
      "cell_type": "code",
      "source": [
        "# Filtrowanie osób powyżej 30 lat\n",
        "adults = data[data['Age'] > 30]\n",
        "print(adults)\n"
      ],
      "metadata": {
        "id": "Q6Q8aYsLEkKh",
        "colab": {
          "base_uri": "https://localhost:8080/"
        },
        "outputId": "79d1f743-43f9-447b-8ed8-f3a94176d863"
      },
      "execution_count": null,
      "outputs": [
        {
          "output_type": "stream",
          "name": "stdout",
          "text": [
            "      Name  Age     City\n",
            "2  Charles   35  Chicago\n"
          ]
        }
      ]
    },
    {
      "cell_type": "code",
      "source": [
        "data"
      ],
      "metadata": {
        "colab": {
          "base_uri": "https://localhost:8080/",
          "height": 143
        },
        "id": "5yHU9dpXGci5",
        "outputId": "fccf594c-af1f-4c7b-d40c-c2ee851d1f87"
      },
      "execution_count": null,
      "outputs": [
        {
          "output_type": "execute_result",
          "data": {
            "text/plain": [
              "      Name  Age         City\n",
              "0    Alice   25     New York\n",
              "1      Bob   30  Los Angeles\n",
              "2  Charles   35      Chicago"
            ],
            "text/html": [
              "\n",
              "  <div id=\"df-939021f4-253b-440c-b927-a2cbcdb9ebbc\" class=\"colab-df-container\">\n",
              "    <div>\n",
              "<style scoped>\n",
              "    .dataframe tbody tr th:only-of-type {\n",
              "        vertical-align: middle;\n",
              "    }\n",
              "\n",
              "    .dataframe tbody tr th {\n",
              "        vertical-align: top;\n",
              "    }\n",
              "\n",
              "    .dataframe thead th {\n",
              "        text-align: right;\n",
              "    }\n",
              "</style>\n",
              "<table border=\"1\" class=\"dataframe\">\n",
              "  <thead>\n",
              "    <tr style=\"text-align: right;\">\n",
              "      <th></th>\n",
              "      <th>Name</th>\n",
              "      <th>Age</th>\n",
              "      <th>City</th>\n",
              "    </tr>\n",
              "  </thead>\n",
              "  <tbody>\n",
              "    <tr>\n",
              "      <th>0</th>\n",
              "      <td>Alice</td>\n",
              "      <td>25</td>\n",
              "      <td>New York</td>\n",
              "    </tr>\n",
              "    <tr>\n",
              "      <th>1</th>\n",
              "      <td>Bob</td>\n",
              "      <td>30</td>\n",
              "      <td>Los Angeles</td>\n",
              "    </tr>\n",
              "    <tr>\n",
              "      <th>2</th>\n",
              "      <td>Charles</td>\n",
              "      <td>35</td>\n",
              "      <td>Chicago</td>\n",
              "    </tr>\n",
              "  </tbody>\n",
              "</table>\n",
              "</div>\n",
              "    <div class=\"colab-df-buttons\">\n",
              "\n",
              "  <div class=\"colab-df-container\">\n",
              "    <button class=\"colab-df-convert\" onclick=\"convertToInteractive('df-939021f4-253b-440c-b927-a2cbcdb9ebbc')\"\n",
              "            title=\"Convert this dataframe to an interactive table.\"\n",
              "            style=\"display:none;\">\n",
              "\n",
              "  <svg xmlns=\"http://www.w3.org/2000/svg\" height=\"24px\" viewBox=\"0 -960 960 960\">\n",
              "    <path d=\"M120-120v-720h720v720H120Zm60-500h600v-160H180v160Zm220 220h160v-160H400v160Zm0 220h160v-160H400v160ZM180-400h160v-160H180v160Zm440 0h160v-160H620v160ZM180-180h160v-160H180v160Zm440 0h160v-160H620v160Z\"/>\n",
              "  </svg>\n",
              "    </button>\n",
              "\n",
              "  <style>\n",
              "    .colab-df-container {\n",
              "      display:flex;\n",
              "      gap: 12px;\n",
              "    }\n",
              "\n",
              "    .colab-df-convert {\n",
              "      background-color: #E8F0FE;\n",
              "      border: none;\n",
              "      border-radius: 50%;\n",
              "      cursor: pointer;\n",
              "      display: none;\n",
              "      fill: #1967D2;\n",
              "      height: 32px;\n",
              "      padding: 0 0 0 0;\n",
              "      width: 32px;\n",
              "    }\n",
              "\n",
              "    .colab-df-convert:hover {\n",
              "      background-color: #E2EBFA;\n",
              "      box-shadow: 0px 1px 2px rgba(60, 64, 67, 0.3), 0px 1px 3px 1px rgba(60, 64, 67, 0.15);\n",
              "      fill: #174EA6;\n",
              "    }\n",
              "\n",
              "    .colab-df-buttons div {\n",
              "      margin-bottom: 4px;\n",
              "    }\n",
              "\n",
              "    [theme=dark] .colab-df-convert {\n",
              "      background-color: #3B4455;\n",
              "      fill: #D2E3FC;\n",
              "    }\n",
              "\n",
              "    [theme=dark] .colab-df-convert:hover {\n",
              "      background-color: #434B5C;\n",
              "      box-shadow: 0px 1px 3px 1px rgba(0, 0, 0, 0.15);\n",
              "      filter: drop-shadow(0px 1px 2px rgba(0, 0, 0, 0.3));\n",
              "      fill: #FFFFFF;\n",
              "    }\n",
              "  </style>\n",
              "\n",
              "    <script>\n",
              "      const buttonEl =\n",
              "        document.querySelector('#df-939021f4-253b-440c-b927-a2cbcdb9ebbc button.colab-df-convert');\n",
              "      buttonEl.style.display =\n",
              "        google.colab.kernel.accessAllowed ? 'block' : 'none';\n",
              "\n",
              "      async function convertToInteractive(key) {\n",
              "        const element = document.querySelector('#df-939021f4-253b-440c-b927-a2cbcdb9ebbc');\n",
              "        const dataTable =\n",
              "          await google.colab.kernel.invokeFunction('convertToInteractive',\n",
              "                                                    [key], {});\n",
              "        if (!dataTable) return;\n",
              "\n",
              "        const docLinkHtml = 'Like what you see? Visit the ' +\n",
              "          '<a target=\"_blank\" href=https://colab.research.google.com/notebooks/data_table.ipynb>data table notebook</a>'\n",
              "          + ' to learn more about interactive tables.';\n",
              "        element.innerHTML = '';\n",
              "        dataTable['output_type'] = 'display_data';\n",
              "        await google.colab.output.renderOutput(dataTable, element);\n",
              "        const docLink = document.createElement('div');\n",
              "        docLink.innerHTML = docLinkHtml;\n",
              "        element.appendChild(docLink);\n",
              "      }\n",
              "    </script>\n",
              "  </div>\n",
              "\n",
              "\n",
              "    <div id=\"df-4fde0bf6-e793-47fd-bf30-0196fbbd5cc7\">\n",
              "      <button class=\"colab-df-quickchart\" onclick=\"quickchart('df-4fde0bf6-e793-47fd-bf30-0196fbbd5cc7')\"\n",
              "                title=\"Suggest charts\"\n",
              "                style=\"display:none;\">\n",
              "\n",
              "<svg xmlns=\"http://www.w3.org/2000/svg\" height=\"24px\"viewBox=\"0 0 24 24\"\n",
              "     width=\"24px\">\n",
              "    <g>\n",
              "        <path d=\"M19 3H5c-1.1 0-2 .9-2 2v14c0 1.1.9 2 2 2h14c1.1 0 2-.9 2-2V5c0-1.1-.9-2-2-2zM9 17H7v-7h2v7zm4 0h-2V7h2v10zm4 0h-2v-4h2v4z\"/>\n",
              "    </g>\n",
              "</svg>\n",
              "      </button>\n",
              "\n",
              "<style>\n",
              "  .colab-df-quickchart {\n",
              "      --bg-color: #E8F0FE;\n",
              "      --fill-color: #1967D2;\n",
              "      --hover-bg-color: #E2EBFA;\n",
              "      --hover-fill-color: #174EA6;\n",
              "      --disabled-fill-color: #AAA;\n",
              "      --disabled-bg-color: #DDD;\n",
              "  }\n",
              "\n",
              "  [theme=dark] .colab-df-quickchart {\n",
              "      --bg-color: #3B4455;\n",
              "      --fill-color: #D2E3FC;\n",
              "      --hover-bg-color: #434B5C;\n",
              "      --hover-fill-color: #FFFFFF;\n",
              "      --disabled-bg-color: #3B4455;\n",
              "      --disabled-fill-color: #666;\n",
              "  }\n",
              "\n",
              "  .colab-df-quickchart {\n",
              "    background-color: var(--bg-color);\n",
              "    border: none;\n",
              "    border-radius: 50%;\n",
              "    cursor: pointer;\n",
              "    display: none;\n",
              "    fill: var(--fill-color);\n",
              "    height: 32px;\n",
              "    padding: 0;\n",
              "    width: 32px;\n",
              "  }\n",
              "\n",
              "  .colab-df-quickchart:hover {\n",
              "    background-color: var(--hover-bg-color);\n",
              "    box-shadow: 0 1px 2px rgba(60, 64, 67, 0.3), 0 1px 3px 1px rgba(60, 64, 67, 0.15);\n",
              "    fill: var(--button-hover-fill-color);\n",
              "  }\n",
              "\n",
              "  .colab-df-quickchart-complete:disabled,\n",
              "  .colab-df-quickchart-complete:disabled:hover {\n",
              "    background-color: var(--disabled-bg-color);\n",
              "    fill: var(--disabled-fill-color);\n",
              "    box-shadow: none;\n",
              "  }\n",
              "\n",
              "  .colab-df-spinner {\n",
              "    border: 2px solid var(--fill-color);\n",
              "    border-color: transparent;\n",
              "    border-bottom-color: var(--fill-color);\n",
              "    animation:\n",
              "      spin 1s steps(1) infinite;\n",
              "  }\n",
              "\n",
              "  @keyframes spin {\n",
              "    0% {\n",
              "      border-color: transparent;\n",
              "      border-bottom-color: var(--fill-color);\n",
              "      border-left-color: var(--fill-color);\n",
              "    }\n",
              "    20% {\n",
              "      border-color: transparent;\n",
              "      border-left-color: var(--fill-color);\n",
              "      border-top-color: var(--fill-color);\n",
              "    }\n",
              "    30% {\n",
              "      border-color: transparent;\n",
              "      border-left-color: var(--fill-color);\n",
              "      border-top-color: var(--fill-color);\n",
              "      border-right-color: var(--fill-color);\n",
              "    }\n",
              "    40% {\n",
              "      border-color: transparent;\n",
              "      border-right-color: var(--fill-color);\n",
              "      border-top-color: var(--fill-color);\n",
              "    }\n",
              "    60% {\n",
              "      border-color: transparent;\n",
              "      border-right-color: var(--fill-color);\n",
              "    }\n",
              "    80% {\n",
              "      border-color: transparent;\n",
              "      border-right-color: var(--fill-color);\n",
              "      border-bottom-color: var(--fill-color);\n",
              "    }\n",
              "    90% {\n",
              "      border-color: transparent;\n",
              "      border-bottom-color: var(--fill-color);\n",
              "    }\n",
              "  }\n",
              "</style>\n",
              "\n",
              "      <script>\n",
              "        async function quickchart(key) {\n",
              "          const quickchartButtonEl =\n",
              "            document.querySelector('#' + key + ' button');\n",
              "          quickchartButtonEl.disabled = true;  // To prevent multiple clicks.\n",
              "          quickchartButtonEl.classList.add('colab-df-spinner');\n",
              "          try {\n",
              "            const charts = await google.colab.kernel.invokeFunction(\n",
              "                'suggestCharts', [key], {});\n",
              "          } catch (error) {\n",
              "            console.error('Error during call to suggestCharts:', error);\n",
              "          }\n",
              "          quickchartButtonEl.classList.remove('colab-df-spinner');\n",
              "          quickchartButtonEl.classList.add('colab-df-quickchart-complete');\n",
              "        }\n",
              "        (() => {\n",
              "          let quickchartButtonEl =\n",
              "            document.querySelector('#df-4fde0bf6-e793-47fd-bf30-0196fbbd5cc7 button');\n",
              "          quickchartButtonEl.style.display =\n",
              "            google.colab.kernel.accessAllowed ? 'block' : 'none';\n",
              "        })();\n",
              "      </script>\n",
              "    </div>\n",
              "\n",
              "  <div id=\"id_8d9150d8-8f73-4f1f-a0dd-2d1b9ce1e1ff\">\n",
              "    <style>\n",
              "      .colab-df-generate {\n",
              "        background-color: #E8F0FE;\n",
              "        border: none;\n",
              "        border-radius: 50%;\n",
              "        cursor: pointer;\n",
              "        display: none;\n",
              "        fill: #1967D2;\n",
              "        height: 32px;\n",
              "        padding: 0 0 0 0;\n",
              "        width: 32px;\n",
              "      }\n",
              "\n",
              "      .colab-df-generate:hover {\n",
              "        background-color: #E2EBFA;\n",
              "        box-shadow: 0px 1px 2px rgba(60, 64, 67, 0.3), 0px 1px 3px 1px rgba(60, 64, 67, 0.15);\n",
              "        fill: #174EA6;\n",
              "      }\n",
              "\n",
              "      [theme=dark] .colab-df-generate {\n",
              "        background-color: #3B4455;\n",
              "        fill: #D2E3FC;\n",
              "      }\n",
              "\n",
              "      [theme=dark] .colab-df-generate:hover {\n",
              "        background-color: #434B5C;\n",
              "        box-shadow: 0px 1px 3px 1px rgba(0, 0, 0, 0.15);\n",
              "        filter: drop-shadow(0px 1px 2px rgba(0, 0, 0, 0.3));\n",
              "        fill: #FFFFFF;\n",
              "      }\n",
              "    </style>\n",
              "    <button class=\"colab-df-generate\" onclick=\"generateWithVariable('data')\"\n",
              "            title=\"Generate code using this dataframe.\"\n",
              "            style=\"display:none;\">\n",
              "\n",
              "  <svg xmlns=\"http://www.w3.org/2000/svg\" height=\"24px\"viewBox=\"0 0 24 24\"\n",
              "       width=\"24px\">\n",
              "    <path d=\"M7,19H8.4L18.45,9,17,7.55,7,17.6ZM5,21V16.75L18.45,3.32a2,2,0,0,1,2.83,0l1.4,1.43a1.91,1.91,0,0,1,.58,1.4,1.91,1.91,0,0,1-.58,1.4L9.25,21ZM18.45,9,17,7.55Zm-12,3A5.31,5.31,0,0,0,4.9,8.1,5.31,5.31,0,0,0,1,6.5,5.31,5.31,0,0,0,4.9,4.9,5.31,5.31,0,0,0,6.5,1,5.31,5.31,0,0,0,8.1,4.9,5.31,5.31,0,0,0,12,6.5,5.46,5.46,0,0,0,6.5,12Z\"/>\n",
              "  </svg>\n",
              "    </button>\n",
              "    <script>\n",
              "      (() => {\n",
              "      const buttonEl =\n",
              "        document.querySelector('#id_8d9150d8-8f73-4f1f-a0dd-2d1b9ce1e1ff button.colab-df-generate');\n",
              "      buttonEl.style.display =\n",
              "        google.colab.kernel.accessAllowed ? 'block' : 'none';\n",
              "\n",
              "      buttonEl.onclick = () => {\n",
              "        google.colab.notebook.generateWithVariable('data');\n",
              "      }\n",
              "      })();\n",
              "    </script>\n",
              "  </div>\n",
              "\n",
              "    </div>\n",
              "  </div>\n"
            ],
            "application/vnd.google.colaboratory.intrinsic+json": {
              "type": "dataframe",
              "variable_name": "data",
              "summary": "{\n  \"name\": \"data\",\n  \"rows\": 3,\n  \"fields\": [\n    {\n      \"column\": \"Name\",\n      \"properties\": {\n        \"dtype\": \"string\",\n        \"num_unique_values\": 3,\n        \"samples\": [\n          \"Alice\",\n          \"Bob\",\n          \"Charles\"\n        ],\n        \"semantic_type\": \"\",\n        \"description\": \"\"\n      }\n    },\n    {\n      \"column\": \"Age\",\n      \"properties\": {\n        \"dtype\": \"number\",\n        \"std\": 5,\n        \"min\": 25,\n        \"max\": 35,\n        \"num_unique_values\": 3,\n        \"samples\": [\n          25,\n          30,\n          35\n        ],\n        \"semantic_type\": \"\",\n        \"description\": \"\"\n      }\n    },\n    {\n      \"column\": \"City\",\n      \"properties\": {\n        \"dtype\": \"string\",\n        \"num_unique_values\": 3,\n        \"samples\": [\n          \"New York\",\n          \"Los Angeles\",\n          \"Chicago\"\n        ],\n        \"semantic_type\": \"\",\n        \"description\": \"\"\n      }\n    }\n  ]\n}"
            }
          },
          "metadata": {},
          "execution_count": 36
        }
      ]
    },
    {
      "cell_type": "code",
      "source": [
        "# Sortowanie danych wg wieku\n",
        "sorted_data = data.sort_values(by='Age', ascending=False)\n",
        "print(sorted_data)"
      ],
      "metadata": {
        "id": "P5pGy5zdErQS",
        "colab": {
          "base_uri": "https://localhost:8080/"
        },
        "outputId": "c9aee024-9540-46ca-aa4c-d1da8a67f0cc"
      },
      "execution_count": null,
      "outputs": [
        {
          "output_type": "stream",
          "name": "stdout",
          "text": [
            "      Name  Age         City\n",
            "2  Charles   35      Chicago\n",
            "1      Bob   30  Los Angeles\n",
            "0    Alice   25     New York\n"
          ]
        }
      ]
    },
    {
      "cell_type": "code",
      "source": [
        "# Dodawanie nowej kolumny\n",
        "data['Employed'] = [True, False, 0]\n",
        "print(data)"
      ],
      "metadata": {
        "id": "tncC_I_cE55l",
        "colab": {
          "base_uri": "https://localhost:8080/"
        },
        "outputId": "b3b01409-3483-48b4-a3a1-d4633bbe8a86"
      },
      "execution_count": null,
      "outputs": [
        {
          "output_type": "stream",
          "name": "stdout",
          "text": [
            "      Name  Age         City Employed\n",
            "0    Alice   25     New York     True\n",
            "1      Bob   30  Los Angeles    False\n",
            "2  Charles   35      Chicago        0\n"
          ]
        }
      ]
    },
    {
      "cell_type": "code",
      "source": [
        "data['Employed_2'] = True\n",
        "print(data)"
      ],
      "metadata": {
        "colab": {
          "base_uri": "https://localhost:8080/"
        },
        "id": "vv1HmDn3GwPn",
        "outputId": "26f45bb4-6028-4a2a-8e1a-6850a713ebea"
      },
      "execution_count": null,
      "outputs": [
        {
          "output_type": "stream",
          "name": "stdout",
          "text": [
            "      Name  Age         City Employed  Employed_2\n",
            "0    Alice   25     New York     True        True\n",
            "1      Bob   30  Los Angeles    False        True\n",
            "2  Charles   35      Chicago        0        True\n"
          ]
        }
      ]
    },
    {
      "cell_type": "code",
      "source": [
        "data"
      ],
      "metadata": {
        "colab": {
          "base_uri": "https://localhost:8080/",
          "height": 143
        },
        "id": "zkLAh2CRIHgN",
        "outputId": "9ac6815b-d093-49fe-8ce2-e81c6e6f39da"
      },
      "execution_count": null,
      "outputs": [
        {
          "output_type": "execute_result",
          "data": {
            "text/plain": [
              "      Name  Age         City Employed  Employed_2\n",
              "0    Alice   25     New York     True        True\n",
              "1      Bob   30  Los Angeles    False        True\n",
              "2  Charles   35      Chicago        0        True"
            ],
            "text/html": [
              "\n",
              "  <div id=\"df-45aaf663-cd34-4493-b749-3c2cb8d5908d\" class=\"colab-df-container\">\n",
              "    <div>\n",
              "<style scoped>\n",
              "    .dataframe tbody tr th:only-of-type {\n",
              "        vertical-align: middle;\n",
              "    }\n",
              "\n",
              "    .dataframe tbody tr th {\n",
              "        vertical-align: top;\n",
              "    }\n",
              "\n",
              "    .dataframe thead th {\n",
              "        text-align: right;\n",
              "    }\n",
              "</style>\n",
              "<table border=\"1\" class=\"dataframe\">\n",
              "  <thead>\n",
              "    <tr style=\"text-align: right;\">\n",
              "      <th></th>\n",
              "      <th>Name</th>\n",
              "      <th>Age</th>\n",
              "      <th>City</th>\n",
              "      <th>Employed</th>\n",
              "      <th>Employed_2</th>\n",
              "    </tr>\n",
              "  </thead>\n",
              "  <tbody>\n",
              "    <tr>\n",
              "      <th>0</th>\n",
              "      <td>Alice</td>\n",
              "      <td>25</td>\n",
              "      <td>New York</td>\n",
              "      <td>True</td>\n",
              "      <td>True</td>\n",
              "    </tr>\n",
              "    <tr>\n",
              "      <th>1</th>\n",
              "      <td>Bob</td>\n",
              "      <td>30</td>\n",
              "      <td>Los Angeles</td>\n",
              "      <td>False</td>\n",
              "      <td>True</td>\n",
              "    </tr>\n",
              "    <tr>\n",
              "      <th>2</th>\n",
              "      <td>Charles</td>\n",
              "      <td>35</td>\n",
              "      <td>Chicago</td>\n",
              "      <td>0</td>\n",
              "      <td>True</td>\n",
              "    </tr>\n",
              "  </tbody>\n",
              "</table>\n",
              "</div>\n",
              "    <div class=\"colab-df-buttons\">\n",
              "\n",
              "  <div class=\"colab-df-container\">\n",
              "    <button class=\"colab-df-convert\" onclick=\"convertToInteractive('df-45aaf663-cd34-4493-b749-3c2cb8d5908d')\"\n",
              "            title=\"Convert this dataframe to an interactive table.\"\n",
              "            style=\"display:none;\">\n",
              "\n",
              "  <svg xmlns=\"http://www.w3.org/2000/svg\" height=\"24px\" viewBox=\"0 -960 960 960\">\n",
              "    <path d=\"M120-120v-720h720v720H120Zm60-500h600v-160H180v160Zm220 220h160v-160H400v160Zm0 220h160v-160H400v160ZM180-400h160v-160H180v160Zm440 0h160v-160H620v160ZM180-180h160v-160H180v160Zm440 0h160v-160H620v160Z\"/>\n",
              "  </svg>\n",
              "    </button>\n",
              "\n",
              "  <style>\n",
              "    .colab-df-container {\n",
              "      display:flex;\n",
              "      gap: 12px;\n",
              "    }\n",
              "\n",
              "    .colab-df-convert {\n",
              "      background-color: #E8F0FE;\n",
              "      border: none;\n",
              "      border-radius: 50%;\n",
              "      cursor: pointer;\n",
              "      display: none;\n",
              "      fill: #1967D2;\n",
              "      height: 32px;\n",
              "      padding: 0 0 0 0;\n",
              "      width: 32px;\n",
              "    }\n",
              "\n",
              "    .colab-df-convert:hover {\n",
              "      background-color: #E2EBFA;\n",
              "      box-shadow: 0px 1px 2px rgba(60, 64, 67, 0.3), 0px 1px 3px 1px rgba(60, 64, 67, 0.15);\n",
              "      fill: #174EA6;\n",
              "    }\n",
              "\n",
              "    .colab-df-buttons div {\n",
              "      margin-bottom: 4px;\n",
              "    }\n",
              "\n",
              "    [theme=dark] .colab-df-convert {\n",
              "      background-color: #3B4455;\n",
              "      fill: #D2E3FC;\n",
              "    }\n",
              "\n",
              "    [theme=dark] .colab-df-convert:hover {\n",
              "      background-color: #434B5C;\n",
              "      box-shadow: 0px 1px 3px 1px rgba(0, 0, 0, 0.15);\n",
              "      filter: drop-shadow(0px 1px 2px rgba(0, 0, 0, 0.3));\n",
              "      fill: #FFFFFF;\n",
              "    }\n",
              "  </style>\n",
              "\n",
              "    <script>\n",
              "      const buttonEl =\n",
              "        document.querySelector('#df-45aaf663-cd34-4493-b749-3c2cb8d5908d button.colab-df-convert');\n",
              "      buttonEl.style.display =\n",
              "        google.colab.kernel.accessAllowed ? 'block' : 'none';\n",
              "\n",
              "      async function convertToInteractive(key) {\n",
              "        const element = document.querySelector('#df-45aaf663-cd34-4493-b749-3c2cb8d5908d');\n",
              "        const dataTable =\n",
              "          await google.colab.kernel.invokeFunction('convertToInteractive',\n",
              "                                                    [key], {});\n",
              "        if (!dataTable) return;\n",
              "\n",
              "        const docLinkHtml = 'Like what you see? Visit the ' +\n",
              "          '<a target=\"_blank\" href=https://colab.research.google.com/notebooks/data_table.ipynb>data table notebook</a>'\n",
              "          + ' to learn more about interactive tables.';\n",
              "        element.innerHTML = '';\n",
              "        dataTable['output_type'] = 'display_data';\n",
              "        await google.colab.output.renderOutput(dataTable, element);\n",
              "        const docLink = document.createElement('div');\n",
              "        docLink.innerHTML = docLinkHtml;\n",
              "        element.appendChild(docLink);\n",
              "      }\n",
              "    </script>\n",
              "  </div>\n",
              "\n",
              "\n",
              "    <div id=\"df-ce28422d-e01b-42f9-a1ab-aa6870b8038b\">\n",
              "      <button class=\"colab-df-quickchart\" onclick=\"quickchart('df-ce28422d-e01b-42f9-a1ab-aa6870b8038b')\"\n",
              "                title=\"Suggest charts\"\n",
              "                style=\"display:none;\">\n",
              "\n",
              "<svg xmlns=\"http://www.w3.org/2000/svg\" height=\"24px\"viewBox=\"0 0 24 24\"\n",
              "     width=\"24px\">\n",
              "    <g>\n",
              "        <path d=\"M19 3H5c-1.1 0-2 .9-2 2v14c0 1.1.9 2 2 2h14c1.1 0 2-.9 2-2V5c0-1.1-.9-2-2-2zM9 17H7v-7h2v7zm4 0h-2V7h2v10zm4 0h-2v-4h2v4z\"/>\n",
              "    </g>\n",
              "</svg>\n",
              "      </button>\n",
              "\n",
              "<style>\n",
              "  .colab-df-quickchart {\n",
              "      --bg-color: #E8F0FE;\n",
              "      --fill-color: #1967D2;\n",
              "      --hover-bg-color: #E2EBFA;\n",
              "      --hover-fill-color: #174EA6;\n",
              "      --disabled-fill-color: #AAA;\n",
              "      --disabled-bg-color: #DDD;\n",
              "  }\n",
              "\n",
              "  [theme=dark] .colab-df-quickchart {\n",
              "      --bg-color: #3B4455;\n",
              "      --fill-color: #D2E3FC;\n",
              "      --hover-bg-color: #434B5C;\n",
              "      --hover-fill-color: #FFFFFF;\n",
              "      --disabled-bg-color: #3B4455;\n",
              "      --disabled-fill-color: #666;\n",
              "  }\n",
              "\n",
              "  .colab-df-quickchart {\n",
              "    background-color: var(--bg-color);\n",
              "    border: none;\n",
              "    border-radius: 50%;\n",
              "    cursor: pointer;\n",
              "    display: none;\n",
              "    fill: var(--fill-color);\n",
              "    height: 32px;\n",
              "    padding: 0;\n",
              "    width: 32px;\n",
              "  }\n",
              "\n",
              "  .colab-df-quickchart:hover {\n",
              "    background-color: var(--hover-bg-color);\n",
              "    box-shadow: 0 1px 2px rgba(60, 64, 67, 0.3), 0 1px 3px 1px rgba(60, 64, 67, 0.15);\n",
              "    fill: var(--button-hover-fill-color);\n",
              "  }\n",
              "\n",
              "  .colab-df-quickchart-complete:disabled,\n",
              "  .colab-df-quickchart-complete:disabled:hover {\n",
              "    background-color: var(--disabled-bg-color);\n",
              "    fill: var(--disabled-fill-color);\n",
              "    box-shadow: none;\n",
              "  }\n",
              "\n",
              "  .colab-df-spinner {\n",
              "    border: 2px solid var(--fill-color);\n",
              "    border-color: transparent;\n",
              "    border-bottom-color: var(--fill-color);\n",
              "    animation:\n",
              "      spin 1s steps(1) infinite;\n",
              "  }\n",
              "\n",
              "  @keyframes spin {\n",
              "    0% {\n",
              "      border-color: transparent;\n",
              "      border-bottom-color: var(--fill-color);\n",
              "      border-left-color: var(--fill-color);\n",
              "    }\n",
              "    20% {\n",
              "      border-color: transparent;\n",
              "      border-left-color: var(--fill-color);\n",
              "      border-top-color: var(--fill-color);\n",
              "    }\n",
              "    30% {\n",
              "      border-color: transparent;\n",
              "      border-left-color: var(--fill-color);\n",
              "      border-top-color: var(--fill-color);\n",
              "      border-right-color: var(--fill-color);\n",
              "    }\n",
              "    40% {\n",
              "      border-color: transparent;\n",
              "      border-right-color: var(--fill-color);\n",
              "      border-top-color: var(--fill-color);\n",
              "    }\n",
              "    60% {\n",
              "      border-color: transparent;\n",
              "      border-right-color: var(--fill-color);\n",
              "    }\n",
              "    80% {\n",
              "      border-color: transparent;\n",
              "      border-right-color: var(--fill-color);\n",
              "      border-bottom-color: var(--fill-color);\n",
              "    }\n",
              "    90% {\n",
              "      border-color: transparent;\n",
              "      border-bottom-color: var(--fill-color);\n",
              "    }\n",
              "  }\n",
              "</style>\n",
              "\n",
              "      <script>\n",
              "        async function quickchart(key) {\n",
              "          const quickchartButtonEl =\n",
              "            document.querySelector('#' + key + ' button');\n",
              "          quickchartButtonEl.disabled = true;  // To prevent multiple clicks.\n",
              "          quickchartButtonEl.classList.add('colab-df-spinner');\n",
              "          try {\n",
              "            const charts = await google.colab.kernel.invokeFunction(\n",
              "                'suggestCharts', [key], {});\n",
              "          } catch (error) {\n",
              "            console.error('Error during call to suggestCharts:', error);\n",
              "          }\n",
              "          quickchartButtonEl.classList.remove('colab-df-spinner');\n",
              "          quickchartButtonEl.classList.add('colab-df-quickchart-complete');\n",
              "        }\n",
              "        (() => {\n",
              "          let quickchartButtonEl =\n",
              "            document.querySelector('#df-ce28422d-e01b-42f9-a1ab-aa6870b8038b button');\n",
              "          quickchartButtonEl.style.display =\n",
              "            google.colab.kernel.accessAllowed ? 'block' : 'none';\n",
              "        })();\n",
              "      </script>\n",
              "    </div>\n",
              "\n",
              "  <div id=\"id_e9f10bfd-8aab-49f2-811b-d3ce50e67ad2\">\n",
              "    <style>\n",
              "      .colab-df-generate {\n",
              "        background-color: #E8F0FE;\n",
              "        border: none;\n",
              "        border-radius: 50%;\n",
              "        cursor: pointer;\n",
              "        display: none;\n",
              "        fill: #1967D2;\n",
              "        height: 32px;\n",
              "        padding: 0 0 0 0;\n",
              "        width: 32px;\n",
              "      }\n",
              "\n",
              "      .colab-df-generate:hover {\n",
              "        background-color: #E2EBFA;\n",
              "        box-shadow: 0px 1px 2px rgba(60, 64, 67, 0.3), 0px 1px 3px 1px rgba(60, 64, 67, 0.15);\n",
              "        fill: #174EA6;\n",
              "      }\n",
              "\n",
              "      [theme=dark] .colab-df-generate {\n",
              "        background-color: #3B4455;\n",
              "        fill: #D2E3FC;\n",
              "      }\n",
              "\n",
              "      [theme=dark] .colab-df-generate:hover {\n",
              "        background-color: #434B5C;\n",
              "        box-shadow: 0px 1px 3px 1px rgba(0, 0, 0, 0.15);\n",
              "        filter: drop-shadow(0px 1px 2px rgba(0, 0, 0, 0.3));\n",
              "        fill: #FFFFFF;\n",
              "      }\n",
              "    </style>\n",
              "    <button class=\"colab-df-generate\" onclick=\"generateWithVariable('data')\"\n",
              "            title=\"Generate code using this dataframe.\"\n",
              "            style=\"display:none;\">\n",
              "\n",
              "  <svg xmlns=\"http://www.w3.org/2000/svg\" height=\"24px\"viewBox=\"0 0 24 24\"\n",
              "       width=\"24px\">\n",
              "    <path d=\"M7,19H8.4L18.45,9,17,7.55,7,17.6ZM5,21V16.75L18.45,3.32a2,2,0,0,1,2.83,0l1.4,1.43a1.91,1.91,0,0,1,.58,1.4,1.91,1.91,0,0,1-.58,1.4L9.25,21ZM18.45,9,17,7.55Zm-12,3A5.31,5.31,0,0,0,4.9,8.1,5.31,5.31,0,0,0,1,6.5,5.31,5.31,0,0,0,4.9,4.9,5.31,5.31,0,0,0,6.5,1,5.31,5.31,0,0,0,8.1,4.9,5.31,5.31,0,0,0,12,6.5,5.46,5.46,0,0,0,6.5,12Z\"/>\n",
              "  </svg>\n",
              "    </button>\n",
              "    <script>\n",
              "      (() => {\n",
              "      const buttonEl =\n",
              "        document.querySelector('#id_e9f10bfd-8aab-49f2-811b-d3ce50e67ad2 button.colab-df-generate');\n",
              "      buttonEl.style.display =\n",
              "        google.colab.kernel.accessAllowed ? 'block' : 'none';\n",
              "\n",
              "      buttonEl.onclick = () => {\n",
              "        google.colab.notebook.generateWithVariable('data');\n",
              "      }\n",
              "      })();\n",
              "    </script>\n",
              "  </div>\n",
              "\n",
              "    </div>\n",
              "  </div>\n"
            ],
            "application/vnd.google.colaboratory.intrinsic+json": {
              "type": "dataframe",
              "variable_name": "data",
              "summary": "{\n  \"name\": \"data\",\n  \"rows\": 3,\n  \"fields\": [\n    {\n      \"column\": \"Name\",\n      \"properties\": {\n        \"dtype\": \"string\",\n        \"num_unique_values\": 3,\n        \"samples\": [\n          \"Alice\",\n          \"Bob\",\n          \"Charles\"\n        ],\n        \"semantic_type\": \"\",\n        \"description\": \"\"\n      }\n    },\n    {\n      \"column\": \"Age\",\n      \"properties\": {\n        \"dtype\": \"number\",\n        \"std\": 5,\n        \"min\": 25,\n        \"max\": 35,\n        \"num_unique_values\": 3,\n        \"samples\": [\n          25,\n          30,\n          35\n        ],\n        \"semantic_type\": \"\",\n        \"description\": \"\"\n      }\n    },\n    {\n      \"column\": \"City\",\n      \"properties\": {\n        \"dtype\": \"string\",\n        \"num_unique_values\": 3,\n        \"samples\": [\n          \"New York\",\n          \"Los Angeles\",\n          \"Chicago\"\n        ],\n        \"semantic_type\": \"\",\n        \"description\": \"\"\n      }\n    },\n    {\n      \"column\": \"Employed\",\n      \"properties\": {\n        \"dtype\": \"string\",\n        \"num_unique_values\": 2,\n        \"samples\": [\n          false,\n          true\n        ],\n        \"semantic_type\": \"\",\n        \"description\": \"\"\n      }\n    },\n    {\n      \"column\": \"Employed_2\",\n      \"properties\": {\n        \"dtype\": \"boolean\",\n        \"num_unique_values\": 1,\n        \"samples\": [\n          true\n        ],\n        \"semantic_type\": \"\",\n        \"description\": \"\"\n      }\n    }\n  ]\n}"
            }
          },
          "metadata": {},
          "execution_count": 58
        }
      ]
    },
    {
      "cell_type": "code",
      "source": [
        "# Usuwanie kolumny\n",
        "data.drop('Employed', axis=1, inplace=True)  # data = data.drop('Employed', axis=1, inplace=False)\n",
        "print(data)"
      ],
      "metadata": {
        "id": "82o_3PNgfGwc",
        "colab": {
          "base_uri": "https://localhost:8080/"
        },
        "outputId": "6c3a521e-5bc3-4b1c-8668-1886869c77a7"
      },
      "execution_count": null,
      "outputs": [
        {
          "output_type": "stream",
          "name": "stdout",
          "text": [
            "      Name  Age         City  Employed_2\n",
            "0    Alice   25     New York        True\n",
            "1      Bob   30  Los Angeles        True\n",
            "2  Charles   35      Chicago        True\n"
          ]
        }
      ]
    },
    {
      "cell_type": "code",
      "source": [
        "data.drop('Employed_2', axis=1, inplace=False)\n",
        "print(data)"
      ],
      "metadata": {
        "colab": {
          "base_uri": "https://localhost:8080/"
        },
        "id": "xsYLPvqZHHVL",
        "outputId": "785a080f-591a-4ddf-e1e5-82b77650fe4c"
      },
      "execution_count": null,
      "outputs": [
        {
          "output_type": "stream",
          "name": "stdout",
          "text": [
            "      Name  Age         City  Employed_2\n",
            "0    Alice   25     New York        True\n",
            "1      Bob   30  Los Angeles        True\n",
            "2  Charles   35      Chicago        True\n"
          ]
        }
      ]
    },
    {
      "cell_type": "code",
      "source": [
        "# Podstawowe informacje o obiekcie\n",
        "df_csv.info()"
      ],
      "metadata": {
        "id": "ArN0fKX3SRan",
        "colab": {
          "base_uri": "https://localhost:8080/"
        },
        "outputId": "9fc5af7d-6abb-4a02-f861-c5fc553fe6d4"
      },
      "execution_count": null,
      "outputs": [
        {
          "output_type": "stream",
          "name": "stdout",
          "text": [
            "<class 'pandas.core.frame.DataFrame'>\n",
            "RangeIndex: 17000 entries, 0 to 16999\n",
            "Data columns (total 9 columns):\n",
            " #   Column              Non-Null Count  Dtype  \n",
            "---  ------              --------------  -----  \n",
            " 0   longitude           17000 non-null  float64\n",
            " 1   latitude            17000 non-null  float64\n",
            " 2   housing_median_age  17000 non-null  float64\n",
            " 3   total_rooms         17000 non-null  float64\n",
            " 4   total_bedrooms      17000 non-null  float64\n",
            " 5   population          17000 non-null  float64\n",
            " 6   households          17000 non-null  float64\n",
            " 7   median_income       17000 non-null  float64\n",
            " 8   median_house_value  17000 non-null  float64\n",
            "dtypes: float64(9)\n",
            "memory usage: 1.2 MB\n"
          ]
        }
      ]
    },
    {
      "cell_type": "code",
      "source": [
        "# Podstawowe statystyki dla numerycznych kolumn\n",
        "print(df_csv.describe())"
      ],
      "metadata": {
        "colab": {
          "base_uri": "https://localhost:8080/"
        },
        "id": "Q02UvMEbHgVm",
        "outputId": "6b6ee775-e4dc-4f40-b257-177cbaa62f51"
      },
      "execution_count": null,
      "outputs": [
        {
          "output_type": "stream",
          "name": "stdout",
          "text": [
            "          longitude      latitude  housing_median_age   total_rooms  \\\n",
            "count  17000.000000  17000.000000        17000.000000  17000.000000   \n",
            "mean    -119.562108     35.625225           28.589353   2643.664412   \n",
            "std        2.005166      2.137340           12.586937   2179.947071   \n",
            "min     -124.350000     32.540000            1.000000      2.000000   \n",
            "25%     -121.790000     33.930000           18.000000   1462.000000   \n",
            "50%     -118.490000     34.250000           29.000000   2127.000000   \n",
            "75%     -118.000000     37.720000           37.000000   3151.250000   \n",
            "max     -114.310000     41.950000           52.000000  37937.000000   \n",
            "\n",
            "       total_bedrooms    population    households  median_income  \\\n",
            "count    17000.000000  17000.000000  17000.000000   17000.000000   \n",
            "mean       539.410824   1429.573941    501.221941       3.883578   \n",
            "std        421.499452   1147.852959    384.520841       1.908157   \n",
            "min          1.000000      3.000000      1.000000       0.499900   \n",
            "25%        297.000000    790.000000    282.000000       2.566375   \n",
            "50%        434.000000   1167.000000    409.000000       3.544600   \n",
            "75%        648.250000   1721.000000    605.250000       4.767000   \n",
            "max       6445.000000  35682.000000   6082.000000      15.000100   \n",
            "\n",
            "       median_house_value  \n",
            "count        17000.000000  \n",
            "mean        207300.912353  \n",
            "std         115983.764387  \n",
            "min          14999.000000  \n",
            "25%         119400.000000  \n",
            "50%         180400.000000  \n",
            "75%         265000.000000  \n",
            "max         500001.000000  \n"
          ]
        }
      ]
    },
    {
      "cell_type": "code",
      "source": [
        "#### Liczebność dla kategorialnych danych\n",
        "df_excel.info()\n",
        "\n",
        "df_excel.describe()\n"
      ],
      "metadata": {
        "id": "w76lQo2gla5S",
        "colab": {
          "base_uri": "https://localhost:8080/",
          "height": 590
        },
        "outputId": "d77088cd-5023-4318-a007-1122e9384ebf"
      },
      "execution_count": null,
      "outputs": [
        {
          "output_type": "stream",
          "name": "stdout",
          "text": [
            "<class 'pandas.core.frame.DataFrame'>\n",
            "RangeIndex: 6235 entries, 0 to 6234\n",
            "Data columns (total 9 columns):\n",
            " #   Column            Non-Null Count  Dtype         \n",
            "---  ------            --------------  -----         \n",
            " 0   duration_minutes  4265 non-null   float64       \n",
            " 1   duration_seasons  1969 non-null   float64       \n",
            " 2   type              6234 non-null   object        \n",
            " 3   title             6229 non-null   object        \n",
            " 4   date_added        6222 non-null   datetime64[ns]\n",
            " 5   release_year      6233 non-null   float64       \n",
            " 6   rating            6223 non-null   object        \n",
            " 7   description       6233 non-null   object        \n",
            " 8   show_id           6232 non-null   float64       \n",
            "dtypes: datetime64[ns](1), float64(4), object(4)\n",
            "memory usage: 438.5+ KB\n"
          ]
        },
        {
          "output_type": "execute_result",
          "data": {
            "text/plain": [
              "       duration_minutes  duration_seasons                     date_added  \\\n",
              "count       4265.000000       1969.000000                           6222   \n",
              "mean          99.100821          1.779584  2018-07-01 17:22:37.377049088   \n",
              "min            3.000000          1.000000            2008-01-01 00:00:00   \n",
              "25%           86.000000          1.000000            2017-10-01 00:00:00   \n",
              "50%           98.000000          1.000000            2018-09-30 00:00:00   \n",
              "75%          115.000000          2.000000            2019-06-08 00:00:00   \n",
              "max          312.000000         15.000000            2020-01-18 00:00:00   \n",
              "std           28.074857          1.624936                            NaN   \n",
              "\n",
              "       release_year       show_id  \n",
              "count   6233.000000  6.232000e+03  \n",
              "mean    2013.370448  7.670257e+07  \n",
              "min     1925.000000  2.477470e+05  \n",
              "25%     2013.000000  8.003569e+07  \n",
              "50%     2016.000000  8.016337e+07  \n",
              "75%     2018.000000  8.024491e+07  \n",
              "max     2020.000000  8.123573e+07  \n",
              "std        8.768412  1.094455e+07  "
            ],
            "text/html": [
              "\n",
              "  <div id=\"df-cf2e5064-b962-4b4b-ad24-2b44f8739679\" class=\"colab-df-container\">\n",
              "    <div>\n",
              "<style scoped>\n",
              "    .dataframe tbody tr th:only-of-type {\n",
              "        vertical-align: middle;\n",
              "    }\n",
              "\n",
              "    .dataframe tbody tr th {\n",
              "        vertical-align: top;\n",
              "    }\n",
              "\n",
              "    .dataframe thead th {\n",
              "        text-align: right;\n",
              "    }\n",
              "</style>\n",
              "<table border=\"1\" class=\"dataframe\">\n",
              "  <thead>\n",
              "    <tr style=\"text-align: right;\">\n",
              "      <th></th>\n",
              "      <th>duration_minutes</th>\n",
              "      <th>duration_seasons</th>\n",
              "      <th>date_added</th>\n",
              "      <th>release_year</th>\n",
              "      <th>show_id</th>\n",
              "    </tr>\n",
              "  </thead>\n",
              "  <tbody>\n",
              "    <tr>\n",
              "      <th>count</th>\n",
              "      <td>4265.000000</td>\n",
              "      <td>1969.000000</td>\n",
              "      <td>6222</td>\n",
              "      <td>6233.000000</td>\n",
              "      <td>6.232000e+03</td>\n",
              "    </tr>\n",
              "    <tr>\n",
              "      <th>mean</th>\n",
              "      <td>99.100821</td>\n",
              "      <td>1.779584</td>\n",
              "      <td>2018-07-01 17:22:37.377049088</td>\n",
              "      <td>2013.370448</td>\n",
              "      <td>7.670257e+07</td>\n",
              "    </tr>\n",
              "    <tr>\n",
              "      <th>min</th>\n",
              "      <td>3.000000</td>\n",
              "      <td>1.000000</td>\n",
              "      <td>2008-01-01 00:00:00</td>\n",
              "      <td>1925.000000</td>\n",
              "      <td>2.477470e+05</td>\n",
              "    </tr>\n",
              "    <tr>\n",
              "      <th>25%</th>\n",
              "      <td>86.000000</td>\n",
              "      <td>1.000000</td>\n",
              "      <td>2017-10-01 00:00:00</td>\n",
              "      <td>2013.000000</td>\n",
              "      <td>8.003569e+07</td>\n",
              "    </tr>\n",
              "    <tr>\n",
              "      <th>50%</th>\n",
              "      <td>98.000000</td>\n",
              "      <td>1.000000</td>\n",
              "      <td>2018-09-30 00:00:00</td>\n",
              "      <td>2016.000000</td>\n",
              "      <td>8.016337e+07</td>\n",
              "    </tr>\n",
              "    <tr>\n",
              "      <th>75%</th>\n",
              "      <td>115.000000</td>\n",
              "      <td>2.000000</td>\n",
              "      <td>2019-06-08 00:00:00</td>\n",
              "      <td>2018.000000</td>\n",
              "      <td>8.024491e+07</td>\n",
              "    </tr>\n",
              "    <tr>\n",
              "      <th>max</th>\n",
              "      <td>312.000000</td>\n",
              "      <td>15.000000</td>\n",
              "      <td>2020-01-18 00:00:00</td>\n",
              "      <td>2020.000000</td>\n",
              "      <td>8.123573e+07</td>\n",
              "    </tr>\n",
              "    <tr>\n",
              "      <th>std</th>\n",
              "      <td>28.074857</td>\n",
              "      <td>1.624936</td>\n",
              "      <td>NaN</td>\n",
              "      <td>8.768412</td>\n",
              "      <td>1.094455e+07</td>\n",
              "    </tr>\n",
              "  </tbody>\n",
              "</table>\n",
              "</div>\n",
              "    <div class=\"colab-df-buttons\">\n",
              "\n",
              "  <div class=\"colab-df-container\">\n",
              "    <button class=\"colab-df-convert\" onclick=\"convertToInteractive('df-cf2e5064-b962-4b4b-ad24-2b44f8739679')\"\n",
              "            title=\"Convert this dataframe to an interactive table.\"\n",
              "            style=\"display:none;\">\n",
              "\n",
              "  <svg xmlns=\"http://www.w3.org/2000/svg\" height=\"24px\" viewBox=\"0 -960 960 960\">\n",
              "    <path d=\"M120-120v-720h720v720H120Zm60-500h600v-160H180v160Zm220 220h160v-160H400v160Zm0 220h160v-160H400v160ZM180-400h160v-160H180v160Zm440 0h160v-160H620v160ZM180-180h160v-160H180v160Zm440 0h160v-160H620v160Z\"/>\n",
              "  </svg>\n",
              "    </button>\n",
              "\n",
              "  <style>\n",
              "    .colab-df-container {\n",
              "      display:flex;\n",
              "      gap: 12px;\n",
              "    }\n",
              "\n",
              "    .colab-df-convert {\n",
              "      background-color: #E8F0FE;\n",
              "      border: none;\n",
              "      border-radius: 50%;\n",
              "      cursor: pointer;\n",
              "      display: none;\n",
              "      fill: #1967D2;\n",
              "      height: 32px;\n",
              "      padding: 0 0 0 0;\n",
              "      width: 32px;\n",
              "    }\n",
              "\n",
              "    .colab-df-convert:hover {\n",
              "      background-color: #E2EBFA;\n",
              "      box-shadow: 0px 1px 2px rgba(60, 64, 67, 0.3), 0px 1px 3px 1px rgba(60, 64, 67, 0.15);\n",
              "      fill: #174EA6;\n",
              "    }\n",
              "\n",
              "    .colab-df-buttons div {\n",
              "      margin-bottom: 4px;\n",
              "    }\n",
              "\n",
              "    [theme=dark] .colab-df-convert {\n",
              "      background-color: #3B4455;\n",
              "      fill: #D2E3FC;\n",
              "    }\n",
              "\n",
              "    [theme=dark] .colab-df-convert:hover {\n",
              "      background-color: #434B5C;\n",
              "      box-shadow: 0px 1px 3px 1px rgba(0, 0, 0, 0.15);\n",
              "      filter: drop-shadow(0px 1px 2px rgba(0, 0, 0, 0.3));\n",
              "      fill: #FFFFFF;\n",
              "    }\n",
              "  </style>\n",
              "\n",
              "    <script>\n",
              "      const buttonEl =\n",
              "        document.querySelector('#df-cf2e5064-b962-4b4b-ad24-2b44f8739679 button.colab-df-convert');\n",
              "      buttonEl.style.display =\n",
              "        google.colab.kernel.accessAllowed ? 'block' : 'none';\n",
              "\n",
              "      async function convertToInteractive(key) {\n",
              "        const element = document.querySelector('#df-cf2e5064-b962-4b4b-ad24-2b44f8739679');\n",
              "        const dataTable =\n",
              "          await google.colab.kernel.invokeFunction('convertToInteractive',\n",
              "                                                    [key], {});\n",
              "        if (!dataTable) return;\n",
              "\n",
              "        const docLinkHtml = 'Like what you see? Visit the ' +\n",
              "          '<a target=\"_blank\" href=https://colab.research.google.com/notebooks/data_table.ipynb>data table notebook</a>'\n",
              "          + ' to learn more about interactive tables.';\n",
              "        element.innerHTML = '';\n",
              "        dataTable['output_type'] = 'display_data';\n",
              "        await google.colab.output.renderOutput(dataTable, element);\n",
              "        const docLink = document.createElement('div');\n",
              "        docLink.innerHTML = docLinkHtml;\n",
              "        element.appendChild(docLink);\n",
              "      }\n",
              "    </script>\n",
              "  </div>\n",
              "\n",
              "\n",
              "    <div id=\"df-47e929a6-b172-4f73-8242-25f4eaee5d73\">\n",
              "      <button class=\"colab-df-quickchart\" onclick=\"quickchart('df-47e929a6-b172-4f73-8242-25f4eaee5d73')\"\n",
              "                title=\"Suggest charts\"\n",
              "                style=\"display:none;\">\n",
              "\n",
              "<svg xmlns=\"http://www.w3.org/2000/svg\" height=\"24px\"viewBox=\"0 0 24 24\"\n",
              "     width=\"24px\">\n",
              "    <g>\n",
              "        <path d=\"M19 3H5c-1.1 0-2 .9-2 2v14c0 1.1.9 2 2 2h14c1.1 0 2-.9 2-2V5c0-1.1-.9-2-2-2zM9 17H7v-7h2v7zm4 0h-2V7h2v10zm4 0h-2v-4h2v4z\"/>\n",
              "    </g>\n",
              "</svg>\n",
              "      </button>\n",
              "\n",
              "<style>\n",
              "  .colab-df-quickchart {\n",
              "      --bg-color: #E8F0FE;\n",
              "      --fill-color: #1967D2;\n",
              "      --hover-bg-color: #E2EBFA;\n",
              "      --hover-fill-color: #174EA6;\n",
              "      --disabled-fill-color: #AAA;\n",
              "      --disabled-bg-color: #DDD;\n",
              "  }\n",
              "\n",
              "  [theme=dark] .colab-df-quickchart {\n",
              "      --bg-color: #3B4455;\n",
              "      --fill-color: #D2E3FC;\n",
              "      --hover-bg-color: #434B5C;\n",
              "      --hover-fill-color: #FFFFFF;\n",
              "      --disabled-bg-color: #3B4455;\n",
              "      --disabled-fill-color: #666;\n",
              "  }\n",
              "\n",
              "  .colab-df-quickchart {\n",
              "    background-color: var(--bg-color);\n",
              "    border: none;\n",
              "    border-radius: 50%;\n",
              "    cursor: pointer;\n",
              "    display: none;\n",
              "    fill: var(--fill-color);\n",
              "    height: 32px;\n",
              "    padding: 0;\n",
              "    width: 32px;\n",
              "  }\n",
              "\n",
              "  .colab-df-quickchart:hover {\n",
              "    background-color: var(--hover-bg-color);\n",
              "    box-shadow: 0 1px 2px rgba(60, 64, 67, 0.3), 0 1px 3px 1px rgba(60, 64, 67, 0.15);\n",
              "    fill: var(--button-hover-fill-color);\n",
              "  }\n",
              "\n",
              "  .colab-df-quickchart-complete:disabled,\n",
              "  .colab-df-quickchart-complete:disabled:hover {\n",
              "    background-color: var(--disabled-bg-color);\n",
              "    fill: var(--disabled-fill-color);\n",
              "    box-shadow: none;\n",
              "  }\n",
              "\n",
              "  .colab-df-spinner {\n",
              "    border: 2px solid var(--fill-color);\n",
              "    border-color: transparent;\n",
              "    border-bottom-color: var(--fill-color);\n",
              "    animation:\n",
              "      spin 1s steps(1) infinite;\n",
              "  }\n",
              "\n",
              "  @keyframes spin {\n",
              "    0% {\n",
              "      border-color: transparent;\n",
              "      border-bottom-color: var(--fill-color);\n",
              "      border-left-color: var(--fill-color);\n",
              "    }\n",
              "    20% {\n",
              "      border-color: transparent;\n",
              "      border-left-color: var(--fill-color);\n",
              "      border-top-color: var(--fill-color);\n",
              "    }\n",
              "    30% {\n",
              "      border-color: transparent;\n",
              "      border-left-color: var(--fill-color);\n",
              "      border-top-color: var(--fill-color);\n",
              "      border-right-color: var(--fill-color);\n",
              "    }\n",
              "    40% {\n",
              "      border-color: transparent;\n",
              "      border-right-color: var(--fill-color);\n",
              "      border-top-color: var(--fill-color);\n",
              "    }\n",
              "    60% {\n",
              "      border-color: transparent;\n",
              "      border-right-color: var(--fill-color);\n",
              "    }\n",
              "    80% {\n",
              "      border-color: transparent;\n",
              "      border-right-color: var(--fill-color);\n",
              "      border-bottom-color: var(--fill-color);\n",
              "    }\n",
              "    90% {\n",
              "      border-color: transparent;\n",
              "      border-bottom-color: var(--fill-color);\n",
              "    }\n",
              "  }\n",
              "</style>\n",
              "\n",
              "      <script>\n",
              "        async function quickchart(key) {\n",
              "          const quickchartButtonEl =\n",
              "            document.querySelector('#' + key + ' button');\n",
              "          quickchartButtonEl.disabled = true;  // To prevent multiple clicks.\n",
              "          quickchartButtonEl.classList.add('colab-df-spinner');\n",
              "          try {\n",
              "            const charts = await google.colab.kernel.invokeFunction(\n",
              "                'suggestCharts', [key], {});\n",
              "          } catch (error) {\n",
              "            console.error('Error during call to suggestCharts:', error);\n",
              "          }\n",
              "          quickchartButtonEl.classList.remove('colab-df-spinner');\n",
              "          quickchartButtonEl.classList.add('colab-df-quickchart-complete');\n",
              "        }\n",
              "        (() => {\n",
              "          let quickchartButtonEl =\n",
              "            document.querySelector('#df-47e929a6-b172-4f73-8242-25f4eaee5d73 button');\n",
              "          quickchartButtonEl.style.display =\n",
              "            google.colab.kernel.accessAllowed ? 'block' : 'none';\n",
              "        })();\n",
              "      </script>\n",
              "    </div>\n",
              "\n",
              "    </div>\n",
              "  </div>\n"
            ],
            "application/vnd.google.colaboratory.intrinsic+json": {
              "type": "dataframe",
              "summary": "{\n  \"name\": \"df_excel\",\n  \"rows\": 8,\n  \"fields\": [\n    {\n      \"column\": \"duration_minutes\",\n      \"properties\": {\n        \"dtype\": \"number\",\n        \"std\": 1473.3677557280002,\n        \"min\": 3.0,\n        \"max\": 4265.0,\n        \"num_unique_values\": 8,\n        \"samples\": [\n          99.10082063305978,\n          115.0,\n          4265.0\n        ],\n        \"semantic_type\": \"\",\n        \"description\": \"\"\n      }\n    },\n    {\n      \"column\": \"duration_seasons\",\n      \"properties\": {\n        \"dtype\": \"number\",\n        \"std\": 694.9809181610113,\n        \"min\": 1.0,\n        \"max\": 1969.0,\n        \"num_unique_values\": 6,\n        \"samples\": [\n          1969.0,\n          1.7795835449466735,\n          1.6249357802361621\n        ],\n        \"semantic_type\": \"\",\n        \"description\": \"\"\n      }\n    },\n    {\n      \"column\": \"date_added\",\n      \"properties\": {\n        \"dtype\": \"date\",\n        \"min\": \"1970-01-01 00:00:00.000006222\",\n        \"max\": \"2020-01-18 00:00:00\",\n        \"num_unique_values\": 7,\n        \"samples\": [\n          \"6222\",\n          \"2018-07-01 17:22:37.377049088\",\n          \"2019-06-08 00:00:00\"\n        ],\n        \"semantic_type\": \"\",\n        \"description\": \"\"\n      }\n    },\n    {\n      \"column\": \"release_year\",\n      \"properties\": {\n        \"dtype\": \"number\",\n        \"std\": 1742.7007313632369,\n        \"min\": 8.768412101311194,\n        \"max\": 6233.0,\n        \"num_unique_values\": 8,\n        \"samples\": [\n          2013.3704476175196,\n          2018.0,\n          6233.0\n        ],\n        \"semantic_type\": \"\",\n        \"description\": \"\"\n      }\n    },\n    {\n      \"column\": \"show_id\",\n      \"properties\": {\n        \"dtype\": \"number\",\n        \"std\": 39467784.06967735,\n        \"min\": 6232.0,\n        \"max\": 81235729.0,\n        \"num_unique_values\": 8,\n        \"samples\": [\n          76702572.01283698,\n          80244907.25,\n          6232.0\n        ],\n        \"semantic_type\": \"\",\n        \"description\": \"\"\n      }\n    }\n  ]\n}"
            }
          },
          "metadata": {},
          "execution_count": 64
        }
      ]
    },
    {
      "cell_type": "code",
      "source": [
        "df_excel['rating'].value_counts()"
      ],
      "metadata": {
        "id": "h15OuE8whjQ7",
        "colab": {
          "base_uri": "https://localhost:8080/",
          "height": 554
        },
        "collapsed": true,
        "outputId": "bc6953de-dcad-4483-c90b-5fd3384e7d26"
      },
      "execution_count": null,
      "outputs": [
        {
          "output_type": "execute_result",
          "data": {
            "text/plain": [
              "rating\n",
              "TV-MA       2027\n",
              "TV-14       1698\n",
              "TV-PG        700\n",
              "R            508\n",
              "PG-13        286\n",
              "NR           218\n",
              "PG           184\n",
              "TV-Y7        169\n",
              "TV-G         149\n",
              "TV-Y         143\n",
              "TV-Y7-FV      95\n",
              "G             37\n",
              "UR             7\n",
              "NC-17          2\n",
              "Name: count, dtype: int64"
            ],
            "text/html": [
              "<div>\n",
              "<style scoped>\n",
              "    .dataframe tbody tr th:only-of-type {\n",
              "        vertical-align: middle;\n",
              "    }\n",
              "\n",
              "    .dataframe tbody tr th {\n",
              "        vertical-align: top;\n",
              "    }\n",
              "\n",
              "    .dataframe thead th {\n",
              "        text-align: right;\n",
              "    }\n",
              "</style>\n",
              "<table border=\"1\" class=\"dataframe\">\n",
              "  <thead>\n",
              "    <tr style=\"text-align: right;\">\n",
              "      <th></th>\n",
              "      <th>count</th>\n",
              "    </tr>\n",
              "    <tr>\n",
              "      <th>rating</th>\n",
              "      <th></th>\n",
              "    </tr>\n",
              "  </thead>\n",
              "  <tbody>\n",
              "    <tr>\n",
              "      <th>TV-MA</th>\n",
              "      <td>2027</td>\n",
              "    </tr>\n",
              "    <tr>\n",
              "      <th>TV-14</th>\n",
              "      <td>1698</td>\n",
              "    </tr>\n",
              "    <tr>\n",
              "      <th>TV-PG</th>\n",
              "      <td>700</td>\n",
              "    </tr>\n",
              "    <tr>\n",
              "      <th>R</th>\n",
              "      <td>508</td>\n",
              "    </tr>\n",
              "    <tr>\n",
              "      <th>PG-13</th>\n",
              "      <td>286</td>\n",
              "    </tr>\n",
              "    <tr>\n",
              "      <th>NR</th>\n",
              "      <td>218</td>\n",
              "    </tr>\n",
              "    <tr>\n",
              "      <th>PG</th>\n",
              "      <td>184</td>\n",
              "    </tr>\n",
              "    <tr>\n",
              "      <th>TV-Y7</th>\n",
              "      <td>169</td>\n",
              "    </tr>\n",
              "    <tr>\n",
              "      <th>TV-G</th>\n",
              "      <td>149</td>\n",
              "    </tr>\n",
              "    <tr>\n",
              "      <th>TV-Y</th>\n",
              "      <td>143</td>\n",
              "    </tr>\n",
              "    <tr>\n",
              "      <th>TV-Y7-FV</th>\n",
              "      <td>95</td>\n",
              "    </tr>\n",
              "    <tr>\n",
              "      <th>G</th>\n",
              "      <td>37</td>\n",
              "    </tr>\n",
              "    <tr>\n",
              "      <th>UR</th>\n",
              "      <td>7</td>\n",
              "    </tr>\n",
              "    <tr>\n",
              "      <th>NC-17</th>\n",
              "      <td>2</td>\n",
              "    </tr>\n",
              "  </tbody>\n",
              "</table>\n",
              "</div><br><label><b>dtype:</b> int64</label>"
            ]
          },
          "metadata": {},
          "execution_count": 65
        }
      ]
    },
    {
      "cell_type": "code",
      "source": [
        "df_excel['rating'].nunique()"
      ],
      "metadata": {
        "colab": {
          "base_uri": "https://localhost:8080/"
        },
        "id": "3IJOXMYwIuwG",
        "outputId": "d0446f70-d79a-4da2-933f-734160415949"
      },
      "execution_count": null,
      "outputs": [
        {
          "output_type": "execute_result",
          "data": {
            "text/plain": [
              "14"
            ]
          },
          "metadata": {},
          "execution_count": 66
        }
      ]
    },
    {
      "cell_type": "code",
      "source": [
        "# Sprawdzenie ilości unikalnych wartości\n",
        "df_excel['rating'].nunique()\n",
        "df_excel['title'].nunique()\n",
        "print(\"Unique Names: \", df_excel['rating'].nunique())\n",
        "print(\"Unique Titles: \", df_excel['title'].nunique())"
      ],
      "metadata": {
        "id": "Ec7VtTjpUMQi",
        "colab": {
          "base_uri": "https://localhost:8080/"
        },
        "outputId": "dbbd7e17-b546-42ac-a27e-3755504b3d13"
      },
      "execution_count": null,
      "outputs": [
        {
          "output_type": "stream",
          "name": "stdout",
          "text": [
            "Unique Names:  14\n",
            "Unique Titles:  6167\n"
          ]
        }
      ]
    },
    {
      "cell_type": "code",
      "source": [
        "# Sumowanie\n",
        "df_excel['duration_minutes'] = df_excel['duration_minutes'].astype(float)\n",
        "\n",
        "total_population = df_excel['duration_minutes'].sum()\n",
        "\n",
        "print(f\"Całkowita długość filmów: {total_population} minut\")\n",
        "\n",
        "#df_excel['duration_seasons'].sum()"
      ],
      "metadata": {
        "id": "Vz5g5dgQHAUe",
        "colab": {
          "base_uri": "https://localhost:8080/"
        },
        "outputId": "569079f8-4dfd-4f88-a02d-09a5637d6339"
      },
      "execution_count": null,
      "outputs": [
        {
          "output_type": "stream",
          "name": "stdout",
          "text": [
            "Całkowita długość filmów: 422665.0 minut\n"
          ]
        }
      ]
    },
    {
      "cell_type": "code",
      "source": [
        "df_excel['duration_seasons'].sum()"
      ],
      "metadata": {
        "colab": {
          "base_uri": "https://localhost:8080/"
        },
        "id": "cFA9qUHYJYKO",
        "outputId": "3c57b6fa-af76-44ef-9c74-f503962c70f1"
      },
      "execution_count": null,
      "outputs": [
        {
          "output_type": "execute_result",
          "data": {
            "text/plain": [
              "np.float64(3504.0)"
            ]
          },
          "metadata": {},
          "execution_count": 64
        }
      ]
    },
    {
      "cell_type": "code",
      "source": [
        "total_population"
      ],
      "metadata": {
        "colab": {
          "base_uri": "https://localhost:8080/"
        },
        "id": "p_C_oL3LJe_N",
        "outputId": "a64cedb9-441a-4c91-b914-cab18aea8c85"
      },
      "execution_count": null,
      "outputs": [
        {
          "output_type": "execute_result",
          "data": {
            "text/plain": [
              "np.float64(422665.0)"
            ]
          },
          "metadata": {},
          "execution_count": 65
        }
      ]
    },
    {
      "cell_type": "code",
      "source": [
        "# Średnia\n",
        "average_duration = df_excel['duration_minutes'].mean()\n",
        "print(f\"Średni czas trwania: {average_duration}\")\n"
      ],
      "metadata": {
        "id": "ru5j5bMeHWbG",
        "colab": {
          "base_uri": "https://localhost:8080/"
        },
        "outputId": "504d937e-42c3-474b-f8ca-2ddb6df86047"
      },
      "execution_count": null,
      "outputs": [
        {
          "output_type": "stream",
          "name": "stdout",
          "text": [
            "Średni czas trwania: 99.10082063305978\n"
          ]
        }
      ]
    },
    {
      "cell_type": "code",
      "source": [
        "# Minimum (min()) i maksimum (max())\n",
        "min_duration = df_excel['duration_minutes'].min()\n",
        "max_duration = df_excel['duration_minutes'].max()\n",
        "print(f\"Najkrótszy film ma {min_duration} minut, a najdłuższy {max_duration} minut.\")\n"
      ],
      "metadata": {
        "id": "nCf1xXP4HauJ",
        "colab": {
          "base_uri": "https://localhost:8080/"
        },
        "outputId": "59b4bd9c-eab5-42b9-b80d-f28fd194c403"
      },
      "execution_count": null,
      "outputs": [
        {
          "output_type": "stream",
          "name": "stdout",
          "text": [
            "Najkrótszy film ma 3.0 minut, a najdłuższy 312.0 minut.\n"
          ]
        }
      ]
    },
    {
      "cell_type": "code",
      "source": [
        "# Mediana\n",
        "\n",
        "median_duration = df_excel['duration_minutes'].median()\n",
        "print(f\"Mediana wieku: {median_duration}\")"
      ],
      "metadata": {
        "id": "E35ugPbRHe8J",
        "colab": {
          "base_uri": "https://localhost:8080/"
        },
        "outputId": "649c1e7c-5835-4498-f1b7-5e87e98d9480"
      },
      "execution_count": null,
      "outputs": [
        {
          "output_type": "stream",
          "name": "stdout",
          "text": [
            "Mediana wieku: 98.0\n"
          ]
        }
      ]
    },
    {
      "cell_type": "code",
      "source": [
        "# Odchylenie standardowe (std()):\n",
        "df_excel[['duration_minutes', 'duration_seasons']].std()"
      ],
      "metadata": {
        "id": "raF6GUe2HhiG",
        "colab": {
          "base_uri": "https://localhost:8080/",
          "height": 147
        },
        "outputId": "db4752bd-d268-4b4e-ff6a-2d725c91f478"
      },
      "execution_count": null,
      "outputs": [
        {
          "output_type": "execute_result",
          "data": {
            "text/plain": [
              "duration_minutes    28.074857\n",
              "duration_seasons     1.624936\n",
              "dtype: float64"
            ],
            "text/html": [
              "<div>\n",
              "<style scoped>\n",
              "    .dataframe tbody tr th:only-of-type {\n",
              "        vertical-align: middle;\n",
              "    }\n",
              "\n",
              "    .dataframe tbody tr th {\n",
              "        vertical-align: top;\n",
              "    }\n",
              "\n",
              "    .dataframe thead th {\n",
              "        text-align: right;\n",
              "    }\n",
              "</style>\n",
              "<table border=\"1\" class=\"dataframe\">\n",
              "  <thead>\n",
              "    <tr style=\"text-align: right;\">\n",
              "      <th></th>\n",
              "      <th>0</th>\n",
              "    </tr>\n",
              "  </thead>\n",
              "  <tbody>\n",
              "    <tr>\n",
              "      <th>duration_minutes</th>\n",
              "      <td>28.074857</td>\n",
              "    </tr>\n",
              "    <tr>\n",
              "      <th>duration_seasons</th>\n",
              "      <td>1.624936</td>\n",
              "    </tr>\n",
              "  </tbody>\n",
              "</table>\n",
              "</div><br><label><b>dtype:</b> float64</label>"
            ]
          },
          "metadata": {},
          "execution_count": 70
        }
      ]
    },
    {
      "cell_type": "code",
      "source": [
        "# Group by\n",
        "df_excel.groupby('type')['duration_minutes'].mean()\n",
        "#print(average_age_by_city)\n"
      ],
      "metadata": {
        "id": "X3wrSEt_HlPx",
        "colab": {
          "base_uri": "https://localhost:8080/",
          "height": 178
        },
        "outputId": "3f6718ff-8264-4721-f5df-ff42ef20aeaa"
      },
      "execution_count": null,
      "outputs": [
        {
          "output_type": "execute_result",
          "data": {
            "text/plain": [
              "type\n",
              "Movie      99.100821\n",
              "TV Show          NaN\n",
              "Name: duration_minutes, dtype: float64"
            ],
            "text/html": [
              "<div>\n",
              "<style scoped>\n",
              "    .dataframe tbody tr th:only-of-type {\n",
              "        vertical-align: middle;\n",
              "    }\n",
              "\n",
              "    .dataframe tbody tr th {\n",
              "        vertical-align: top;\n",
              "    }\n",
              "\n",
              "    .dataframe thead th {\n",
              "        text-align: right;\n",
              "    }\n",
              "</style>\n",
              "<table border=\"1\" class=\"dataframe\">\n",
              "  <thead>\n",
              "    <tr style=\"text-align: right;\">\n",
              "      <th></th>\n",
              "      <th>duration_minutes</th>\n",
              "    </tr>\n",
              "    <tr>\n",
              "      <th>type</th>\n",
              "      <th></th>\n",
              "    </tr>\n",
              "  </thead>\n",
              "  <tbody>\n",
              "    <tr>\n",
              "      <th>Movie</th>\n",
              "      <td>99.100821</td>\n",
              "    </tr>\n",
              "    <tr>\n",
              "      <th>TV Show</th>\n",
              "      <td>NaN</td>\n",
              "    </tr>\n",
              "  </tbody>\n",
              "</table>\n",
              "</div><br><label><b>dtype:</b> float64</label>"
            ]
          },
          "metadata": {},
          "execution_count": 71
        }
      ]
    },
    {
      "cell_type": "code",
      "source": [
        "# Group by\n",
        "median_duration = df_excel.groupby('type')['duration_minutes'].median()\n",
        "print(median_duration)\n"
      ],
      "metadata": {
        "id": "nhTf0RtbkImh",
        "colab": {
          "base_uri": "https://localhost:8080/"
        },
        "outputId": "361ec742-6c71-4b67-e076-5f8d50b30cda"
      },
      "execution_count": null,
      "outputs": [
        {
          "output_type": "stream",
          "name": "stdout",
          "text": [
            "type\n",
            "Movie      98.0\n",
            "TV Show     NaN\n",
            "Name: duration_minutes, dtype: float64\n"
          ]
        }
      ]
    },
    {
      "cell_type": "code",
      "source": [
        "# Calculate correlation between two variables\n",
        "correlation = df_csv[['housing_median_age', 'median_income']].corr()\n",
        "print(correlation)"
      ],
      "metadata": {
        "id": "Z2z8VBAgR2CK",
        "colab": {
          "base_uri": "https://localhost:8080/"
        },
        "outputId": "55935b4c-b4c7-4df5-8331-a6706e59bcfb"
      },
      "execution_count": null,
      "outputs": [
        {
          "output_type": "stream",
          "name": "stdout",
          "text": [
            "                    housing_median_age  median_income\n",
            "housing_median_age            1.000000      -0.115932\n",
            "median_income                -0.115932       1.000000\n"
          ]
        }
      ]
    },
    {
      "cell_type": "code",
      "source": [
        "correlation_matrix = df_csv.corr()\n",
        "print(correlation_matrix)"
      ],
      "metadata": {
        "id": "KqpSJ-sGkwOA",
        "colab": {
          "base_uri": "https://localhost:8080/"
        },
        "outputId": "eb2b3d59-9472-4486-bd68-9c3a0861a8cc"
      },
      "execution_count": null,
      "outputs": [
        {
          "output_type": "stream",
          "name": "stdout",
          "text": [
            "                    longitude  latitude  housing_median_age  total_rooms  \\\n",
            "longitude            1.000000 -0.925208           -0.114250     0.047010   \n",
            "latitude            -0.925208  1.000000            0.016454    -0.038773   \n",
            "housing_median_age  -0.114250  0.016454            1.000000    -0.360984   \n",
            "total_rooms          0.047010 -0.038773           -0.360984     1.000000   \n",
            "total_bedrooms       0.071802 -0.069373           -0.320434     0.928403   \n",
            "population           0.101674 -0.111261           -0.295890     0.860170   \n",
            "households           0.059628 -0.074902           -0.302754     0.919018   \n",
            "median_income       -0.015485 -0.080303           -0.115932     0.195383   \n",
            "median_house_value  -0.044982 -0.144917            0.106758     0.130991   \n",
            "\n",
            "                    total_bedrooms  population  households  median_income  \\\n",
            "longitude                 0.071802    0.101674    0.059628      -0.015485   \n",
            "latitude                 -0.069373   -0.111261   -0.074902      -0.080303   \n",
            "housing_median_age       -0.320434   -0.295890   -0.302754      -0.115932   \n",
            "total_rooms               0.928403    0.860170    0.919018       0.195383   \n",
            "total_bedrooms            1.000000    0.881169    0.980920      -0.013495   \n",
            "population                0.881169    1.000000    0.909247      -0.000638   \n",
            "households                0.980920    0.909247    1.000000       0.007644   \n",
            "median_income            -0.013495   -0.000638    0.007644       1.000000   \n",
            "median_house_value        0.045783   -0.027850    0.061031       0.691871   \n",
            "\n",
            "                    median_house_value  \n",
            "longitude                    -0.044982  \n",
            "latitude                     -0.144917  \n",
            "housing_median_age            0.106758  \n",
            "total_rooms                   0.130991  \n",
            "total_bedrooms                0.045783  \n",
            "population                   -0.027850  \n",
            "households                    0.061031  \n",
            "median_income                 0.691871  \n",
            "median_house_value            1.000000  \n"
          ]
        }
      ]
    },
    {
      "cell_type": "markdown",
      "source": [
        "Ćwiczenie 1:\n",
        "\n",
        "Stwórz DataFrame o nazwie students zawierający kolumny Name, Age, i Grade z co najmniej pięcioma wierszami danych.\n",
        "Wybierz tylko te wiersze, gdzie uczniowie mają więcej niż 18 lat.\n",
        "Dodaj kolumnę Passed, która zawiera wartość True jeśli ocena (Grade) jest wyższa lub równa 50, w przeciwnym przypadku False."
      ],
      "metadata": {
        "id": "MoXpWMzGICHs"
      }
    },
    {
      "cell_type": "code",
      "source": [],
      "metadata": {
        "id": "zFyMWGxZIAhr"
      },
      "execution_count": null,
      "outputs": []
    },
    {
      "cell_type": "markdown",
      "source": [
        "Ćwiczenie 2:\n",
        "1. Załaduj dane z pliku CSV o nazwie penguins.csv\n",
        "2. Wybierz wszystkie rekordy, które dotyczą pingwinów rodzaju Gentoo."
      ],
      "metadata": {
        "id": "smwGGAbzIiTP"
      }
    },
    {
      "cell_type": "code",
      "source": [],
      "metadata": {
        "id": "Lum0fVC5IhCA"
      },
      "execution_count": null,
      "outputs": []
    },
    {
      "cell_type": "code",
      "source": [],
      "metadata": {
        "id": "av74i6lEmOev"
      },
      "execution_count": null,
      "outputs": []
    },
    {
      "cell_type": "markdown",
      "source": [
        "Ćwiczenie 3:\n",
        "1. Mając DataFrame z poprzedniego ćwiczenia, oblicz średnią dla zmiennych numerycznych\n",
        "2. Oblicz średnią sprzedaż dla każdego rodzaju gatunku oraz wyspy wystepowania\n"
      ],
      "metadata": {
        "id": "kszAFmG-IkAw"
      }
    },
    {
      "cell_type": "code",
      "source": [],
      "metadata": {
        "id": "N1I3_pTRyesI"
      },
      "execution_count": null,
      "outputs": []
    },
    {
      "cell_type": "code",
      "source": [],
      "metadata": {
        "id": "5-Zgd5wFnFWV"
      },
      "execution_count": null,
      "outputs": []
    },
    {
      "cell_type": "markdown",
      "source": [
        "Ćwiczenie 4:\n",
        "1. Załaduj dane z pliku Extended_Sales_Data.csv.\n",
        "2. Wybierz tylko te rekordy, gdzie Sales są większe niż 1000.\n",
        "3. Wyświetl średnią Sales dla każdego produktu.\n"
      ],
      "metadata": {
        "id": "14qotztWJ8BD"
      }
    },
    {
      "cell_type": "code",
      "source": [],
      "metadata": {
        "id": "tZyvQCMxJ7ik"
      },
      "execution_count": null,
      "outputs": []
    },
    {
      "cell_type": "code",
      "source": [],
      "metadata": {
        "id": "WAGHCc_zoM9J"
      },
      "execution_count": null,
      "outputs": []
    },
    {
      "cell_type": "code",
      "source": [],
      "metadata": {
        "id": "wVsbqdjqognq"
      },
      "execution_count": null,
      "outputs": []
    },
    {
      "cell_type": "markdown",
      "source": [
        "Ćwiczenie 5\n",
        "1. Załaduj dane z Extended_Sales_Data.csv.\n",
        "2. Wykonaj sortowanie danych po miesiącu i sprzedaży.\n",
        "3. Utwórz nowy DataFrame, który pokazuje maksymalną sprzedaż każdego produktu w każdym miesiącu."
      ],
      "metadata": {
        "id": "Lfpeh1jMKUb7"
      }
    },
    {
      "cell_type": "code",
      "source": [],
      "metadata": {
        "id": "lJInhskwKY3Y"
      },
      "execution_count": null,
      "outputs": []
    },
    {
      "cell_type": "code",
      "source": [],
      "metadata": {
        "id": "T6Mk1eLIp_IX"
      },
      "execution_count": null,
      "outputs": []
    },
    {
      "cell_type": "markdown",
      "source": [
        "Ćwiczenie 6: Statystyki sprzedaży\n",
        "Cel: Obliczenie różnych statystyk dla danych sprzedażowych.\n",
        "1. Załaduj dane z Extended_Sales_Data.csv.\n",
        "2. Oblicz i wyświetl łączną, średnią, minimalną i maksymalną sprzedaż (Sales) dla każdego produktu."
      ],
      "metadata": {
        "id": "tQEUpTygKbGE"
      }
    },
    {
      "cell_type": "code",
      "source": [],
      "metadata": {
        "id": "KXOYkHzFKdmY"
      },
      "execution_count": null,
      "outputs": []
    },
    {
      "cell_type": "markdown",
      "source": [
        "# PRACA DOMOWA"
      ],
      "metadata": {
        "id": "DjvGEDoS4N33"
      }
    },
    {
      "cell_type": "markdown",
      "source": [
        "Na podstawie zestawu danych (Library_Data.csv), który zawiera informacje o wypożyczeniach książek z fikcyjnej biblioteki:\n",
        "\n",
        "1.Wyfiltruj zbiór danych tak, aby zawierał tylko książki sklasyfikowane jako \"Science\"."
      ],
      "metadata": {
        "id": "sctZ6o6n-hQ6"
      }
    },
    {
      "cell_type": "code",
      "source": [
        "import pandas as pd\n",
        "\n",
        "ld = pd.read_csv('/content/sample_data/Kopia Library_Data.csv')\n",
        "\n",
        "ld\n",
        "\n",
        "# ld.head() #sprawdzenie struktury tabeli\n",
        "\n",
        "filtr_genre_science = ld[ld['Genre'] == 'Science']\n",
        "print(filtr_genre_science)\n",
        "#liczba rekordów\n",
        "liczba_ksiazek_science = len(filtr_genre_science)\n",
        "print(f\"Liczba książek w kategorii Science: {liczba_ksiazek_science}\")"
      ],
      "metadata": {
        "colab": {
          "base_uri": "https://localhost:8080/"
        },
        "id": "Tn2PLJH6-uFH",
        "outputId": "1f49bf1b-5126-477e-d14f-933e133c158d"
      },
      "execution_count": null,
      "outputs": [
        {
          "output_type": "stream",
          "name": "stdout",
          "text": [
            "    Checkout ID  Book ID    Title     Author  Year of Publication    Genre  \\\n",
            "2             3       15   Book 3   Author 1                 2016  Science   \n",
            "3             4       43   Book 4  Author 12                 2002  Science   \n",
            "5             6       21   Book 6  Author 24                 1995  Science   \n",
            "6             7       39   Book 7  Author 11                 1997  Science   \n",
            "7             8       19   Book 8  Author 19                 2016  Science   \n",
            "16           17       22  Book 17   Author 7                 1991  Science   \n",
            "18           19       24  Book 19   Author 9                 2006  Science   \n",
            "25           26       12  Book 26   Author 1                 1990  Science   \n",
            "32           33       28  Book 33   Author 3                 1993  Science   \n",
            "39           40        7  Book 40   Author 3                 2000  Science   \n",
            "44           45        4  Book 45   Author 1                 2005  Science   \n",
            "47           48       50  Book 48  Author 23                 2009  Science   \n",
            "54           55        7  Book 55  Author 26                 1996  Science   \n",
            "58           59       35  Book 59  Author 19                 2000  Science   \n",
            "70           71       18  Book 71  Author 11                 1994  Science   \n",
            "74           75       10  Book 75   Author 7                 2005  Science   \n",
            "83           84       40  Book 84  Author 25                 2014  Science   \n",
            "95           96       15  Book 96  Author 23                 2009  Science   \n",
            "\n",
            "    Page Count  Price  User ID     User Type  Late Return Fee  Renewals  \\\n",
            "2          246  13.51       32  Professional                0         1   \n",
            "3          244  65.64       45  Professional                0         2   \n",
            "5          418  69.02       21       Student               15         2   \n",
            "6          374  44.69       16       Student                5         1   \n",
            "7          191  71.35       21  Professional                0         1   \n",
            "16         495  97.08       41       Student                5         0   \n",
            "18         157  48.11       14       Retired                0         3   \n",
            "25         217  88.04       11       Retired                0         0   \n",
            "32         288  58.09       12  Professional               10         0   \n",
            "39         253  86.24        8       Retired                0         2   \n",
            "44         319  54.37       41       Retired               15         3   \n",
            "47         193  64.22       17  Professional               10         2   \n",
            "54         199  97.68       29       Retired                5         3   \n",
            "58         456  59.13        6  Professional                5         3   \n",
            "70         246  56.20        1  Professional               15         1   \n",
            "74         103  89.23       49       Student                5         2   \n",
            "83         251  32.39       33       Retired                5         1   \n",
            "95         429  46.02        5       Retired               15         3   \n",
            "\n",
            "   Book Condition  \n",
            "2             New  \n",
            "3            Worn  \n",
            "5             New  \n",
            "6            Good  \n",
            "7            Good  \n",
            "16        Damaged  \n",
            "18        Damaged  \n",
            "25           Worn  \n",
            "32           Worn  \n",
            "39           Good  \n",
            "44           Good  \n",
            "47           Worn  \n",
            "54            New  \n",
            "58            New  \n",
            "70           Good  \n",
            "74           Good  \n",
            "83           Worn  \n",
            "95           Worn  \n",
            "Liczba książek w kategorii Science: 18\n"
          ]
        }
      ]
    },
    {
      "cell_type": "markdown",
      "source": [
        "2.Zgrupuj dane według 'Genre' i oblicz średnią, minimalne i maksymalne wartości dla zmiennych 'Price' oraz 'Page Count' dla każdego gatunku.\n",
        "3.Zidentyfikuj i wydrukuj wszystkie unikalne 'Book Conditions' dostępne w zbiorze danych."
      ],
      "metadata": {
        "id": "CGRhmR-N-hHq"
      }
    },
    {
      "cell_type": "code",
      "source": [
        "# 2. Zgrupuj dane według 'Genre' i oblicz średnią, minimalne i maksymalne wartości dla zmiennych 'Price' oraz 'Page Count' dla każdego gatunku.\n",
        "statystyki_genre = ld.groupby('Genre')[['Price', 'Page Count']].agg(['mean', 'min', 'max'])\n",
        "print(\"Statystyki dla 'Price' i 'Page Count' według 'Genre':\")\n",
        "print(statystyki_genre)"
      ],
      "metadata": {
        "colab": {
          "base_uri": "https://localhost:8080/"
        },
        "id": "xVgrhY4DGHT1",
        "outputId": "c35d82f7-c55f-4ba8-ccf1-e72fcb75fe41"
      },
      "execution_count": null,
      "outputs": [
        {
          "output_type": "stream",
          "name": "stdout",
          "text": [
            "Statystyki dla 'Price' i 'Page Count' według 'Genre':\n",
            "                 Price                Page Count          \n",
            "                  mean    min    max        mean  min  max\n",
            "Genre                                                     \n",
            "Biography    53.461500  14.81  99.63  328.400000  109  492\n",
            "Fiction      59.650526  20.21  97.18  277.210526  100  493\n",
            "History      51.462609  13.53  85.33  293.913043  132  496\n",
            "Non-Fiction  58.384500  15.03  95.16  321.300000  122  499\n",
            "Science      63.389444  13.51  97.68  282.166667  103  495\n"
          ]
        }
      ]
    },
    {
      "cell_type": "markdown",
      "source": [
        "3.Zidentyfikuj i wydrukuj wszystkie unikalne 'Book Conditions' dostępne w zbiorze danych.\n"
      ],
      "metadata": {
        "id": "mLLOU1l9-hEm"
      }
    },
    {
      "cell_type": "code",
      "source": [
        "unikalne_book_conditions = ld['Book Condition'].unique()\n",
        "print(f\"Unikalne stany książek występujące w bazie: {unikalne_book_conditions}\")\n"
      ],
      "metadata": {
        "colab": {
          "base_uri": "https://localhost:8080/"
        },
        "id": "-EzIPNWe-vT0",
        "outputId": "b6c9e6ea-839e-4e73-9edf-329dc6017183"
      },
      "execution_count": null,
      "outputs": [
        {
          "output_type": "stream",
          "name": "stdout",
          "text": [
            "Unikalne stany książek występujące w bazie: ['Worn' 'Damaged' 'New' 'Good']\n"
          ]
        }
      ]
    },
    {
      "cell_type": "markdown",
      "source": [
        "\n",
        "Dla chętnych\n",
        "\n",
        "4.Oblicz i wyświetl korelację między 'Page Count' a 'Price'. Czy długość książki koreluje z jej ceną?"
      ],
      "metadata": {
        "id": "vV4S7b0e-x5J"
      }
    },
    {
      "cell_type": "code",
      "source": [
        "# Calculate correlation between two variables\n",
        "korelacja = ld[[ 'Page Count', 'Price']].corr()\n",
        "\n",
        "print(f\"Nie występuje korelacja istotna statystycznie \\n\\nwspółczynnik korelacji \\n\\n{korelacja} \\n\\nwskaźnik jest w kierunku dodatnim\")"
      ],
      "metadata": {
        "colab": {
          "base_uri": "https://localhost:8080/"
        },
        "id": "9w0k_1q_-2Fk",
        "outputId": "99ad51ad-2d0d-4e01-f09a-d4c709cd1d5e"
      },
      "execution_count": null,
      "outputs": [
        {
          "output_type": "stream",
          "name": "stdout",
          "text": [
            "Nie występuje korelacja istotna statystycznie \n",
            "\n",
            "współczynnik korelacji \n",
            "\n",
            "            Page Count     Price\n",
            "Page Count    1.000000  0.047685\n",
            "Price         0.047685  1.000000 \n",
            "\n",
            "wskaźnik jest w kierunku dodatnim\n"
          ]
        }
      ]
    },
    {
      "cell_type": "markdown",
      "source": [
        "5.Posortuj zbiór danych według 'Year of Publication' w porządku malejącym i wyświetl pierwsze 10 rekordów."
      ],
      "metadata": {
        "id": "LQOKmaqF-x2o"
      }
    },
    {
      "cell_type": "code",
      "source": [
        "sorted_ld_year_publ = ld.sort_values(by='Year of Publication', ascending=False).head(10)\n",
        "print(sorted_ld_year_publ)"
      ],
      "metadata": {
        "colab": {
          "base_uri": "https://localhost:8080/"
        },
        "id": "aG8LO4Vs-2bj",
        "outputId": "837d619d-d97a-4d3b-a1a5-75975d0fa05f"
      },
      "execution_count": null,
      "outputs": [
        {
          "output_type": "stream",
          "name": "stdout",
          "text": [
            "    Checkout ID  Book ID    Title     Author  Year of Publication  \\\n",
            "0             1       39   Book 1   Author 9                 2022   \n",
            "9            10       11  Book 10   Author 8                 2022   \n",
            "24           25       33  Book 25   Author 2                 2022   \n",
            "41           42        9  Book 42  Author 15                 2022   \n",
            "78           79       48  Book 79  Author 28                 2022   \n",
            "90           91       26  Book 91  Author 20                 2022   \n",
            "55           56       44  Book 56  Author 10                 2022   \n",
            "92           93       45  Book 93  Author 30                 2022   \n",
            "29           30       49  Book 30  Author 30                 2021   \n",
            "31           32       42  Book 32   Author 5                 2021   \n",
            "\n",
            "          Genre  Page Count  Price  User ID     User Type  Late Return Fee  \\\n",
            "0       Fiction         205  29.31       44       Student               10   \n",
            "9     Biography         445  33.46       37  Professional                0   \n",
            "24    Biography         225  62.25       23  Professional                5   \n",
            "41      Fiction         185  96.11       28       Student                0   \n",
            "78  Non-Fiction         346  41.52       25  Professional               15   \n",
            "90      History         200  79.05        6       Retired                5   \n",
            "55    Biography         388  99.63       13       Retired               15   \n",
            "92      History         422  76.98       17       Student                0   \n",
            "29    Biography         472  76.59       16  Professional               10   \n",
            "31    Biography         371  44.00       38  Professional                5   \n",
            "\n",
            "    Renewals Book Condition  \n",
            "0          0           Worn  \n",
            "9          3           Good  \n",
            "24         2            New  \n",
            "41         1        Damaged  \n",
            "78         0        Damaged  \n",
            "90         3            New  \n",
            "55         2        Damaged  \n",
            "92         0            New  \n",
            "29         0           Worn  \n",
            "31         1           Good  \n"
          ]
        }
      ]
    },
    {
      "cell_type": "markdown",
      "source": [
        "5. Wyfiltruj zbiór danych tak, aby zawierał tylko książki sklasyfikowane jako \"Science\" oraz mające więcej niż 300 stron."
      ],
      "metadata": {
        "id": "uVKOmAC2-xkY"
      }
    },
    {
      "cell_type": "code",
      "source": [
        "filtered_ld_science_and_pages = ld[(ld['Genre'] == 'Science') & (ld['Page Count'] > 300)]\n",
        "filtered_ld_science_and_pages"
      ],
      "metadata": {
        "colab": {
          "base_uri": "https://localhost:8080/",
          "height": 237
        },
        "id": "HvpTRYaL-3Yj",
        "outputId": "e3af971a-d3f9-4928-b25f-c4fcafc79ef4"
      },
      "execution_count": null,
      "outputs": [
        {
          "output_type": "execute_result",
          "data": {
            "text/plain": [
              "    Checkout ID  Book ID    Title     Author  Year of Publication    Genre  \\\n",
              "5             6       21   Book 6  Author 24                 1995  Science   \n",
              "6             7       39   Book 7  Author 11                 1997  Science   \n",
              "16           17       22  Book 17   Author 7                 1991  Science   \n",
              "44           45        4  Book 45   Author 1                 2005  Science   \n",
              "58           59       35  Book 59  Author 19                 2000  Science   \n",
              "95           96       15  Book 96  Author 23                 2009  Science   \n",
              "\n",
              "    Page Count  Price  User ID     User Type  Late Return Fee  Renewals  \\\n",
              "5          418  69.02       21       Student               15         2   \n",
              "6          374  44.69       16       Student                5         1   \n",
              "16         495  97.08       41       Student                5         0   \n",
              "44         319  54.37       41       Retired               15         3   \n",
              "58         456  59.13        6  Professional                5         3   \n",
              "95         429  46.02        5       Retired               15         3   \n",
              "\n",
              "   Book Condition  \n",
              "5             New  \n",
              "6            Good  \n",
              "16        Damaged  \n",
              "44           Good  \n",
              "58            New  \n",
              "95           Worn  "
            ],
            "text/html": [
              "\n",
              "  <div id=\"df-facdfccf-3a39-4fbc-b0c3-11a24347787a\" class=\"colab-df-container\">\n",
              "    <div>\n",
              "<style scoped>\n",
              "    .dataframe tbody tr th:only-of-type {\n",
              "        vertical-align: middle;\n",
              "    }\n",
              "\n",
              "    .dataframe tbody tr th {\n",
              "        vertical-align: top;\n",
              "    }\n",
              "\n",
              "    .dataframe thead th {\n",
              "        text-align: right;\n",
              "    }\n",
              "</style>\n",
              "<table border=\"1\" class=\"dataframe\">\n",
              "  <thead>\n",
              "    <tr style=\"text-align: right;\">\n",
              "      <th></th>\n",
              "      <th>Checkout ID</th>\n",
              "      <th>Book ID</th>\n",
              "      <th>Title</th>\n",
              "      <th>Author</th>\n",
              "      <th>Year of Publication</th>\n",
              "      <th>Genre</th>\n",
              "      <th>Page Count</th>\n",
              "      <th>Price</th>\n",
              "      <th>User ID</th>\n",
              "      <th>User Type</th>\n",
              "      <th>Late Return Fee</th>\n",
              "      <th>Renewals</th>\n",
              "      <th>Book Condition</th>\n",
              "    </tr>\n",
              "  </thead>\n",
              "  <tbody>\n",
              "    <tr>\n",
              "      <th>5</th>\n",
              "      <td>6</td>\n",
              "      <td>21</td>\n",
              "      <td>Book 6</td>\n",
              "      <td>Author 24</td>\n",
              "      <td>1995</td>\n",
              "      <td>Science</td>\n",
              "      <td>418</td>\n",
              "      <td>69.02</td>\n",
              "      <td>21</td>\n",
              "      <td>Student</td>\n",
              "      <td>15</td>\n",
              "      <td>2</td>\n",
              "      <td>New</td>\n",
              "    </tr>\n",
              "    <tr>\n",
              "      <th>6</th>\n",
              "      <td>7</td>\n",
              "      <td>39</td>\n",
              "      <td>Book 7</td>\n",
              "      <td>Author 11</td>\n",
              "      <td>1997</td>\n",
              "      <td>Science</td>\n",
              "      <td>374</td>\n",
              "      <td>44.69</td>\n",
              "      <td>16</td>\n",
              "      <td>Student</td>\n",
              "      <td>5</td>\n",
              "      <td>1</td>\n",
              "      <td>Good</td>\n",
              "    </tr>\n",
              "    <tr>\n",
              "      <th>16</th>\n",
              "      <td>17</td>\n",
              "      <td>22</td>\n",
              "      <td>Book 17</td>\n",
              "      <td>Author 7</td>\n",
              "      <td>1991</td>\n",
              "      <td>Science</td>\n",
              "      <td>495</td>\n",
              "      <td>97.08</td>\n",
              "      <td>41</td>\n",
              "      <td>Student</td>\n",
              "      <td>5</td>\n",
              "      <td>0</td>\n",
              "      <td>Damaged</td>\n",
              "    </tr>\n",
              "    <tr>\n",
              "      <th>44</th>\n",
              "      <td>45</td>\n",
              "      <td>4</td>\n",
              "      <td>Book 45</td>\n",
              "      <td>Author 1</td>\n",
              "      <td>2005</td>\n",
              "      <td>Science</td>\n",
              "      <td>319</td>\n",
              "      <td>54.37</td>\n",
              "      <td>41</td>\n",
              "      <td>Retired</td>\n",
              "      <td>15</td>\n",
              "      <td>3</td>\n",
              "      <td>Good</td>\n",
              "    </tr>\n",
              "    <tr>\n",
              "      <th>58</th>\n",
              "      <td>59</td>\n",
              "      <td>35</td>\n",
              "      <td>Book 59</td>\n",
              "      <td>Author 19</td>\n",
              "      <td>2000</td>\n",
              "      <td>Science</td>\n",
              "      <td>456</td>\n",
              "      <td>59.13</td>\n",
              "      <td>6</td>\n",
              "      <td>Professional</td>\n",
              "      <td>5</td>\n",
              "      <td>3</td>\n",
              "      <td>New</td>\n",
              "    </tr>\n",
              "    <tr>\n",
              "      <th>95</th>\n",
              "      <td>96</td>\n",
              "      <td>15</td>\n",
              "      <td>Book 96</td>\n",
              "      <td>Author 23</td>\n",
              "      <td>2009</td>\n",
              "      <td>Science</td>\n",
              "      <td>429</td>\n",
              "      <td>46.02</td>\n",
              "      <td>5</td>\n",
              "      <td>Retired</td>\n",
              "      <td>15</td>\n",
              "      <td>3</td>\n",
              "      <td>Worn</td>\n",
              "    </tr>\n",
              "  </tbody>\n",
              "</table>\n",
              "</div>\n",
              "    <div class=\"colab-df-buttons\">\n",
              "\n",
              "  <div class=\"colab-df-container\">\n",
              "    <button class=\"colab-df-convert\" onclick=\"convertToInteractive('df-facdfccf-3a39-4fbc-b0c3-11a24347787a')\"\n",
              "            title=\"Convert this dataframe to an interactive table.\"\n",
              "            style=\"display:none;\">\n",
              "\n",
              "  <svg xmlns=\"http://www.w3.org/2000/svg\" height=\"24px\" viewBox=\"0 -960 960 960\">\n",
              "    <path d=\"M120-120v-720h720v720H120Zm60-500h600v-160H180v160Zm220 220h160v-160H400v160Zm0 220h160v-160H400v160ZM180-400h160v-160H180v160Zm440 0h160v-160H620v160ZM180-180h160v-160H180v160Zm440 0h160v-160H620v160Z\"/>\n",
              "  </svg>\n",
              "    </button>\n",
              "\n",
              "  <style>\n",
              "    .colab-df-container {\n",
              "      display:flex;\n",
              "      gap: 12px;\n",
              "    }\n",
              "\n",
              "    .colab-df-convert {\n",
              "      background-color: #E8F0FE;\n",
              "      border: none;\n",
              "      border-radius: 50%;\n",
              "      cursor: pointer;\n",
              "      display: none;\n",
              "      fill: #1967D2;\n",
              "      height: 32px;\n",
              "      padding: 0 0 0 0;\n",
              "      width: 32px;\n",
              "    }\n",
              "\n",
              "    .colab-df-convert:hover {\n",
              "      background-color: #E2EBFA;\n",
              "      box-shadow: 0px 1px 2px rgba(60, 64, 67, 0.3), 0px 1px 3px 1px rgba(60, 64, 67, 0.15);\n",
              "      fill: #174EA6;\n",
              "    }\n",
              "\n",
              "    .colab-df-buttons div {\n",
              "      margin-bottom: 4px;\n",
              "    }\n",
              "\n",
              "    [theme=dark] .colab-df-convert {\n",
              "      background-color: #3B4455;\n",
              "      fill: #D2E3FC;\n",
              "    }\n",
              "\n",
              "    [theme=dark] .colab-df-convert:hover {\n",
              "      background-color: #434B5C;\n",
              "      box-shadow: 0px 1px 3px 1px rgba(0, 0, 0, 0.15);\n",
              "      filter: drop-shadow(0px 1px 2px rgba(0, 0, 0, 0.3));\n",
              "      fill: #FFFFFF;\n",
              "    }\n",
              "  </style>\n",
              "\n",
              "    <script>\n",
              "      const buttonEl =\n",
              "        document.querySelector('#df-facdfccf-3a39-4fbc-b0c3-11a24347787a button.colab-df-convert');\n",
              "      buttonEl.style.display =\n",
              "        google.colab.kernel.accessAllowed ? 'block' : 'none';\n",
              "\n",
              "      async function convertToInteractive(key) {\n",
              "        const element = document.querySelector('#df-facdfccf-3a39-4fbc-b0c3-11a24347787a');\n",
              "        const dataTable =\n",
              "          await google.colab.kernel.invokeFunction('convertToInteractive',\n",
              "                                                    [key], {});\n",
              "        if (!dataTable) return;\n",
              "\n",
              "        const docLinkHtml = 'Like what you see? Visit the ' +\n",
              "          '<a target=\"_blank\" href=https://colab.research.google.com/notebooks/data_table.ipynb>data table notebook</a>'\n",
              "          + ' to learn more about interactive tables.';\n",
              "        element.innerHTML = '';\n",
              "        dataTable['output_type'] = 'display_data';\n",
              "        await google.colab.output.renderOutput(dataTable, element);\n",
              "        const docLink = document.createElement('div');\n",
              "        docLink.innerHTML = docLinkHtml;\n",
              "        element.appendChild(docLink);\n",
              "      }\n",
              "    </script>\n",
              "  </div>\n",
              "\n",
              "\n",
              "    <div id=\"df-d200cbc4-6819-42ab-b98a-b2ab7800d778\">\n",
              "      <button class=\"colab-df-quickchart\" onclick=\"quickchart('df-d200cbc4-6819-42ab-b98a-b2ab7800d778')\"\n",
              "                title=\"Suggest charts\"\n",
              "                style=\"display:none;\">\n",
              "\n",
              "<svg xmlns=\"http://www.w3.org/2000/svg\" height=\"24px\"viewBox=\"0 0 24 24\"\n",
              "     width=\"24px\">\n",
              "    <g>\n",
              "        <path d=\"M19 3H5c-1.1 0-2 .9-2 2v14c0 1.1.9 2 2 2h14c1.1 0 2-.9 2-2V5c0-1.1-.9-2-2-2zM9 17H7v-7h2v7zm4 0h-2V7h2v10zm4 0h-2v-4h2v4z\"/>\n",
              "    </g>\n",
              "</svg>\n",
              "      </button>\n",
              "\n",
              "<style>\n",
              "  .colab-df-quickchart {\n",
              "      --bg-color: #E8F0FE;\n",
              "      --fill-color: #1967D2;\n",
              "      --hover-bg-color: #E2EBFA;\n",
              "      --hover-fill-color: #174EA6;\n",
              "      --disabled-fill-color: #AAA;\n",
              "      --disabled-bg-color: #DDD;\n",
              "  }\n",
              "\n",
              "  [theme=dark] .colab-df-quickchart {\n",
              "      --bg-color: #3B4455;\n",
              "      --fill-color: #D2E3FC;\n",
              "      --hover-bg-color: #434B5C;\n",
              "      --hover-fill-color: #FFFFFF;\n",
              "      --disabled-bg-color: #3B4455;\n",
              "      --disabled-fill-color: #666;\n",
              "  }\n",
              "\n",
              "  .colab-df-quickchart {\n",
              "    background-color: var(--bg-color);\n",
              "    border: none;\n",
              "    border-radius: 50%;\n",
              "    cursor: pointer;\n",
              "    display: none;\n",
              "    fill: var(--fill-color);\n",
              "    height: 32px;\n",
              "    padding: 0;\n",
              "    width: 32px;\n",
              "  }\n",
              "\n",
              "  .colab-df-quickchart:hover {\n",
              "    background-color: var(--hover-bg-color);\n",
              "    box-shadow: 0 1px 2px rgba(60, 64, 67, 0.3), 0 1px 3px 1px rgba(60, 64, 67, 0.15);\n",
              "    fill: var(--button-hover-fill-color);\n",
              "  }\n",
              "\n",
              "  .colab-df-quickchart-complete:disabled,\n",
              "  .colab-df-quickchart-complete:disabled:hover {\n",
              "    background-color: var(--disabled-bg-color);\n",
              "    fill: var(--disabled-fill-color);\n",
              "    box-shadow: none;\n",
              "  }\n",
              "\n",
              "  .colab-df-spinner {\n",
              "    border: 2px solid var(--fill-color);\n",
              "    border-color: transparent;\n",
              "    border-bottom-color: var(--fill-color);\n",
              "    animation:\n",
              "      spin 1s steps(1) infinite;\n",
              "  }\n",
              "\n",
              "  @keyframes spin {\n",
              "    0% {\n",
              "      border-color: transparent;\n",
              "      border-bottom-color: var(--fill-color);\n",
              "      border-left-color: var(--fill-color);\n",
              "    }\n",
              "    20% {\n",
              "      border-color: transparent;\n",
              "      border-left-color: var(--fill-color);\n",
              "      border-top-color: var(--fill-color);\n",
              "    }\n",
              "    30% {\n",
              "      border-color: transparent;\n",
              "      border-left-color: var(--fill-color);\n",
              "      border-top-color: var(--fill-color);\n",
              "      border-right-color: var(--fill-color);\n",
              "    }\n",
              "    40% {\n",
              "      border-color: transparent;\n",
              "      border-right-color: var(--fill-color);\n",
              "      border-top-color: var(--fill-color);\n",
              "    }\n",
              "    60% {\n",
              "      border-color: transparent;\n",
              "      border-right-color: var(--fill-color);\n",
              "    }\n",
              "    80% {\n",
              "      border-color: transparent;\n",
              "      border-right-color: var(--fill-color);\n",
              "      border-bottom-color: var(--fill-color);\n",
              "    }\n",
              "    90% {\n",
              "      border-color: transparent;\n",
              "      border-bottom-color: var(--fill-color);\n",
              "    }\n",
              "  }\n",
              "</style>\n",
              "\n",
              "      <script>\n",
              "        async function quickchart(key) {\n",
              "          const quickchartButtonEl =\n",
              "            document.querySelector('#' + key + ' button');\n",
              "          quickchartButtonEl.disabled = true;  // To prevent multiple clicks.\n",
              "          quickchartButtonEl.classList.add('colab-df-spinner');\n",
              "          try {\n",
              "            const charts = await google.colab.kernel.invokeFunction(\n",
              "                'suggestCharts', [key], {});\n",
              "          } catch (error) {\n",
              "            console.error('Error during call to suggestCharts:', error);\n",
              "          }\n",
              "          quickchartButtonEl.classList.remove('colab-df-spinner');\n",
              "          quickchartButtonEl.classList.add('colab-df-quickchart-complete');\n",
              "        }\n",
              "        (() => {\n",
              "          let quickchartButtonEl =\n",
              "            document.querySelector('#df-d200cbc4-6819-42ab-b98a-b2ab7800d778 button');\n",
              "          quickchartButtonEl.style.display =\n",
              "            google.colab.kernel.accessAllowed ? 'block' : 'none';\n",
              "        })();\n",
              "      </script>\n",
              "    </div>\n",
              "\n",
              "  <div id=\"id_d6b32399-f188-4118-b254-8343a9effb76\">\n",
              "    <style>\n",
              "      .colab-df-generate {\n",
              "        background-color: #E8F0FE;\n",
              "        border: none;\n",
              "        border-radius: 50%;\n",
              "        cursor: pointer;\n",
              "        display: none;\n",
              "        fill: #1967D2;\n",
              "        height: 32px;\n",
              "        padding: 0 0 0 0;\n",
              "        width: 32px;\n",
              "      }\n",
              "\n",
              "      .colab-df-generate:hover {\n",
              "        background-color: #E2EBFA;\n",
              "        box-shadow: 0px 1px 2px rgba(60, 64, 67, 0.3), 0px 1px 3px 1px rgba(60, 64, 67, 0.15);\n",
              "        fill: #174EA6;\n",
              "      }\n",
              "\n",
              "      [theme=dark] .colab-df-generate {\n",
              "        background-color: #3B4455;\n",
              "        fill: #D2E3FC;\n",
              "      }\n",
              "\n",
              "      [theme=dark] .colab-df-generate:hover {\n",
              "        background-color: #434B5C;\n",
              "        box-shadow: 0px 1px 3px 1px rgba(0, 0, 0, 0.15);\n",
              "        filter: drop-shadow(0px 1px 2px rgba(0, 0, 0, 0.3));\n",
              "        fill: #FFFFFF;\n",
              "      }\n",
              "    </style>\n",
              "    <button class=\"colab-df-generate\" onclick=\"generateWithVariable('filtered_ld_science_and_pages')\"\n",
              "            title=\"Generate code using this dataframe.\"\n",
              "            style=\"display:none;\">\n",
              "\n",
              "  <svg xmlns=\"http://www.w3.org/2000/svg\" height=\"24px\"viewBox=\"0 0 24 24\"\n",
              "       width=\"24px\">\n",
              "    <path d=\"M7,19H8.4L18.45,9,17,7.55,7,17.6ZM5,21V16.75L18.45,3.32a2,2,0,0,1,2.83,0l1.4,1.43a1.91,1.91,0,0,1,.58,1.4,1.91,1.91,0,0,1-.58,1.4L9.25,21ZM18.45,9,17,7.55Zm-12,3A5.31,5.31,0,0,0,4.9,8.1,5.31,5.31,0,0,0,1,6.5,5.31,5.31,0,0,0,4.9,4.9,5.31,5.31,0,0,0,6.5,1,5.31,5.31,0,0,0,8.1,4.9,5.31,5.31,0,0,0,12,6.5,5.46,5.46,0,0,0,6.5,12Z\"/>\n",
              "  </svg>\n",
              "    </button>\n",
              "    <script>\n",
              "      (() => {\n",
              "      const buttonEl =\n",
              "        document.querySelector('#id_d6b32399-f188-4118-b254-8343a9effb76 button.colab-df-generate');\n",
              "      buttonEl.style.display =\n",
              "        google.colab.kernel.accessAllowed ? 'block' : 'none';\n",
              "\n",
              "      buttonEl.onclick = () => {\n",
              "        google.colab.notebook.generateWithVariable('filtered_ld_science_and_pages');\n",
              "      }\n",
              "      })();\n",
              "    </script>\n",
              "  </div>\n",
              "\n",
              "    </div>\n",
              "  </div>\n"
            ],
            "application/vnd.google.colaboratory.intrinsic+json": {
              "type": "dataframe",
              "variable_name": "filtered_ld_science_and_pages",
              "summary": "{\n  \"name\": \"filtered_ld_science_and_pages\",\n  \"rows\": 6,\n  \"fields\": [\n    {\n      \"column\": \"Checkout ID\",\n      \"properties\": {\n        \"dtype\": \"number\",\n        \"std\": 35,\n        \"min\": 6,\n        \"max\": 96,\n        \"num_unique_values\": 6,\n        \"samples\": [\n          6,\n          7,\n          96\n        ],\n        \"semantic_type\": \"\",\n        \"description\": \"\"\n      }\n    },\n    {\n      \"column\": \"Book ID\",\n      \"properties\": {\n        \"dtype\": \"number\",\n        \"std\": 12,\n        \"min\": 4,\n        \"max\": 39,\n        \"num_unique_values\": 6,\n        \"samples\": [\n          21,\n          39,\n          15\n        ],\n        \"semantic_type\": \"\",\n        \"description\": \"\"\n      }\n    },\n    {\n      \"column\": \"Title\",\n      \"properties\": {\n        \"dtype\": \"string\",\n        \"num_unique_values\": 6,\n        \"samples\": [\n          \"Book 6\",\n          \"Book 7\",\n          \"Book 96\"\n        ],\n        \"semantic_type\": \"\",\n        \"description\": \"\"\n      }\n    },\n    {\n      \"column\": \"Author\",\n      \"properties\": {\n        \"dtype\": \"string\",\n        \"num_unique_values\": 6,\n        \"samples\": [\n          \"Author 24\",\n          \"Author 11\",\n          \"Author 23\"\n        ],\n        \"semantic_type\": \"\",\n        \"description\": \"\"\n      }\n    },\n    {\n      \"column\": \"Year of Publication\",\n      \"properties\": {\n        \"dtype\": \"number\",\n        \"std\": 6,\n        \"min\": 1991,\n        \"max\": 2009,\n        \"num_unique_values\": 6,\n        \"samples\": [\n          1995,\n          1997,\n          2009\n        ],\n        \"semantic_type\": \"\",\n        \"description\": \"\"\n      }\n    },\n    {\n      \"column\": \"Genre\",\n      \"properties\": {\n        \"dtype\": \"category\",\n        \"num_unique_values\": 1,\n        \"samples\": [\n          \"Science\"\n        ],\n        \"semantic_type\": \"\",\n        \"description\": \"\"\n      }\n    },\n    {\n      \"column\": \"Page Count\",\n      \"properties\": {\n        \"dtype\": \"number\",\n        \"std\": 61,\n        \"min\": 319,\n        \"max\": 495,\n        \"num_unique_values\": 6,\n        \"samples\": [\n          418\n        ],\n        \"semantic_type\": \"\",\n        \"description\": \"\"\n      }\n    },\n    {\n      \"column\": \"Price\",\n      \"properties\": {\n        \"dtype\": \"number\",\n        \"std\": 19.49800545355003,\n        \"min\": 44.69,\n        \"max\": 97.08,\n        \"num_unique_values\": 6,\n        \"samples\": [\n          69.02\n        ],\n        \"semantic_type\": \"\",\n        \"description\": \"\"\n      }\n    },\n    {\n      \"column\": \"User ID\",\n      \"properties\": {\n        \"dtype\": \"number\",\n        \"std\": 16,\n        \"min\": 5,\n        \"max\": 41,\n        \"num_unique_values\": 5,\n        \"samples\": [\n          16\n        ],\n        \"semantic_type\": \"\",\n        \"description\": \"\"\n      }\n    },\n    {\n      \"column\": \"User Type\",\n      \"properties\": {\n        \"dtype\": \"string\",\n        \"num_unique_values\": 3,\n        \"samples\": [\n          \"Student\"\n        ],\n        \"semantic_type\": \"\",\n        \"description\": \"\"\n      }\n    },\n    {\n      \"column\": \"Late Return Fee\",\n      \"properties\": {\n        \"dtype\": \"number\",\n        \"std\": 5,\n        \"min\": 5,\n        \"max\": 15,\n        \"num_unique_values\": 2,\n        \"samples\": [\n          5\n        ],\n        \"semantic_type\": \"\",\n        \"description\": \"\"\n      }\n    },\n    {\n      \"column\": \"Renewals\",\n      \"properties\": {\n        \"dtype\": \"number\",\n        \"std\": 1,\n        \"min\": 0,\n        \"max\": 3,\n        \"num_unique_values\": 4,\n        \"samples\": [\n          1\n        ],\n        \"semantic_type\": \"\",\n        \"description\": \"\"\n      }\n    },\n    {\n      \"column\": \"Book Condition\",\n      \"properties\": {\n        \"dtype\": \"string\",\n        \"num_unique_values\": 4,\n        \"samples\": [\n          \"Good\"\n        ],\n        \"semantic_type\": \"\",\n        \"description\": \"\"\n      }\n    }\n  ]\n}"
            }
          },
          "metadata": {},
          "execution_count": 132
        }
      ]
    }
  ]
}