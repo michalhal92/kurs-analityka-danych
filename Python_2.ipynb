{
  "nbformat": 4,
  "nbformat_minor": 0,
  "metadata": {
    "colab": {
      "provenance": [],
      "include_colab_link": true
    },
    "kernelspec": {
      "name": "python3",
      "display_name": "Python 3"
    },
    "language_info": {
      "name": "python"
    }
  },
  "cells": [
    {
      "cell_type": "markdown",
      "metadata": {
        "id": "view-in-github",
        "colab_type": "text"
      },
      "source": [
        "<a href=\"https://colab.research.google.com/github/michalhal92/kurs-analityka-danych/blob/main/Python_2.ipynb\" target=\"_parent\"><img src=\"https://colab.research.google.com/assets/colab-badge.svg\" alt=\"Open In Colab\"/></a>"
      ]
    },
    {
      "cell_type": "markdown",
      "source": [
        "Listy"
      ],
      "metadata": {
        "id": "VtQBXS_TNYtk"
      }
    },
    {
      "cell_type": "code",
      "source": [
        "example_list = [1, \"Hello\", 3.14, True]\n",
        "numbers_list = [10 , 20 , 100 , 40]\n",
        "fruit_list = ['banan', 'malina', 'mango']\n",
        "nested_list = ['spam ', 2.0 , 5 , [10 , 20]]\n",
        "empty_list = []\n",
        "\n",
        "print(example_list)\n",
        "print(numbers_list)\n",
        "print(fruit_list)\n",
        "print(nested_list)\n",
        "print(empty_list)"
      ],
      "metadata": {
        "id": "VdrS4OYWNavg",
        "colab": {
          "base_uri": "https://localhost:8080/"
        },
        "outputId": "7d184090-8e7b-404a-b40e-bf65b528b7df"
      },
      "execution_count": null,
      "outputs": [
        {
          "output_type": "stream",
          "name": "stdout",
          "text": [
            "[1, 'Hello', 3.14, True]\n",
            "[10, 20, 100, 40]\n",
            "['banan', 'malina', 'mango']\n",
            "['spam ', 2.0, 5, [10, 20]]\n",
            "[]\n"
          ]
        }
      ]
    },
    {
      "cell_type": "code",
      "execution_count": null,
      "metadata": {
        "id": "i39cb7-OKix7",
        "colab": {
          "base_uri": "https://localhost:8080/"
        },
        "outputId": "3014c584-3c47-4928-b9f9-7d2d5fadf761"
      },
      "outputs": [
        {
          "output_type": "stream",
          "name": "stdout",
          "text": [
            "1\n",
            "Hello\n",
            "3.14\n"
          ]
        }
      ],
      "source": [
        "# Dostęp do elementów\n",
        "\n",
        "first_element = example_list[0]  # Zwraca 1\n",
        "second_element = example_list[1]\n",
        "third_element = example_list[2]\n",
        "\n",
        "print(first_element)\n",
        "print(second_element)\n",
        "print(third_element)\n",
        "\n",
        "\n",
        "#second_element = example_list[1]  # Zwraca 2\n",
        "#print(second_element)"
      ]
    },
    {
      "cell_type": "code",
      "source": [
        "# Liczenie powtorzen danego elementu\n",
        "example_list = [1, \"Hello\", 3.14, \"Hello\", True]\n",
        "\n",
        "example_list.count(\"Hello\")"
      ],
      "metadata": {
        "id": "kWp40umiq8C-",
        "colab": {
          "base_uri": "https://localhost:8080/"
        },
        "outputId": "fa27c9fb-dca8-4e72-ffae-5ddeb2832d1b"
      },
      "execution_count": null,
      "outputs": [
        {
          "output_type": "execute_result",
          "data": {
            "text/plain": [
              "2"
            ]
          },
          "metadata": {},
          "execution_count": 3
        }
      ]
    },
    {
      "cell_type": "code",
      "source": [
        "# Modyfikacja elementów\n",
        "\n",
        "example_list = [1, \"Hello\", 3.14, \"Hello\", True]\n",
        "print(example_list)\n",
        "\n",
        "example_list[1] = \"World\"\n",
        "print(example_list)\n",
        "\n",
        "example_list[0] = 12\n",
        "print(example_list)"
      ],
      "metadata": {
        "id": "L04XuAzyP1qo",
        "colab": {
          "base_uri": "https://localhost:8080/"
        },
        "outputId": "36b31234-9d57-466d-f6f6-c727d77417e7"
      },
      "execution_count": null,
      "outputs": [
        {
          "output_type": "stream",
          "name": "stdout",
          "text": [
            "[1, 'Hello', 3.14, 'Hello', True]\n",
            "[1, 'World', 3.14, 'Hello', True]\n",
            "[12, 'World', 3.14, 'Hello', True]\n"
          ]
        }
      ]
    },
    {
      "cell_type": "code",
      "source": [
        "# Dodawanie nowych elementów\n",
        "\n",
        "example_list.append(\"New item\")\n",
        "print(example_list)\n",
        "\n",
        "example_list.insert(2, \"New\")\n",
        "print(example_list)"
      ],
      "metadata": {
        "id": "qw8SrTphQGXW",
        "colab": {
          "base_uri": "https://localhost:8080/"
        },
        "outputId": "5a6e3422-0fae-46a3-aa8c-e2a6cecbb32d"
      },
      "execution_count": null,
      "outputs": [
        {
          "output_type": "stream",
          "name": "stdout",
          "text": [
            "[12, 'World', 'New', 3.14, 'Hello', True, 'New item', 'New item']\n",
            "[12, 'World', 'New', 'New', 3.14, 'Hello', True, 'New item', 'New item']\n"
          ]
        }
      ]
    },
    {
      "cell_type": "code",
      "source": [
        "# Usuwanie elementów\n",
        "\n",
        "#example_list.remove(\"New\")  # Usuwa \"World\"\n",
        "#print(example_list)\n",
        "\n",
        "#popped_item = example_list.pop()  # Usuwa ostatni element i zwraca go\n",
        "#print(popped_item)\n",
        "#print(example_list)\n",
        "popped_item = example_list.pop(0)  # Usuwa i zwraca element na indeksie 1\n",
        "print(popped_item)\n",
        "print(example_list)"
      ],
      "metadata": {
        "id": "7cYSRMEiQMV2",
        "colab": {
          "base_uri": "https://localhost:8080/"
        },
        "outputId": "b8920b71-7fe5-4b1b-f352-d0364c629a8a"
      },
      "execution_count": null,
      "outputs": [
        {
          "output_type": "stream",
          "name": "stdout",
          "text": [
            "12\n",
            "['World', 'New', 'New', 3.14, 'Hello', True, 'New item', 'New item']\n"
          ]
        }
      ]
    },
    {
      "cell_type": "code",
      "source": [
        "# Kopiowanie listy\n",
        "example_list_copy = example_list.copy()\n",
        "example_list_copy_2 = example_list[:]\n",
        "print(example_list_copy)\n",
        "print(example_list_copy_2)"
      ],
      "metadata": {
        "id": "GrHYZZ9ju1qy"
      },
      "execution_count": null,
      "outputs": []
    },
    {
      "cell_type": "markdown",
      "source": [
        "ZADANIE 1: Na podstawie podanej listy liczb: numbers = [10, 20, 30, 40, 50, 60, 70, 80, 90, 100] wykonaj następujące operacje i wydrukuj każdy wynik:Wydrukuj wartość trzeciego elementu listy.Wyodrębnij slice z listy numbers zawierający elementy od indeksu 3 do 7.Dodaj na końcu listy nowy element o wartości 110.Usuń element o wartości 30 z listy.Odwróć kolejność elementów w całej liście.Posortuj listę w odwrotnej kolejności."
      ],
      "metadata": {
        "id": "MRHOg5llQbcB"
      }
    },
    {
      "cell_type": "code",
      "source": [
        "# Tworzenie listy\n",
        "numbers = [10, 20, 30, 40, 50, 60, 70, 80, 90, 100]\n",
        "# Wydrukuj wartość trzeciego elementu listy.\n",
        "# Tworzenie listy\n",
        "numbers = [10, 20, 30, 40, 50, 60, 70, 80, 90, 100]\n",
        "# Wydrukuj wartość trzeciego elementu listy.\n",
        "print(numbers[2])\n",
        "# Wyodrębnij slice z listy numbers zawierający elementy od indeksu 3 do 7\n",
        "slice = numbers[2:7:1]\n",
        "print(slice)\n",
        "# Dodaj na końcu listy nowy element o wartości 110\n",
        "slice.append(110)\n",
        "print(slice)\n",
        "# Usuń element o wartości 30 z listy\n",
        "slice.remove(30)\n",
        "print(slice)\n",
        "# lub slice.pop(0)\n",
        "\n",
        "# odwróć kolejność elementów w całej liście\n",
        "slice.reverse()\n",
        "print(slice)\n",
        "#lub\n",
        "#odwrocony = slice[::-1]\n",
        "#print(odwrocony)\n",
        "\n",
        "#Posortuj listę w odwrotnej kolejności.\n",
        "slice.sort(reverse=False)\n",
        "print(slice)\n",
        "\n",
        "\n",
        "\n",
        "\n"
      ],
      "metadata": {
        "id": "VUL2xwTHbW_z",
        "colab": {
          "base_uri": "https://localhost:8080/"
        },
        "outputId": "e980ada6-8045-418a-ff12-9ae1d7988ead"
      },
      "execution_count": null,
      "outputs": [
        {
          "output_type": "stream",
          "name": "stdout",
          "text": [
            "30\n",
            "[30, 40, 50, 60, 70]\n",
            "[30, 40, 50, 60, 70, 110]\n",
            "[40, 50, 60, 70, 110]\n",
            "[110, 70, 60, 50, 40]\n",
            "[40, 50, 60, 70, 110]\n"
          ]
        }
      ]
    },
    {
      "cell_type": "code",
      "source": [],
      "metadata": {
        "id": "AODNUXaiXQY3",
        "colab": {
          "base_uri": "https://localhost:8080/"
        },
        "outputId": "86c0ce81-8375-4b27-e5bf-ead316ddd372"
      },
      "execution_count": null,
      "outputs": [
        {
          "output_type": "stream",
          "name": "stdout",
          "text": [
            "[10, 12, 5, 15, 14, 15, 14]\n",
            "[5, 10, 12, 14, 14, 15, 15]\n",
            "[5, 10, 12, 14, 14, 15, 15]\n"
          ]
        }
      ]
    },
    {
      "cell_type": "code",
      "source": [
        "\n"
      ],
      "metadata": {
        "id": "eYcCdUKvXZJe",
        "colab": {
          "base_uri": "https://localhost:8080/"
        },
        "outputId": "3f24700d-50dc-47a7-f057-4a412b97244d"
      },
      "execution_count": null,
      "outputs": [
        {
          "output_type": "stream",
          "name": "stdout",
          "text": [
            "[15, 15, 14, 14, 12, 10, 5]\n"
          ]
        }
      ]
    },
    {
      "cell_type": "code",
      "source": [],
      "metadata": {
        "id": "Zm7Zoy0LX_RL",
        "colab": {
          "base_uri": "https://localhost:8080/"
        },
        "outputId": "3a365fca-3922-464b-c93a-b9b165e97666"
      },
      "execution_count": null,
      "outputs": [
        {
          "output_type": "stream",
          "name": "stdout",
          "text": [
            "[15, 15, 14, 14, 12, 10, 5, 5, 10, 12, 14, 14, 15, 15]\n"
          ]
        }
      ]
    },
    {
      "cell_type": "code",
      "source": [],
      "metadata": {
        "id": "nYf4FtEjYF6g",
        "colab": {
          "base_uri": "https://localhost:8080/"
        },
        "outputId": "55cddbb6-8ef8-47ed-afc8-bb0481a63daf"
      },
      "execution_count": null,
      "outputs": [
        {
          "output_type": "execute_result",
          "data": {
            "text/plain": [
              "9"
            ]
          },
          "metadata": {},
          "execution_count": 35
        }
      ]
    },
    {
      "cell_type": "markdown",
      "source": [
        "Ćwiczenie 2: Utwórz listę zawierającą liczby i słowa, np. [3, 1, 4, \"apple\", \"orange\"]. Posortuj listę liczb i wydrukuj wynik. Uwaga: pamiętaj o konieczności usunięcia elementów niebędących liczbami przed sortowaniem."
      ],
      "metadata": {
        "id": "lZ33QUH2rtjA"
      }
    },
    {
      "cell_type": "code",
      "source": [
        "# Tworzymy listę zawierającą liczby i słowa\n",
        "lista_mieszana = [5, 10, 1, \"Frida\", \"Marta\", 2]\n",
        "print(lista_mieszana)\n",
        "# Filtrowanie tylko liczb z listy\n",
        "lista_mieszana.pop(3)\n",
        "print(lista_mieszana)\n",
        "lista_mieszana.remove(\"Marta\")\n",
        "print(lista_mieszana)\n",
        "# Sortowanie listy liczb\n",
        "lista_mieszana.sort()\n",
        "print(lista_mieszana)\n",
        "# Drukowanie wyniku\n",
        "print(\"Posortowane1\")\n",
        "print(lista_mieszana)\n",
        "# Drugi sposób\n",
        "lista_mieszana.append(2)\n",
        "print(\"Dodany element\")\n",
        "print(lista_mieszana)\n",
        "print(\"Posortowane2\")\n",
        "sorted(lista_mieszana)"
      ],
      "metadata": {
        "id": "FHagGIkirs1q",
        "colab": {
          "base_uri": "https://localhost:8080/"
        },
        "outputId": "8e693145-865b-4fcf-92a6-23775f7322f5"
      },
      "execution_count": null,
      "outputs": [
        {
          "output_type": "stream",
          "name": "stdout",
          "text": [
            "[5, 10, 1, 'Frida', 'Marta', 2]\n",
            "[5, 10, 1, 'Marta', 2]\n",
            "[5, 10, 1, 2]\n",
            "[1, 2, 5, 10]\n",
            "Posortowane1\n",
            "[1, 2, 5, 10]\n",
            "Dodany element\n",
            "[1, 2, 5, 10, 2]\n",
            "Posortowane2\n"
          ]
        },
        {
          "output_type": "execute_result",
          "data": {
            "text/plain": [
              "[1, 2, 2, 5, 10]"
            ]
          },
          "metadata": {},
          "execution_count": 36
        }
      ]
    },
    {
      "cell_type": "markdown",
      "source": [
        "Ćwiczenie 3:\n",
        "Utwórz listę original_list z kilkoma elementami.\n",
        "Skopiuj tę listę do copied_list używając metody copy().\n",
        "Dodaj do copied_list kilka nowych elementów i pokaż, że original_list pozostała niezmieniona.\n",
        "Rozszerz original_list o nową listę elementów za pomocą metody extend() i wydrukuj obie listy."
      ],
      "metadata": {
        "id": "yeyhaRXOvQJU"
      }
    },
    {
      "cell_type": "code",
      "source": [
        "# Utwórz listę original_list z kilkoma elementami.\n",
        "original_list = [5, 3, 10, 121, 4]\n",
        "print(original_list)\n",
        "# Skopiuj tę listę do copied_list używając metody copy()\n",
        "copied_list = original_list.copy()\n",
        "print(copied_list)\n",
        "# Dodaj do copied_list kilka nowych elementów\n",
        "copied_list.append(111)\n",
        "copied_list.insert(3, 222)\n",
        "# ... i pokaż, że original_list pozostała niezmieniona\n",
        "print(f\"Lista oryginalna: {original_list}\")\n",
        "print(f\"Lista kopia: {copied_list}\")\n",
        "# Rozszerz original_list o nową listę elementów za pomocą metody extend()\n",
        "original_list.extend([333, 444, 555])\n",
        "# ...  i wydrukuj obie listy.\n",
        "print(f\"Lista oryginalna: {original_list}\")\n",
        "print(f\"Lista kopia: {copied_list}\")"
      ],
      "metadata": {
        "id": "TXj9Yrcxu3i9",
        "colab": {
          "base_uri": "https://localhost:8080/"
        },
        "outputId": "5d47b6be-a753-4d6f-e33e-36a64ab6d001"
      },
      "execution_count": null,
      "outputs": [
        {
          "output_type": "stream",
          "name": "stdout",
          "text": [
            "[5, 3, 10, 121, 4]\n",
            "[5, 3, 10, 121, 4]\n",
            "Lista oryginalna: [5, 3, 10, 121, 4]\n",
            "Lista kopia: [5, 3, 10, 222, 121, 4, 111]\n",
            "Lista oryginalna: [5, 3, 10, 121, 4, 333, 444, 555]\n",
            "Lista kopia: [5, 3, 10, 222, 121, 4, 111]\n"
          ]
        }
      ]
    },
    {
      "cell_type": "markdown",
      "source": [
        "Ćwiczenie 4:\n",
        "Utwórz listę zawierającą różne liczby.\n",
        "Użyj metody index() do znalezienia indeksu dowolnego elementu, którego wartość poda użytkownik (możesz dodać prosty input do tego zadania)."
      ],
      "metadata": {
        "id": "pKn8MqhYvXlO"
      }
    },
    {
      "cell_type": "code",
      "source": [
        "# Utwórz listę zawierającą różne liczby.\n",
        "numbers_list = list(range(5, 33))\n",
        "print(numbers_list)\n",
        "# Utwórz listę zawierającą różne liczby.\n",
        "numbers_list = list(range(5, 33))\n",
        "print(numbers_list)\n",
        "wybrany_numer_string = input(\"Podaj liczbę całkowitą od 5 do 32. Wybrano liczbę: \")\n",
        "wybrany_numer_int = int(wybrany_numer_string)\n",
        "print(f\"Wybrana przez Ciebie liczba {wybrany_numer_int} znajduje się na liscie w pozycji: \", numbers_list.index(wybrany_numer_int))"
      ],
      "metadata": {
        "id": "hCjNz62xYXVg",
        "colab": {
          "base_uri": "https://localhost:8080/"
        },
        "outputId": "ba281e45-7a5f-4936-cbf2-97f59b626d0a"
      },
      "execution_count": null,
      "outputs": [
        {
          "output_type": "stream",
          "name": "stdout",
          "text": [
            "[5, 6, 7, 8, 9, 10, 11, 12, 13, 14, 15, 16, 17, 18, 19, 20, 21, 22, 23, 24, 25, 26, 27, 28, 29, 30, 31, 32]\n",
            "[5, 6, 7, 8, 9, 10, 11, 12, 13, 14, 15, 16, 17, 18, 19, 20, 21, 22, 23, 24, 25, 26, 27, 28, 29, 30, 31, 32]\n",
            "Podaj liczbę całkowitą od 5 do 32. Wybrano liczbę: 10\n",
            "Wybrana przez Ciebie liczba 10 znajduje się na liscie w pozycji:  5\n"
          ]
        }
      ]
    },
    {
      "cell_type": "markdown",
      "source": [
        "Ćwiczenie 5:\n",
        "Utwórz listę liczb od 1 do 20.\n",
        "Wykorzystaj slicing, aby wyodrębnić liczby od 5 do 15.\n",
        "Następnie wyodrębnij z tej podlisty co trzeci element.\n",
        "Ostatecznie, spróbuj odwrócić kolejność całej listy za pomocą slicingu."
      ],
      "metadata": {
        "id": "Z6HO13HvY1-M"
      }
    },
    {
      "cell_type": "code",
      "source": [
        "baza = list(range(0, 21, 1))\n",
        "print(baza)\n",
        "krótsza_5_15 = baza[5:16]\n",
        "print(krótsza_5_15)\n",
        "co_trzecia = krótsza_5_15[::3]\n",
        "print(co_trzecia)\n",
        "odwrocona = baza[::-1]\n",
        "print(odwrocona)"
      ],
      "metadata": {
        "id": "8hGhU3SJbN3I",
        "colab": {
          "base_uri": "https://localhost:8080/"
        },
        "outputId": "2af904ae-b1d9-457b-c75d-5736e86a4728"
      },
      "execution_count": null,
      "outputs": [
        {
          "output_type": "stream",
          "name": "stdout",
          "text": [
            "[0, 1, 2, 3, 4, 5, 6, 7, 8, 9, 10, 11, 12, 13, 14, 15, 16, 17, 18, 19, 20]\n",
            "[5, 6, 7, 8, 9, 10, 11, 12, 13, 14, 15]\n",
            "[5, 8, 11, 14]\n",
            "[20, 19, 18, 17, 16, 15, 14, 13, 12, 11, 10, 9, 8, 7, 6, 5, 4, 3, 2, 1, 0]\n"
          ]
        }
      ]
    },
    {
      "cell_type": "markdown",
      "source": [
        "Slowniki"
      ],
      "metadata": {
        "id": "XO2sHkpvxJTT"
      }
    },
    {
      "cell_type": "code",
      "source": [
        "my_dict = {\"name\": \"Alice\",\n",
        "           \"age\": 25,\n",
        "           \"city\": \"New York\",\n",
        "           \"name\": \"Berlin\"}\n",
        "\n",
        "\n",
        "eng2sp = {'one ': 'uno ',\n",
        "          'two ': 'dos ',\n",
        "          'three ': 'tres '}\n",
        "\n",
        "# pusty słownik\n",
        "empty_dict = dict()\n",
        "\n",
        "my_dict"
      ],
      "metadata": {
        "id": "LlJRLoOdxNV0",
        "colab": {
          "base_uri": "https://localhost:8080/"
        },
        "outputId": "e2433e54-2ae4-4ed4-91ee-02711091db96"
      },
      "execution_count": null,
      "outputs": [
        {
          "output_type": "execute_result",
          "data": {
            "text/plain": [
              "{'name': 'Berlin', 'age': 25, 'city': 'New York'}"
            ]
          },
          "metadata": {},
          "execution_count": 33
        }
      ]
    },
    {
      "cell_type": "markdown",
      "source": [
        "Operacje na słownikach"
      ],
      "metadata": {
        "id": "MbXS0bCRza5z"
      }
    },
    {
      "cell_type": "code",
      "source": [
        "# Dostęp do danych\n",
        "\n",
        "my_dict[\"name\"]  # Wydrukuje \"Alice\"\n",
        "my_dict[\"city\"]"
      ],
      "metadata": {
        "id": "GSAZLlBhzcNo",
        "colab": {
          "base_uri": "https://localhost:8080/",
          "height": 36
        },
        "outputId": "7d2d9536-f77a-4f7b-bb50-449046113e39"
      },
      "execution_count": null,
      "outputs": [
        {
          "output_type": "execute_result",
          "data": {
            "text/plain": [
              "'New York'"
            ],
            "application/vnd.google.colaboratory.intrinsic+json": {
              "type": "string"
            }
          },
          "metadata": {},
          "execution_count": 34
        }
      ]
    },
    {
      "cell_type": "code",
      "source": [
        "# Dodawanie i zmiana wartości\n",
        "\n",
        "my_dict[\"age\"] = 26  # Zmienia wartość\n",
        "my_dict\n",
        "my_dict[\"profession\"] = \"Developer\"  # Dodaje nową parę klucz-wartość\n",
        "my_dict\n",
        "\n",
        "\n",
        "# Usuwanie klucza\n",
        "my_dict.pop('age')\n",
        "my_dict\n",
        "\n",
        "# Usuwanie klucza - alternatywnie\n",
        "del my_dict['profession']\n",
        "\n",
        "my_dict"
      ],
      "metadata": {
        "id": "5MYWLH0lzyzV",
        "colab": {
          "base_uri": "https://localhost:8080/"
        },
        "outputId": "65000a1f-eb96-4923-c25c-b83eeadb77e1"
      },
      "execution_count": null,
      "outputs": [
        {
          "output_type": "execute_result",
          "data": {
            "text/plain": [
              "{'name': 'Berlin', 'city': 'New York'}"
            ]
          },
          "metadata": {},
          "execution_count": 36
        }
      ]
    },
    {
      "cell_type": "code",
      "source": [
        "# Metody słownikowe\n",
        "\n",
        "keys = my_dict.keys()  # Zwraca klucze słownika\n",
        "values = my_dict.values()  # Zwraca wartości słownika\n",
        "items = my_dict.items()  # Zwraca pary klucz-wartość\n",
        "\n",
        "\n",
        "#print(keys)\n",
        "#print(values)\n",
        "print(my_dict.items())"
      ],
      "metadata": {
        "id": "JeTs6QEF0C99"
      },
      "execution_count": null,
      "outputs": []
    },
    {
      "cell_type": "code",
      "source": [
        "# Iteracja po elementach słownika\n",
        "for key, value in my_dict.items():\n",
        "    print(key, value)"
      ],
      "metadata": {
        "id": "u9CrF0Ta1sfs"
      },
      "execution_count": null,
      "outputs": []
    },
    {
      "cell_type": "markdown",
      "source": [
        "Zadanie 1:\n",
        "\n",
        "1.1. Tworzenie i dodawanie elementów\n",
        "Utwórz słownik o nazwie samochod, który zawiera klucze marka i model z wartościami Toyota i Corolla odpowiednio.\n",
        "Dodaj do słownika klucz rok z wartością 2022.\n",
        "\n",
        "1.2: Modyfikacja i dostęp do wartości\n",
        "Zaktualizuj wartość klucza model na Camry w słowniku samochod.\n",
        "Wydrukuj wartość klucza marka z słownika.\n",
        "\n",
        "1.3: Usuwanie elementów\n",
        "Usuń klucz rok ze słownika samochod używając metody pop().\n",
        "\n",
        "\n",
        "1.4: Przechodzenie po słowniku\n",
        "Użyj pętli for do wydrukowania wszystkich kluczy i wartości w słowniku samochod.\n"
      ],
      "metadata": {
        "id": "8Sp9Lq8g2Hep"
      }
    },
    {
      "cell_type": "code",
      "source": [
        "#1.1\n",
        "#1.1\n",
        "samochod = {\n",
        "    \"marka\":\"Toyota\",\n",
        "    \"model\":\"Corolla\"\n",
        "}\n",
        "print(samochod)\n",
        "samochod[\"rok\"]=\"2022\"\n",
        "print(samochod)\n",
        "\n",
        "#1.2\n",
        "samochod[\"model\"]=\"Camry\"\n",
        "print(samochod)\n",
        "samochod[\"marka\"]\n",
        "\n",
        "\n",
        "#1.3\n",
        "samochod.pop(\"rok\")\n",
        "print(samochod)\n",
        "\n",
        "#1.4\n",
        "\n",
        "\n"
      ],
      "metadata": {
        "id": "ESKhPjg82N4s",
        "colab": {
          "base_uri": "https://localhost:8080/"
        },
        "outputId": "d1873c50-0d56-4fce-88ce-05b29daaa7c1"
      },
      "execution_count": null,
      "outputs": [
        {
          "output_type": "stream",
          "name": "stdout",
          "text": [
            "{'marka': 'Toyota', 'model': 'Corolla'}\n",
            "{'marka': 'Toyota', 'model': 'Corolla', 'rok': '2022'}\n",
            "{'marka': 'Toyota', 'model': 'Camry', 'rok': '2022'}\n",
            "{'marka': 'Toyota', 'model': 'Camry'}\n"
          ]
        }
      ]
    },
    {
      "cell_type": "markdown",
      "source": [
        "Zadanie 2: Tworzenie biblioteki\n",
        "\n",
        "2.1. Utwórz słownik biblioteka z trzema wpisami, gdzie klucze to numery ISBN, a wartości to tytuły książek:\n",
        "ISBN: '978-83-01-19847-9', Tytuł: 'Python od podstaw'\n",
        "ISBN: '978-83-283-0235-6', Tytuł: 'Data Science od podstaw'\n",
        "ISBN: '978-83-246-1175-1', Tytuł: 'Zarządzanie projektem'\n",
        "Zadanie 2: Dodawanie nowej książki\n",
        "\n",
        "2.2. Dodaj nową książkę do biblioteka:\n",
        "ISBN: '978-83-283-5871-6', Tytuł: 'Sztuczna inteligencja'\n",
        "Zadanie 3: Modyfikacja tytułu książki\n",
        "\n",
        "2.3 Zmień tytuł książki 'Data Science od podstaw' na 'Podstawy Data Science'.\n",
        "Zadanie 4: Usuwanie książki\n",
        "\n",
        "2.4 Usuń książkę o ISBN '978-83-01-19847-9' używając metody pop().\n",
        "Zadanie 5: Wyświetlanie wszystkich książek\n",
        "\n",
        "2.5 Wyświetl wszystkie pozostałe książki w biblioteka, pokazując ich ISBN i tytuł."
      ],
      "metadata": {
        "id": "WaiqxGfd1h52"
      }
    },
    {
      "cell_type": "code",
      "source": [],
      "metadata": {
        "id": "ck99QzOa1uUe"
      },
      "execution_count": null,
      "outputs": []
    },
    {
      "cell_type": "markdown",
      "source": [
        "ZAAWANASOWANE - Tworzenie biblioteki\n",
        "\n",
        "Utwórz słownik biblioteka z dwoma książkami:\n",
        "ISBN: '978-83-01-19847-2', Tytuł: 'Czysty Kod', Autor: 'Robert C. Martin', Rok: 2008\n",
        "ISBN: '978-83-283-5730-8', Tytuł: 'Wzorce projektowe', Autor: 'Erich Gamma', Rok: 1994\n",
        "Zadanie 2: Dodawanie książki\n",
        "\n",
        "Dodaj nową książkę do biblioteka:\n",
        "ISBN: '978-83-283-0235-9', Tytuł: 'Algorytmy', Autor: 'Robert Sedgewick', Rok: 2011\n",
        "Zadanie 3: Modyfikacja danych książki\n",
        "\n",
        "Zaktualizuj rok wydania książki 'Wzorce projektowe' na 2002.\n",
        "Zadanie 4: Usuwanie książki\n",
        "\n",
        "Usuń książkę o ISBN '978-83-01-19847-2' używając metody pop().\n",
        "Zadanie 5: Wyświetlanie informacji o książkach\n",
        "\n",
        "Wyświetl wszystkie książki w biblioteka, pokazując ISBN, tytuł, autora i rok wydania."
      ],
      "metadata": {
        "id": "Qe-fjS2e1zGC"
      }
    },
    {
      "cell_type": "code",
      "source": [
        "# Zadanie 1: Tworzenie biblioteki\n",
        "\n",
        "\n",
        "# Zadanie 2: Dodawanie książki\n",
        "\n",
        "# Zadanie 3: Modyfikacja danych książki\n",
        "\n",
        "# Zadanie 4: Usuwanie książki\n",
        "\n",
        "# Zadanie 5: Wyświetlanie informacji o książkach\n",
        "\n",
        "# Wyświetlanie informacji o usuniętej książce (opcjonalnie)\n"
      ],
      "metadata": {
        "id": "xnJ5tvQr15E2"
      },
      "execution_count": null,
      "outputs": []
    },
    {
      "cell_type": "markdown",
      "source": [
        "Krotki (Tuple)"
      ],
      "metadata": {
        "id": "34MBb88d8Jiz"
      }
    },
    {
      "cell_type": "code",
      "source": [
        "my_tuple = (1, 2, 3 , 1)\n",
        "single_element_tuple = (4,)  # Bez przecinka Python traktuje ('a') jako wyrażenie z napisem w nawiasach, które waluuje się do napisu\n",
        "\n",
        "#pusta krotka\n",
        "t = tuple()\n",
        "print(t)\n",
        "\n",
        "#Jeśli argumentem jest sekwencja (napis, lista lub krotka), to wynikiem wywołania\n",
        "#funkcji tuple() jest krotka z elementami podanej sekwencji:\n",
        "t = tuple ('pies')\n",
        "print(t)\n"
      ],
      "metadata": {
        "id": "TNl7G5WM8Gm0"
      },
      "execution_count": null,
      "outputs": []
    },
    {
      "cell_type": "code",
      "source": [
        "# Dostęp do elementów\n",
        "print(my_tuple[0])  # Dostęp do pierwszego elementu krotki\n"
      ],
      "metadata": {
        "id": "9vUcJPOM8wb8"
      },
      "execution_count": null,
      "outputs": []
    },
    {
      "cell_type": "code",
      "source": [
        "# wybieranie elementów krotki\n",
        "print(t[1:3])"
      ],
      "metadata": {
        "id": "AvVKa7FWY75R"
      },
      "execution_count": null,
      "outputs": []
    },
    {
      "cell_type": "code",
      "source": [
        "# Operacje na krotkach\n",
        "a, b, c , d= my_tuple  # Rozpakowanie krotki\n",
        "print(a, b, c)\n",
        "print(a)\n",
        "\n",
        "p,i,e,s = t\n",
        "print(p)"
      ],
      "metadata": {
        "id": "mA4sfi2-83DP"
      },
      "execution_count": null,
      "outputs": []
    },
    {
      "cell_type": "code",
      "source": [
        "#print(my_tuple.count(1))  # Zwraca, ile razy element występuje w krotce\n",
        "print(my_tuple.index(2))  # Zwraca indeks pierwszego wystąpienia elementu"
      ],
      "metadata": {
        "id": "cX_R1WUd9V-V"
      },
      "execution_count": null,
      "outputs": []
    },
    {
      "cell_type": "code",
      "source": [
        "# Modyfikacja krotki\n",
        "#t[0] = 'A'\n",
        "t.extend([1,2,3])"
      ],
      "metadata": {
        "id": "o5xoNl4zAcIk"
      },
      "execution_count": null,
      "outputs": []
    },
    {
      "cell_type": "code",
      "source": [
        "#Sprawdzenie ile mamy elementow w krotce\n",
        "\n",
        "len(colors_tuple)"
      ],
      "metadata": {
        "id": "SkpPY9X6a576"
      },
      "execution_count": null,
      "outputs": []
    },
    {
      "cell_type": "markdown",
      "source": [
        "Ćwiczenie: Utwórz krotkę zawierającą trzy różne kolory. Sprawdź ile jest elementów w krotce.\n",
        "Wydrukuj całą krotkę i każdy kolor osobno."
      ],
      "metadata": {
        "id": "M2nB_secB6Zc"
      }
    },
    {
      "cell_type": "code",
      "source": [],
      "metadata": {
        "id": "8e5_hDBRB_GS"
      },
      "execution_count": null,
      "outputs": []
    }
  ]
}