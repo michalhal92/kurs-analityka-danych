{
  "nbformat": 4,
  "nbformat_minor": 0,
  "metadata": {
    "colab": {
      "provenance": [],
      "include_colab_link": true
    },
    "kernelspec": {
      "name": "python3",
      "display_name": "Python 3"
    },
    "language_info": {
      "name": "python"
    }
  },
  "cells": [
    {
      "cell_type": "markdown",
      "metadata": {
        "id": "view-in-github",
        "colab_type": "text"
      },
      "source": [
        "<a href=\"https://colab.research.google.com/github/michalhal92/kurs-analityka-danych/blob/main/Python_1.ipynb\" target=\"_parent\"><img src=\"https://colab.research.google.com/assets/colab-badge.svg\" alt=\"Open In Colab\"/></a>"
      ]
    },
    {
      "cell_type": "markdown",
      "source": [
        "Operacje arytmetyczne"
      ],
      "metadata": {
        "id": "Pid4DJI6o0UR"
      }
    },
    {
      "cell_type": "markdown",
      "source": [
        "1. Podstawowe operacje"
      ],
      "metadata": {
        "id": "PAaznsEDZvV9"
      }
    },
    {
      "cell_type": "code",
      "execution_count": null,
      "metadata": {
        "id": "3KgRk7m8yCqY",
        "colab": {
          "base_uri": "https://localhost:8080/"
        },
        "outputId": "b2459c72-d382-4856-a5e7-a3b1e8764122"
      },
      "outputs": [
        {
          "output_type": "stream",
          "name": "stdout",
          "text": [
            "Hello!\n"
          ]
        }
      ],
      "source": [
        "print(\"Hello!\")"
      ]
    },
    {
      "cell_type": "markdown",
      "source": [],
      "metadata": {
        "id": "TyE0cE8EIj_D"
      }
    },
    {
      "cell_type": "code",
      "source": [
        "4 * 3"
      ],
      "metadata": {
        "id": "gOpyYi502J7U",
        "colab": {
          "base_uri": "https://localhost:8080/"
        },
        "outputId": "70f90d63-4865-42cf-cc31-e382cabba4f0"
      },
      "execution_count": null,
      "outputs": [
        {
          "output_type": "execute_result",
          "data": {
            "text/plain": [
              "12"
            ]
          },
          "metadata": {},
          "execution_count": 2
        }
      ]
    },
    {
      "cell_type": "code",
      "source": [
        "2 + 7"
      ],
      "metadata": {
        "id": "q1YHJ-C0hHdM",
        "colab": {
          "base_uri": "https://localhost:8080/"
        },
        "outputId": "bd557f27-528c-4577-ddfd-7a0ac4b694af"
      },
      "execution_count": null,
      "outputs": [
        {
          "output_type": "execute_result",
          "data": {
            "text/plain": [
              "9"
            ]
          },
          "metadata": {},
          "execution_count": 6
        }
      ]
    },
    {
      "cell_type": "code",
      "source": [
        "21 // 5"
      ],
      "metadata": {
        "id": "YbOmeQK0qb49",
        "colab": {
          "base_uri": "https://localhost:8080/"
        },
        "outputId": "69f2ecd3-d5e6-419e-a890-abbb55952d94"
      },
      "execution_count": null,
      "outputs": [
        {
          "output_type": "execute_result",
          "data": {
            "text/plain": [
              "4"
            ]
          },
          "metadata": {},
          "execution_count": 10
        }
      ]
    },
    {
      "cell_type": "markdown",
      "source": [
        "Podstawowe typy danych"
      ],
      "metadata": {
        "id": "f_-hWZhz0fl7"
      }
    },
    {
      "cell_type": "code",
      "source": [
        "type(30)"
      ],
      "metadata": {
        "id": "aaRagMpF0VqD",
        "colab": {
          "base_uri": "https://localhost:8080/"
        },
        "outputId": "9b0a9a3f-a721-426f-96f8-77f0f7a4ce98"
      },
      "execution_count": null,
      "outputs": [
        {
          "output_type": "execute_result",
          "data": {
            "text/plain": [
              "int"
            ]
          },
          "metadata": {},
          "execution_count": 11
        }
      ]
    },
    {
      "cell_type": "code",
      "source": [
        "type(\"Hello\")"
      ],
      "metadata": {
        "id": "Lfh70G2T0pvx",
        "colab": {
          "base_uri": "https://localhost:8080/"
        },
        "outputId": "921dca18-b8a0-42f3-cb77-2e7038f53265"
      },
      "execution_count": null,
      "outputs": [
        {
          "output_type": "execute_result",
          "data": {
            "text/plain": [
              "str"
            ]
          },
          "metadata": {},
          "execution_count": 12
        }
      ]
    },
    {
      "cell_type": "code",
      "source": [
        "type(False)"
      ],
      "metadata": {
        "id": "KAcLjdAe0q2_",
        "colab": {
          "base_uri": "https://localhost:8080/"
        },
        "outputId": "283e4e12-1202-46b2-e4ec-21a908e67146"
      },
      "execution_count": null,
      "outputs": [
        {
          "output_type": "execute_result",
          "data": {
            "text/plain": [
              "bool"
            ]
          },
          "metadata": {},
          "execution_count": 13
        }
      ]
    },
    {
      "cell_type": "code",
      "source": [
        "type(3.14)"
      ],
      "metadata": {
        "id": "0BO4Ofag0r5Y",
        "colab": {
          "base_uri": "https://localhost:8080/"
        },
        "outputId": "1d99b534-58ba-4d56-a754-e81cf6d88c37"
      },
      "execution_count": null,
      "outputs": [
        {
          "output_type": "execute_result",
          "data": {
            "text/plain": [
              "float"
            ]
          },
          "metadata": {},
          "execution_count": 14
        }
      ]
    },
    {
      "cell_type": "markdown",
      "source": [
        "Definiowanie zmiennych"
      ],
      "metadata": {
        "id": "9Ggr8CG51VAZ"
      }
    },
    {
      "cell_type": "code",
      "source": [
        "age = 30  # int\n",
        "temperature = 20.5  # float\n",
        "name = \"Alice\"  # str\n",
        "is_valid = True  # bool"
      ],
      "metadata": {
        "id": "bgD56lytcWW2"
      },
      "execution_count": null,
      "outputs": []
    },
    {
      "cell_type": "code",
      "source": [
        "# Proste operacje matematyczne\n",
        "sum = age + 5\n",
        "product = temperature * 2\n",
        "greeting = \"Hello, \" + name  # konkatenacja stringów\n",
        "\n",
        "\n",
        "print(\"35 41.0 Hello, Alice\")\n",
        "print(sum, product, greeting)"
      ],
      "metadata": {
        "id": "hZq7eb1_1P_m",
        "colab": {
          "base_uri": "https://localhost:8080/"
        },
        "outputId": "6fd44d93-8523-49ba-bdfe-bf61c6412d2c"
      },
      "execution_count": null,
      "outputs": [
        {
          "output_type": "stream",
          "name": "stdout",
          "text": [
            "35 41.0 Hello, Alice\n",
            "35 41.0 Hello, Alice\n"
          ]
        }
      ]
    },
    {
      "cell_type": "code",
      "source": [
        "print(f\"My name is {name}\") #używanie zmiennych w deklaracji print"
      ],
      "metadata": {
        "id": "Eu6QAr5seEPk",
        "colab": {
          "base_uri": "https://localhost:8080/"
        },
        "outputId": "090b2e1b-2716-4b3b-ba43-386bf7a7af57"
      },
      "execution_count": null,
      "outputs": [
        {
          "output_type": "stream",
          "name": "stdout",
          "text": [
            "My name is Alice\n"
          ]
        }
      ]
    },
    {
      "cell_type": "code",
      "source": [
        "# @title Domyślny tekst tytułu\n",
        " #Funkcje konwersji typu\n",
        "str(sum)\n",
        "float(sum)\n",
        "int(sum)\n",
        "bool(sum)"
      ],
      "metadata": {
        "id": "8wHKEY8W4Ofe",
        "colab": {
          "base_uri": "https://localhost:8080/"
        },
        "outputId": "741a6e0e-8a75-434a-f2af-351cc22a1536"
      },
      "execution_count": null,
      "outputs": [
        {
          "output_type": "execute_result",
          "data": {
            "text/plain": [
              "True"
            ]
          },
          "metadata": {},
          "execution_count": 19
        }
      ]
    },
    {
      "cell_type": "code",
      "source": [
        "bool(2)"
      ],
      "metadata": {
        "colab": {
          "base_uri": "https://localhost:8080/"
        },
        "id": "RUnnJBMaM_Gk",
        "outputId": "2e9422c9-5d8d-429c-d9ed-065174621bb6"
      },
      "execution_count": null,
      "outputs": [
        {
          "output_type": "execute_result",
          "data": {
            "text/plain": [
              "True"
            ]
          },
          "metadata": {},
          "execution_count": 26
        }
      ]
    },
    {
      "cell_type": "code",
      "source": [
        "a = 10\n",
        "b = 3\n",
        "a + b"
      ],
      "metadata": {
        "id": "wn7Dnug_ohNA",
        "colab": {
          "base_uri": "https://localhost:8080/"
        },
        "outputId": "f6823953-ace1-479c-9613-696272edbb69"
      },
      "execution_count": null,
      "outputs": [
        {
          "output_type": "execute_result",
          "data": {
            "text/plain": [
              "13"
            ]
          },
          "metadata": {},
          "execution_count": 28
        }
      ]
    },
    {
      "cell_type": "code",
      "source": [
        "print(\"a + b =\", a + b)\n",
        "print(\"a - b =\", a - b)\n",
        "print(\"a * b =\", a * b)\n",
        "print(\"a / b =\", a / b)\n",
        "print(\"a // b =\", a // b)\n",
        "print(\"a % b =\", a % b)\n",
        "print(\"a ** b =\", a ** b)\n",
        "\n"
      ],
      "metadata": {
        "id": "VnUpxpRcfvy7",
        "colab": {
          "base_uri": "https://localhost:8080/"
        },
        "outputId": "961598c2-54b7-4f71-f4b5-8946e0db7d18"
      },
      "execution_count": null,
      "outputs": [
        {
          "output_type": "stream",
          "name": "stdout",
          "text": [
            "a + b = 13\n",
            "a - b = 7\n",
            "a * b = 30\n",
            "a / b = 3.3333333333333335\n",
            "a // b = 3\n",
            "a % b = 1\n",
            "a ** b = 1000\n"
          ]
        }
      ]
    },
    {
      "cell_type": "markdown",
      "source": [
        "Operacja input\n",
        "\n"
      ],
      "metadata": {
        "id": "caTeWdMz2imu"
      }
    },
    {
      "cell_type": "code",
      "source": [
        "# Proste interakcje\n",
        "imie = input(\"Jak masz na imię? \")\n",
        "print(\"Miło cię poznać,\", imie, \"!\")"
      ],
      "metadata": {
        "id": "EVrA1rtk2iXO",
        "colab": {
          "base_uri": "https://localhost:8080/"
        },
        "outputId": "84fdfaac-fb30-4c39-bbd6-f34fe1551d7a"
      },
      "execution_count": null,
      "outputs": [
        {
          "output_type": "stream",
          "name": "stdout",
          "text": [
            "Jak masz na imię? Michał\n",
            "Miło cię poznać, Michał !\n"
          ]
        }
      ]
    },
    {
      "cell_type": "code",
      "source": [
        "# Pobieranie danych wejściowych od użytkownika\n",
        "number1 = input(\"Wprowadź pierwszą liczbę: \")\n",
        "number2 = input(\"Wprowadź drugą liczbę: \")\n",
        "\n",
        "# Konwersja stringów na liczby całkowite\n",
        "number1 = int(number1)\n",
        "number2 = int(number2)\n",
        "\n",
        "# Obliczenie sumy\n",
        "sum = number1 + number2\n",
        "\n",
        "# Wyświetlenie wyniku\n",
        "print(f\"Suma {number1} i {number2} wynosi {sum}.\")\n"
      ],
      "metadata": {
        "id": "5DI_Ie0P3JyY",
        "colab": {
          "base_uri": "https://localhost:8080/"
        },
        "outputId": "8a32908b-6bdd-4d53-d0d6-7c128ab01146"
      },
      "execution_count": null,
      "outputs": [
        {
          "output_type": "stream",
          "name": "stdout",
          "text": [
            "Wprowadź pierwszą liczbę: 2\n",
            "Wprowadź drugą liczbę: 5\n",
            "Suma 2 i 5 wynosi 7.\n"
          ]
        }
      ]
    },
    {
      "cell_type": "markdown",
      "source": [
        "Ćwiczenie 1: Tworzenie i używanie zmiennych\n",
        "Stwórz zmienne age, height, i name przechowujące odpowiednio wiek (liczba całkowita), wzrost (liczba zmiennoprzecinkowa) i imię (łańcuch znaków).\n",
        "Wydrukuj na ekranie zdanie zawierające wszystkie te zmienne, np. \"John ma 30 lat i 1.75 m wzrostu.\""
      ],
      "metadata": {
        "id": "M1_JjuYGtXsw"
      }
    },
    {
      "cell_type": "code",
      "source": [
        "age = 30\n",
        "height = 1.75\n",
        "name = \"John\"\n",
        "\n",
        "print(f\"{name} ma {age} lat i {height} m wzrostu.\")"
      ],
      "metadata": {
        "id": "eojsmTaDs_OM",
        "colab": {
          "base_uri": "https://localhost:8080/"
        },
        "outputId": "34063fec-b6bb-4339-f65b-a4357aca90ed"
      },
      "execution_count": null,
      "outputs": [
        {
          "output_type": "stream",
          "name": "stdout",
          "text": [
            "John ma 30 lat i 1.75 m wzrostu.\n"
          ]
        }
      ]
    },
    {
      "cell_type": "markdown",
      "source": [
        "Ćwiczenie 2: Operacje na zmiennych.\n",
        "Stwórz dwie zmienne liczbowe, number1 i number2.\n",
        "Oblicz i wydrukuj ich sumę, różnicę, iloczyn i iloraz.\n"
      ],
      "metadata": {
        "id": "VxImPlhgtudR"
      }
    },
    {
      "cell_type": "code",
      "source": [
        "number1 = 5\n",
        "number2 = 10\n",
        "\n",
        "print(f\"Suma number1 i number2: \", number1 + number2)\n",
        "print(f\"Różnica number1 i number2: \", number1 - number2)\n",
        "print(f\"Iloczyn number1 i number2: \", number1 * number2)\n",
        "print(f\"Iloraz number1 i number2: \", number1 / number2)"
      ],
      "metadata": {
        "id": "fBO9zwZIty_T",
        "colab": {
          "base_uri": "https://localhost:8080/"
        },
        "outputId": "d2664db6-a85b-433e-cdd1-3016092037f5"
      },
      "execution_count": null,
      "outputs": [
        {
          "output_type": "stream",
          "name": "stdout",
          "text": [
            "Suma number1 i number2:  15\n",
            "Różnica number1 i number2:  -5\n",
            "Iloczyn number1 i number2:  50\n",
            "Iloraz number1 i number2:  0.5\n"
          ]
        }
      ]
    },
    {
      "cell_type": "markdown",
      "source": [
        "Ćwiczenie 3: Stwórz dwie zmienne tekstowe, greeting i city.\n",
        "Połącz je w jedno zdanie, np. \"Hello from New York\", i wydrukuj wynik.\n"
      ],
      "metadata": {
        "id": "jU33gz1skWgF"
      }
    },
    {
      "cell_type": "code",
      "source": [
        "greeting = \"Hello\"\n",
        "city = \"New York\"\n",
        "\n",
        "print(f\"{greeting} from {city}\")"
      ],
      "metadata": {
        "id": "PYJjpjlZTW8q",
        "colab": {
          "base_uri": "https://localhost:8080/"
        },
        "outputId": "b635dadf-35c4-4cb5-ab9a-fa570a722a1f"
      },
      "execution_count": null,
      "outputs": [
        {
          "output_type": "stream",
          "name": "stdout",
          "text": [
            "Hello from New York\n"
          ]
        }
      ]
    },
    {
      "cell_type": "markdown",
      "source": [
        "Ćwiczenie 4: Zdefiniuj zmienne length i width z przykładowymi wartościami dla długości i szerokości prostokąta.\n",
        "Oblicz pole prostokąta i przypisz wynik do zmiennej area.\n",
        "Wydrukuj wynik w formacie: \"Pole prostokąta o wymiarach [length] x [width] wynosi [area].\"\n"
      ],
      "metadata": {
        "id": "XCnCGcmvyI30"
      }
    },
    {
      "cell_type": "code",
      "source": [
        "length = 10\n",
        "width = 20\n",
        "area = length * width\n",
        "\n",
        "print(f\"Pole prostokąta o wymiarach {length} x {width} wynosi {area}.\")\n"
      ],
      "metadata": {
        "id": "ge6fTWjjz4J3",
        "colab": {
          "base_uri": "https://localhost:8080/"
        },
        "outputId": "3734bf24-ffc6-4736-c14d-1b21b611c83c"
      },
      "execution_count": null,
      "outputs": [
        {
          "output_type": "stream",
          "name": "stdout",
          "text": [
            "Pole prostokąta o wymiarach 10 x 20 wynosi 200.\n"
          ]
        }
      ]
    },
    {
      "cell_type": "markdown",
      "source": [
        "Ćwiczenie 5:\n",
        "Zdefiniuj zmienną celsius z przykładową wartością temperatury w stopniach Celsjusza.\n",
        "Oblicz odpowiednik w stopniach Fahrenheita według wzoru\n",
        "𝐹\n",
        "=\n",
        "𝐶\n",
        "×\n",
        "1.8\n",
        "+\n",
        "32\n",
        "Wydrukuj wynik w formacie: \"[celsius] stopni Celsjusza to [fahrenheit] stopni Fahrenheita.\""
      ],
      "metadata": {
        "id": "NEPm36QkzUAA"
      }
    },
    {
      "cell_type": "code",
      "source": [
        "celsius = 20\n",
        "farenheit = celsius * 1.8 + 32\n",
        "print(f\"{celsius} stopni Celsjusza to {farenheit} stopni Fahrenheita.\")"
      ],
      "metadata": {
        "id": "sP25odqzzTqt",
        "colab": {
          "base_uri": "https://localhost:8080/"
        },
        "outputId": "0e21c5e9-de82-4380-f947-97c1971486e9"
      },
      "execution_count": null,
      "outputs": [
        {
          "output_type": "stream",
          "name": "stdout",
          "text": [
            "20 stopni Celsjusza to 68.0 stopni Fahrenheita.\n"
          ]
        }
      ]
    },
    {
      "cell_type": "markdown",
      "source": [
        "Ćwiczenie 6: Zdefiniuj trzy zmienne z ocenami: grade1, grade2, grade3.\n",
        "Oblicz średnią tych ocen.\n",
        "Wydrukuj wynik w formacie: \"Średnia ocen [grade1], [grade2], [grade3] wynosi [average].\""
      ],
      "metadata": {
        "id": "yaGxO2o7zmtW"
      }
    },
    {
      "cell_type": "code",
      "source": [
        "grade1 = 1\n",
        "grade2 = 2\n",
        "grade3 = 3\n",
        "\n",
        "averege = (grade1 + grade2 + grade3) / 3\n",
        "\n",
        "print(f\"Średnia ocen {grade1}, {grade2}, {grade3} wynosi {averege}.\")\n"
      ],
      "metadata": {
        "id": "32P9eVay3b_P",
        "colab": {
          "base_uri": "https://localhost:8080/"
        },
        "outputId": "fbdff8d0-a038-4ae8-88fa-360509bbd0d9"
      },
      "execution_count": null,
      "outputs": [
        {
          "output_type": "stream",
          "name": "stdout",
          "text": [
            "Średnia ocen 1, 2, 3 wynosi 2.0.\n"
          ]
        }
      ]
    },
    {
      "cell_type": "markdown",
      "source": [
        "Ćwiczenie 7: Napisz program, który prosi użytkownika o wprowadzenie roku swojego urodzenia.\n",
        "Oblicz i wydrukuj, ile lat użytkownik skończy w bieżącym roku.\n",
        "Wykorzystaj aktualny rok jako stałą, np. current_year = 2023.\n",
        "\n",
        "Wskazówki:\n",
        "Użyj funkcji input() do pobrania roku urodzenia i int() do konwersji na liczbę całkowitą.\n",
        "Przykład obliczeń: age = current_year - birth_year\n",
        "Zachęć uczestników do dodania instrukcji, która wydrukuje wynik w formacie: \"W 2023 roku będziesz mieć X lat.\""
      ],
      "metadata": {
        "id": "g1vLw3MZ3crU"
      }
    },
    {
      "cell_type": "code",
      "source": [
        "birth_year = input(\"Podaj rok urodzenia. \")\n",
        "birth_year = int(birth_year)\n",
        "current_year = 2025\n",
        "age = current_year - birth_year\n",
        "\n",
        "print(f\"W {current_year} roku będziesz mieć {age} lat.\")"
      ],
      "metadata": {
        "id": "0IBAzvnj3pBH",
        "colab": {
          "base_uri": "https://localhost:8080/"
        },
        "outputId": "65cbfc70-6119-4523-e385-7d8a503eeecf"
      },
      "execution_count": null,
      "outputs": [
        {
          "output_type": "stream",
          "name": "stdout",
          "text": [
            "Podaj rok urodzenia. 1992\n",
            "W 2025 roku będziesz mieć 33 lat.\n"
          ]
        }
      ]
    }
  ]
}